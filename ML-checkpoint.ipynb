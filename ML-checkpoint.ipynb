{
 "cells": [
  {
   "cell_type": "code",
   "execution_count": 1,
   "id": "4ea46d69",
   "metadata": {},
   "outputs": [],
   "source": [
    "import pandas as pd"
   ]
  },
  {
   "cell_type": "code",
   "execution_count": null,
   "id": "f533f564",
   "metadata": {},
   "outputs": [],
   "source": []
  },
  {
   "cell_type": "code",
   "execution_count": 2,
   "id": "96cdd3c8",
   "metadata": {},
   "outputs": [
    {
     "data": {
      "text/html": [
       "<div>\n",
       "<style scoped>\n",
       "    .dataframe tbody tr th:only-of-type {\n",
       "        vertical-align: middle;\n",
       "    }\n",
       "\n",
       "    .dataframe tbody tr th {\n",
       "        vertical-align: top;\n",
       "    }\n",
       "\n",
       "    .dataframe thead th {\n",
       "        text-align: right;\n",
       "    }\n",
       "</style>\n",
       "<table border=\"1\" class=\"dataframe\">\n",
       "  <thead>\n",
       "    <tr style=\"text-align: right;\">\n",
       "      <th></th>\n",
       "      <th>diameter</th>\n",
       "      <th>weight</th>\n",
       "      <th>FruitName</th>\n",
       "    </tr>\n",
       "  </thead>\n",
       "  <tbody>\n",
       "    <tr>\n",
       "      <th>0</th>\n",
       "      <td>3.0</td>\n",
       "      <td>30</td>\n",
       "      <td>Banana</td>\n",
       "    </tr>\n",
       "    <tr>\n",
       "      <th>1</th>\n",
       "      <td>6.0</td>\n",
       "      <td>100</td>\n",
       "      <td>Apple</td>\n",
       "    </tr>\n",
       "    <tr>\n",
       "      <th>2</th>\n",
       "      <td>6.1</td>\n",
       "      <td>95</td>\n",
       "      <td>Apple</td>\n",
       "    </tr>\n",
       "    <tr>\n",
       "      <th>3</th>\n",
       "      <td>3.2</td>\n",
       "      <td>35</td>\n",
       "      <td>Banana</td>\n",
       "    </tr>\n",
       "    <tr>\n",
       "      <th>4</th>\n",
       "      <td>5.5</td>\n",
       "      <td>80</td>\n",
       "      <td>Apple</td>\n",
       "    </tr>\n",
       "    <tr>\n",
       "      <th>5</th>\n",
       "      <td>7.1</td>\n",
       "      <td>120</td>\n",
       "      <td>Banana</td>\n",
       "    </tr>\n",
       "    <tr>\n",
       "      <th>6</th>\n",
       "      <td>2.5</td>\n",
       "      <td>60</td>\n",
       "      <td>Banana</td>\n",
       "    </tr>\n",
       "    <tr>\n",
       "      <th>7</th>\n",
       "      <td>2.3</td>\n",
       "      <td>100</td>\n",
       "      <td>Banana</td>\n",
       "    </tr>\n",
       "    <tr>\n",
       "      <th>8</th>\n",
       "      <td>4.8</td>\n",
       "      <td>70</td>\n",
       "      <td>Apple</td>\n",
       "    </tr>\n",
       "    <tr>\n",
       "      <th>9</th>\n",
       "      <td>4.8</td>\n",
       "      <td>79</td>\n",
       "      <td>Apple</td>\n",
       "    </tr>\n",
       "    <tr>\n",
       "      <th>10</th>\n",
       "      <td>5.8</td>\n",
       "      <td>120</td>\n",
       "      <td>Apple</td>\n",
       "    </tr>\n",
       "    <tr>\n",
       "      <th>11</th>\n",
       "      <td>2.6</td>\n",
       "      <td>85</td>\n",
       "      <td>Banana</td>\n",
       "    </tr>\n",
       "    <tr>\n",
       "      <th>12</th>\n",
       "      <td>6.0</td>\n",
       "      <td>110</td>\n",
       "      <td>Apple</td>\n",
       "    </tr>\n",
       "    <tr>\n",
       "      <th>13</th>\n",
       "      <td>6.3</td>\n",
       "      <td>95</td>\n",
       "      <td>Apple</td>\n",
       "    </tr>\n",
       "    <tr>\n",
       "      <th>14</th>\n",
       "      <td>3.0</td>\n",
       "      <td>40</td>\n",
       "      <td>Banana</td>\n",
       "    </tr>\n",
       "    <tr>\n",
       "      <th>15</th>\n",
       "      <td>3.5</td>\n",
       "      <td>25</td>\n",
       "      <td>Banana</td>\n",
       "    </tr>\n",
       "    <tr>\n",
       "      <th>16</th>\n",
       "      <td>5.5</td>\n",
       "      <td>100</td>\n",
       "      <td>Apple</td>\n",
       "    </tr>\n",
       "    <tr>\n",
       "      <th>17</th>\n",
       "      <td>7.5</td>\n",
       "      <td>120</td>\n",
       "      <td>Apple</td>\n",
       "    </tr>\n",
       "    <tr>\n",
       "      <th>18</th>\n",
       "      <td>2.5</td>\n",
       "      <td>50</td>\n",
       "      <td>Banana</td>\n",
       "    </tr>\n",
       "    <tr>\n",
       "      <th>19</th>\n",
       "      <td>2.7</td>\n",
       "      <td>40</td>\n",
       "      <td>Banana</td>\n",
       "    </tr>\n",
       "    <tr>\n",
       "      <th>20</th>\n",
       "      <td>4.8</td>\n",
       "      <td>90</td>\n",
       "      <td>Apple</td>\n",
       "    </tr>\n",
       "    <tr>\n",
       "      <th>21</th>\n",
       "      <td>5.8</td>\n",
       "      <td>90</td>\n",
       "      <td>Apple</td>\n",
       "    </tr>\n",
       "  </tbody>\n",
       "</table>\n",
       "</div>"
      ],
      "text/plain": [
       "    diameter  weight FruitName\n",
       "0        3.0      30    Banana\n",
       "1        6.0     100     Apple\n",
       "2        6.1      95     Apple\n",
       "3        3.2      35    Banana\n",
       "4        5.5      80     Apple\n",
       "5        7.1     120    Banana\n",
       "6        2.5      60    Banana\n",
       "7        2.3     100    Banana\n",
       "8        4.8      70     Apple\n",
       "9        4.8      79     Apple\n",
       "10       5.8     120     Apple\n",
       "11       2.6      85    Banana\n",
       "12       6.0     110     Apple\n",
       "13       6.3      95     Apple\n",
       "14       3.0      40    Banana\n",
       "15       3.5      25    Banana\n",
       "16       5.5     100     Apple\n",
       "17       7.5     120     Apple\n",
       "18       2.5      50    Banana\n",
       "19       2.7      40    Banana\n",
       "20       4.8      90     Apple\n",
       "21       5.8      90     Apple"
      ]
     },
     "execution_count": 2,
     "metadata": {},
     "output_type": "execute_result"
    }
   ],
   "source": [
    "df=pd.read_csv(\"E:/scientist/dataset/classification/fruits.csv\")\n",
    "df\n",
    "\n"
   ]
  },
  {
   "cell_type": "code",
   "execution_count": 3,
   "id": "c1828607",
   "metadata": {},
   "outputs": [
    {
     "data": {
      "text/plain": [
       "array([[  3. ,  30. ],\n",
       "       [  6. , 100. ],\n",
       "       [  6.1,  95. ],\n",
       "       [  3.2,  35. ],\n",
       "       [  5.5,  80. ],\n",
       "       [  7.1, 120. ],\n",
       "       [  2.5,  60. ],\n",
       "       [  2.3, 100. ],\n",
       "       [  4.8,  70. ],\n",
       "       [  4.8,  79. ],\n",
       "       [  5.8, 120. ],\n",
       "       [  2.6,  85. ],\n",
       "       [  6. , 110. ],\n",
       "       [  6.3,  95. ],\n",
       "       [  3. ,  40. ],\n",
       "       [  3.5,  25. ],\n",
       "       [  5.5, 100. ],\n",
       "       [  7.5, 120. ],\n",
       "       [  2.5,  50. ],\n",
       "       [  2.7,  40. ],\n",
       "       [  4.8,  90. ],\n",
       "       [  5.8,  90. ]])"
      ]
     },
     "execution_count": 3,
     "metadata": {},
     "output_type": "execute_result"
    }
   ],
   "source": [
    "df_feature=df.iloc[:,:-1]\n",
    "X=df_feature.values\n",
    "X"
   ]
  },
  {
   "cell_type": "code",
   "execution_count": 4,
   "id": "7efab35f",
   "metadata": {},
   "outputs": [],
   "source": [
    " df_features=df.iloc[:,:-1]\n",
    "x= df_features.values   "
   ]
  },
  {
   "cell_type": "code",
   "execution_count": 5,
   "id": "a7292b07",
   "metadata": {},
   "outputs": [],
   "source": [
    "series_target=df.iloc[:,-1]\n",
    "y=series_target.values"
   ]
  },
  {
   "cell_type": "code",
   "execution_count": 6,
   "id": "a3f445dc",
   "metadata": {},
   "outputs": [],
   "source": [
    "from sklearn.neighbors import KNeighborsClassifier"
   ]
  },
  {
   "cell_type": "code",
   "execution_count": 7,
   "id": "640e2c9f",
   "metadata": {},
   "outputs": [
    {
     "data": {
      "text/html": [
       "<style>#sk-container-id-1 {color: black;}#sk-container-id-1 pre{padding: 0;}#sk-container-id-1 div.sk-toggleable {background-color: white;}#sk-container-id-1 label.sk-toggleable__label {cursor: pointer;display: block;width: 100%;margin-bottom: 0;padding: 0.3em;box-sizing: border-box;text-align: center;}#sk-container-id-1 label.sk-toggleable__label-arrow:before {content: \"▸\";float: left;margin-right: 0.25em;color: #696969;}#sk-container-id-1 label.sk-toggleable__label-arrow:hover:before {color: black;}#sk-container-id-1 div.sk-estimator:hover label.sk-toggleable__label-arrow:before {color: black;}#sk-container-id-1 div.sk-toggleable__content {max-height: 0;max-width: 0;overflow: hidden;text-align: left;background-color: #f0f8ff;}#sk-container-id-1 div.sk-toggleable__content pre {margin: 0.2em;color: black;border-radius: 0.25em;background-color: #f0f8ff;}#sk-container-id-1 input.sk-toggleable__control:checked~div.sk-toggleable__content {max-height: 200px;max-width: 100%;overflow: auto;}#sk-container-id-1 input.sk-toggleable__control:checked~label.sk-toggleable__label-arrow:before {content: \"▾\";}#sk-container-id-1 div.sk-estimator input.sk-toggleable__control:checked~label.sk-toggleable__label {background-color: #d4ebff;}#sk-container-id-1 div.sk-label input.sk-toggleable__control:checked~label.sk-toggleable__label {background-color: #d4ebff;}#sk-container-id-1 input.sk-hidden--visually {border: 0;clip: rect(1px 1px 1px 1px);clip: rect(1px, 1px, 1px, 1px);height: 1px;margin: -1px;overflow: hidden;padding: 0;position: absolute;width: 1px;}#sk-container-id-1 div.sk-estimator {font-family: monospace;background-color: #f0f8ff;border: 1px dotted black;border-radius: 0.25em;box-sizing: border-box;margin-bottom: 0.5em;}#sk-container-id-1 div.sk-estimator:hover {background-color: #d4ebff;}#sk-container-id-1 div.sk-parallel-item::after {content: \"\";width: 100%;border-bottom: 1px solid gray;flex-grow: 1;}#sk-container-id-1 div.sk-label:hover label.sk-toggleable__label {background-color: #d4ebff;}#sk-container-id-1 div.sk-serial::before {content: \"\";position: absolute;border-left: 1px solid gray;box-sizing: border-box;top: 0;bottom: 0;left: 50%;z-index: 0;}#sk-container-id-1 div.sk-serial {display: flex;flex-direction: column;align-items: center;background-color: white;padding-right: 0.2em;padding-left: 0.2em;position: relative;}#sk-container-id-1 div.sk-item {position: relative;z-index: 1;}#sk-container-id-1 div.sk-parallel {display: flex;align-items: stretch;justify-content: center;background-color: white;position: relative;}#sk-container-id-1 div.sk-item::before, #sk-container-id-1 div.sk-parallel-item::before {content: \"\";position: absolute;border-left: 1px solid gray;box-sizing: border-box;top: 0;bottom: 0;left: 50%;z-index: -1;}#sk-container-id-1 div.sk-parallel-item {display: flex;flex-direction: column;z-index: 1;position: relative;background-color: white;}#sk-container-id-1 div.sk-parallel-item:first-child::after {align-self: flex-end;width: 50%;}#sk-container-id-1 div.sk-parallel-item:last-child::after {align-self: flex-start;width: 50%;}#sk-container-id-1 div.sk-parallel-item:only-child::after {width: 0;}#sk-container-id-1 div.sk-dashed-wrapped {border: 1px dashed gray;margin: 0 0.4em 0.5em 0.4em;box-sizing: border-box;padding-bottom: 0.4em;background-color: white;}#sk-container-id-1 div.sk-label label {font-family: monospace;font-weight: bold;display: inline-block;line-height: 1.2em;}#sk-container-id-1 div.sk-label-container {text-align: center;}#sk-container-id-1 div.sk-container {/* jupyter's `normalize.less` sets `[hidden] { display: none; }` but bootstrap.min.css set `[hidden] { display: none !important; }` so we also need the `!important` here to be able to override the default hidden behavior on the sphinx rendered scikit-learn.org. See: https://github.com/scikit-learn/scikit-learn/issues/21755 */display: inline-block !important;position: relative;}#sk-container-id-1 div.sk-text-repr-fallback {display: none;}</style><div id=\"sk-container-id-1\" class=\"sk-top-container\"><div class=\"sk-text-repr-fallback\"><pre>KNeighborsClassifier()</pre><b>In a Jupyter environment, please rerun this cell to show the HTML representation or trust the notebook. <br />On GitHub, the HTML representation is unable to render, please try loading this page with nbviewer.org.</b></div><div class=\"sk-container\" hidden><div class=\"sk-item\"><div class=\"sk-estimator sk-toggleable\"><input class=\"sk-toggleable__control sk-hidden--visually\" id=\"sk-estimator-id-1\" type=\"checkbox\" checked><label for=\"sk-estimator-id-1\" class=\"sk-toggleable__label sk-toggleable__label-arrow\">KNeighborsClassifier</label><div class=\"sk-toggleable__content\"><pre>KNeighborsClassifier()</pre></div></div></div></div></div>"
      ],
      "text/plain": [
       "KNeighborsClassifier()"
      ]
     },
     "execution_count": 7,
     "metadata": {},
     "output_type": "execute_result"
    }
   ],
   "source": [
    " model= KNeighborsClassifier()\n",
    "model.fit(x,y)  # model training"
   ]
  },
  {
   "cell_type": "code",
   "execution_count": 8,
   "id": "9dfb9993",
   "metadata": {},
   "outputs": [],
   "source": [
    "new_sample1=[3,40]\n",
    "new_sample2=[9,60]"
   ]
  },
  {
   "cell_type": "code",
   "execution_count": 9,
   "id": "60e0ecb5",
   "metadata": {},
   "outputs": [
    {
     "data": {
      "text/plain": [
       "array(['Banana', 'Apple'], dtype=object)"
      ]
     },
     "execution_count": 9,
     "metadata": {},
     "output_type": "execute_result"
    }
   ],
   "source": [
    "preds=model.predict([new_sample1,new_sample2])\n",
    "preds"
   ]
  },
  {
   "cell_type": "markdown",
   "id": "626987b0",
   "metadata": {},
   "source": [
    "\n",
    "       GENERAL STEP IN ML CODING\n",
    " .. collect & load data   \n",
    ".. prepare data    \n",
    "..select  model     \n",
    ".. create model   \n",
    "..fit (train) the model   \n",
    ".. make prediction   \n"
   ]
  },
  {
   "cell_type": "code",
   "execution_count": 10,
   "id": "f1fbb5ed",
   "metadata": {},
   "outputs": [],
   "source": [
    "import pandas as pd"
   ]
  },
  {
   "cell_type": "code",
   "execution_count": 11,
   "id": "9da9fa81",
   "metadata": {},
   "outputs": [],
   "source": [
    "df=pd.read_csv(\"e:/scientist/dataset/classification/fruits.csv\")"
   ]
  },
  {
   "cell_type": "code",
   "execution_count": 12,
   "id": "707d4e60",
   "metadata": {},
   "outputs": [
    {
     "data": {
      "text/html": [
       "<div>\n",
       "<style scoped>\n",
       "    .dataframe tbody tr th:only-of-type {\n",
       "        vertical-align: middle;\n",
       "    }\n",
       "\n",
       "    .dataframe tbody tr th {\n",
       "        vertical-align: top;\n",
       "    }\n",
       "\n",
       "    .dataframe thead th {\n",
       "        text-align: right;\n",
       "    }\n",
       "</style>\n",
       "<table border=\"1\" class=\"dataframe\">\n",
       "  <thead>\n",
       "    <tr style=\"text-align: right;\">\n",
       "      <th></th>\n",
       "      <th>diameter</th>\n",
       "      <th>weight</th>\n",
       "      <th>FruitName</th>\n",
       "    </tr>\n",
       "  </thead>\n",
       "  <tbody>\n",
       "    <tr>\n",
       "      <th>0</th>\n",
       "      <td>3.0</td>\n",
       "      <td>30</td>\n",
       "      <td>Banana</td>\n",
       "    </tr>\n",
       "    <tr>\n",
       "      <th>1</th>\n",
       "      <td>6.0</td>\n",
       "      <td>100</td>\n",
       "      <td>Apple</td>\n",
       "    </tr>\n",
       "    <tr>\n",
       "      <th>2</th>\n",
       "      <td>6.1</td>\n",
       "      <td>95</td>\n",
       "      <td>Apple</td>\n",
       "    </tr>\n",
       "    <tr>\n",
       "      <th>3</th>\n",
       "      <td>3.2</td>\n",
       "      <td>35</td>\n",
       "      <td>Banana</td>\n",
       "    </tr>\n",
       "    <tr>\n",
       "      <th>4</th>\n",
       "      <td>5.5</td>\n",
       "      <td>80</td>\n",
       "      <td>Apple</td>\n",
       "    </tr>\n",
       "    <tr>\n",
       "      <th>5</th>\n",
       "      <td>7.1</td>\n",
       "      <td>120</td>\n",
       "      <td>Banana</td>\n",
       "    </tr>\n",
       "    <tr>\n",
       "      <th>6</th>\n",
       "      <td>2.5</td>\n",
       "      <td>60</td>\n",
       "      <td>Banana</td>\n",
       "    </tr>\n",
       "    <tr>\n",
       "      <th>7</th>\n",
       "      <td>2.3</td>\n",
       "      <td>100</td>\n",
       "      <td>Banana</td>\n",
       "    </tr>\n",
       "    <tr>\n",
       "      <th>8</th>\n",
       "      <td>4.8</td>\n",
       "      <td>70</td>\n",
       "      <td>Apple</td>\n",
       "    </tr>\n",
       "    <tr>\n",
       "      <th>9</th>\n",
       "      <td>4.8</td>\n",
       "      <td>79</td>\n",
       "      <td>Apple</td>\n",
       "    </tr>\n",
       "    <tr>\n",
       "      <th>10</th>\n",
       "      <td>5.8</td>\n",
       "      <td>120</td>\n",
       "      <td>Apple</td>\n",
       "    </tr>\n",
       "    <tr>\n",
       "      <th>11</th>\n",
       "      <td>2.6</td>\n",
       "      <td>85</td>\n",
       "      <td>Banana</td>\n",
       "    </tr>\n",
       "    <tr>\n",
       "      <th>12</th>\n",
       "      <td>6.0</td>\n",
       "      <td>110</td>\n",
       "      <td>Apple</td>\n",
       "    </tr>\n",
       "    <tr>\n",
       "      <th>13</th>\n",
       "      <td>6.3</td>\n",
       "      <td>95</td>\n",
       "      <td>Apple</td>\n",
       "    </tr>\n",
       "    <tr>\n",
       "      <th>14</th>\n",
       "      <td>3.0</td>\n",
       "      <td>40</td>\n",
       "      <td>Banana</td>\n",
       "    </tr>\n",
       "    <tr>\n",
       "      <th>15</th>\n",
       "      <td>3.5</td>\n",
       "      <td>25</td>\n",
       "      <td>Banana</td>\n",
       "    </tr>\n",
       "    <tr>\n",
       "      <th>16</th>\n",
       "      <td>5.5</td>\n",
       "      <td>100</td>\n",
       "      <td>Apple</td>\n",
       "    </tr>\n",
       "    <tr>\n",
       "      <th>17</th>\n",
       "      <td>7.5</td>\n",
       "      <td>120</td>\n",
       "      <td>Apple</td>\n",
       "    </tr>\n",
       "    <tr>\n",
       "      <th>18</th>\n",
       "      <td>2.5</td>\n",
       "      <td>50</td>\n",
       "      <td>Banana</td>\n",
       "    </tr>\n",
       "    <tr>\n",
       "      <th>19</th>\n",
       "      <td>2.7</td>\n",
       "      <td>40</td>\n",
       "      <td>Banana</td>\n",
       "    </tr>\n",
       "    <tr>\n",
       "      <th>20</th>\n",
       "      <td>4.8</td>\n",
       "      <td>90</td>\n",
       "      <td>Apple</td>\n",
       "    </tr>\n",
       "    <tr>\n",
       "      <th>21</th>\n",
       "      <td>5.8</td>\n",
       "      <td>90</td>\n",
       "      <td>Apple</td>\n",
       "    </tr>\n",
       "  </tbody>\n",
       "</table>\n",
       "</div>"
      ],
      "text/plain": [
       "    diameter  weight FruitName\n",
       "0        3.0      30    Banana\n",
       "1        6.0     100     Apple\n",
       "2        6.1      95     Apple\n",
       "3        3.2      35    Banana\n",
       "4        5.5      80     Apple\n",
       "5        7.1     120    Banana\n",
       "6        2.5      60    Banana\n",
       "7        2.3     100    Banana\n",
       "8        4.8      70     Apple\n",
       "9        4.8      79     Apple\n",
       "10       5.8     120     Apple\n",
       "11       2.6      85    Banana\n",
       "12       6.0     110     Apple\n",
       "13       6.3      95     Apple\n",
       "14       3.0      40    Banana\n",
       "15       3.5      25    Banana\n",
       "16       5.5     100     Apple\n",
       "17       7.5     120     Apple\n",
       "18       2.5      50    Banana\n",
       "19       2.7      40    Banana\n",
       "20       4.8      90     Apple\n",
       "21       5.8      90     Apple"
      ]
     },
     "execution_count": 12,
     "metadata": {},
     "output_type": "execute_result"
    }
   ],
   "source": [
    "df"
   ]
  },
  {
   "cell_type": "code",
   "execution_count": 13,
   "id": "1fc394a4",
   "metadata": {},
   "outputs": [],
   "source": [
    "df_features=df.iloc[:,:-1]\n",
    "X=df_features.values\n"
   ]
  },
  {
   "cell_type": "code",
   "execution_count": 14,
   "id": "0fc0b0e0",
   "metadata": {},
   "outputs": [],
   "source": [
    "df_sample=df.iloc[:,-1]\n",
    "y=df_sample.values"
   ]
  },
  {
   "cell_type": "code",
   "execution_count": 15,
   "id": "6bdb14ec",
   "metadata": {},
   "outputs": [
    {
     "data": {
      "text/html": [
       "<style>#sk-container-id-2 {color: black;}#sk-container-id-2 pre{padding: 0;}#sk-container-id-2 div.sk-toggleable {background-color: white;}#sk-container-id-2 label.sk-toggleable__label {cursor: pointer;display: block;width: 100%;margin-bottom: 0;padding: 0.3em;box-sizing: border-box;text-align: center;}#sk-container-id-2 label.sk-toggleable__label-arrow:before {content: \"▸\";float: left;margin-right: 0.25em;color: #696969;}#sk-container-id-2 label.sk-toggleable__label-arrow:hover:before {color: black;}#sk-container-id-2 div.sk-estimator:hover label.sk-toggleable__label-arrow:before {color: black;}#sk-container-id-2 div.sk-toggleable__content {max-height: 0;max-width: 0;overflow: hidden;text-align: left;background-color: #f0f8ff;}#sk-container-id-2 div.sk-toggleable__content pre {margin: 0.2em;color: black;border-radius: 0.25em;background-color: #f0f8ff;}#sk-container-id-2 input.sk-toggleable__control:checked~div.sk-toggleable__content {max-height: 200px;max-width: 100%;overflow: auto;}#sk-container-id-2 input.sk-toggleable__control:checked~label.sk-toggleable__label-arrow:before {content: \"▾\";}#sk-container-id-2 div.sk-estimator input.sk-toggleable__control:checked~label.sk-toggleable__label {background-color: #d4ebff;}#sk-container-id-2 div.sk-label input.sk-toggleable__control:checked~label.sk-toggleable__label {background-color: #d4ebff;}#sk-container-id-2 input.sk-hidden--visually {border: 0;clip: rect(1px 1px 1px 1px);clip: rect(1px, 1px, 1px, 1px);height: 1px;margin: -1px;overflow: hidden;padding: 0;position: absolute;width: 1px;}#sk-container-id-2 div.sk-estimator {font-family: monospace;background-color: #f0f8ff;border: 1px dotted black;border-radius: 0.25em;box-sizing: border-box;margin-bottom: 0.5em;}#sk-container-id-2 div.sk-estimator:hover {background-color: #d4ebff;}#sk-container-id-2 div.sk-parallel-item::after {content: \"\";width: 100%;border-bottom: 1px solid gray;flex-grow: 1;}#sk-container-id-2 div.sk-label:hover label.sk-toggleable__label {background-color: #d4ebff;}#sk-container-id-2 div.sk-serial::before {content: \"\";position: absolute;border-left: 1px solid gray;box-sizing: border-box;top: 0;bottom: 0;left: 50%;z-index: 0;}#sk-container-id-2 div.sk-serial {display: flex;flex-direction: column;align-items: center;background-color: white;padding-right: 0.2em;padding-left: 0.2em;position: relative;}#sk-container-id-2 div.sk-item {position: relative;z-index: 1;}#sk-container-id-2 div.sk-parallel {display: flex;align-items: stretch;justify-content: center;background-color: white;position: relative;}#sk-container-id-2 div.sk-item::before, #sk-container-id-2 div.sk-parallel-item::before {content: \"\";position: absolute;border-left: 1px solid gray;box-sizing: border-box;top: 0;bottom: 0;left: 50%;z-index: -1;}#sk-container-id-2 div.sk-parallel-item {display: flex;flex-direction: column;z-index: 1;position: relative;background-color: white;}#sk-container-id-2 div.sk-parallel-item:first-child::after {align-self: flex-end;width: 50%;}#sk-container-id-2 div.sk-parallel-item:last-child::after {align-self: flex-start;width: 50%;}#sk-container-id-2 div.sk-parallel-item:only-child::after {width: 0;}#sk-container-id-2 div.sk-dashed-wrapped {border: 1px dashed gray;margin: 0 0.4em 0.5em 0.4em;box-sizing: border-box;padding-bottom: 0.4em;background-color: white;}#sk-container-id-2 div.sk-label label {font-family: monospace;font-weight: bold;display: inline-block;line-height: 1.2em;}#sk-container-id-2 div.sk-label-container {text-align: center;}#sk-container-id-2 div.sk-container {/* jupyter's `normalize.less` sets `[hidden] { display: none; }` but bootstrap.min.css set `[hidden] { display: none !important; }` so we also need the `!important` here to be able to override the default hidden behavior on the sphinx rendered scikit-learn.org. See: https://github.com/scikit-learn/scikit-learn/issues/21755 */display: inline-block !important;position: relative;}#sk-container-id-2 div.sk-text-repr-fallback {display: none;}</style><div id=\"sk-container-id-2\" class=\"sk-top-container\"><div class=\"sk-text-repr-fallback\"><pre>KNeighborsClassifier()</pre><b>In a Jupyter environment, please rerun this cell to show the HTML representation or trust the notebook. <br />On GitHub, the HTML representation is unable to render, please try loading this page with nbviewer.org.</b></div><div class=\"sk-container\" hidden><div class=\"sk-item\"><div class=\"sk-estimator sk-toggleable\"><input class=\"sk-toggleable__control sk-hidden--visually\" id=\"sk-estimator-id-2\" type=\"checkbox\" checked><label for=\"sk-estimator-id-2\" class=\"sk-toggleable__label sk-toggleable__label-arrow\">KNeighborsClassifier</label><div class=\"sk-toggleable__content\"><pre>KNeighborsClassifier()</pre></div></div></div></div></div>"
      ],
      "text/plain": [
       "KNeighborsClassifier()"
      ]
     },
     "execution_count": 15,
     "metadata": {},
     "output_type": "execute_result"
    }
   ],
   "source": [
    "model.fit(x,y)"
   ]
  },
  {
   "cell_type": "code",
   "execution_count": 16,
   "id": "7bb37f1b",
   "metadata": {},
   "outputs": [],
   "source": [
    "new_sample1=[4,56]\n",
    "new_sample2=[2,40]"
   ]
  },
  {
   "cell_type": "code",
   "execution_count": 17,
   "id": "433a254e",
   "metadata": {},
   "outputs": [
    {
     "data": {
      "text/plain": [
       "array(['Banana', 'Banana'], dtype=object)"
      ]
     },
     "execution_count": 17,
     "metadata": {},
     "output_type": "execute_result"
    }
   ],
   "source": [
    "preds=model.predict([new_sample1,new_sample2])\n",
    "preds"
   ]
  },
  {
   "cell_type": "code",
   "execution_count": 18,
   "id": "3a6cadde",
   "metadata": {},
   "outputs": [],
   "source": [
    "# try is  method"
   ]
  },
  {
   "cell_type": "code",
   "execution_count": 19,
   "id": "aeffd59d",
   "metadata": {},
   "outputs": [],
   "source": [
    "df_feature=df.iloc[:,:-1]"
   ]
  },
  {
   "cell_type": "code",
   "execution_count": 20,
   "id": "a5af1575",
   "metadata": {},
   "outputs": [],
   "source": [
    "x=df_feature.values"
   ]
  },
  {
   "cell_type": "code",
   "execution_count": 21,
   "id": "22b39f2e",
   "metadata": {},
   "outputs": [],
   "source": [
    "df_sample=df.iloc[:,-1]\n",
    "y=df_sample.values"
   ]
  },
  {
   "cell_type": "code",
   "execution_count": 22,
   "id": "50f1c310",
   "metadata": {},
   "outputs": [
    {
     "data": {
      "text/html": [
       "<style>#sk-container-id-3 {color: black;}#sk-container-id-3 pre{padding: 0;}#sk-container-id-3 div.sk-toggleable {background-color: white;}#sk-container-id-3 label.sk-toggleable__label {cursor: pointer;display: block;width: 100%;margin-bottom: 0;padding: 0.3em;box-sizing: border-box;text-align: center;}#sk-container-id-3 label.sk-toggleable__label-arrow:before {content: \"▸\";float: left;margin-right: 0.25em;color: #696969;}#sk-container-id-3 label.sk-toggleable__label-arrow:hover:before {color: black;}#sk-container-id-3 div.sk-estimator:hover label.sk-toggleable__label-arrow:before {color: black;}#sk-container-id-3 div.sk-toggleable__content {max-height: 0;max-width: 0;overflow: hidden;text-align: left;background-color: #f0f8ff;}#sk-container-id-3 div.sk-toggleable__content pre {margin: 0.2em;color: black;border-radius: 0.25em;background-color: #f0f8ff;}#sk-container-id-3 input.sk-toggleable__control:checked~div.sk-toggleable__content {max-height: 200px;max-width: 100%;overflow: auto;}#sk-container-id-3 input.sk-toggleable__control:checked~label.sk-toggleable__label-arrow:before {content: \"▾\";}#sk-container-id-3 div.sk-estimator input.sk-toggleable__control:checked~label.sk-toggleable__label {background-color: #d4ebff;}#sk-container-id-3 div.sk-label input.sk-toggleable__control:checked~label.sk-toggleable__label {background-color: #d4ebff;}#sk-container-id-3 input.sk-hidden--visually {border: 0;clip: rect(1px 1px 1px 1px);clip: rect(1px, 1px, 1px, 1px);height: 1px;margin: -1px;overflow: hidden;padding: 0;position: absolute;width: 1px;}#sk-container-id-3 div.sk-estimator {font-family: monospace;background-color: #f0f8ff;border: 1px dotted black;border-radius: 0.25em;box-sizing: border-box;margin-bottom: 0.5em;}#sk-container-id-3 div.sk-estimator:hover {background-color: #d4ebff;}#sk-container-id-3 div.sk-parallel-item::after {content: \"\";width: 100%;border-bottom: 1px solid gray;flex-grow: 1;}#sk-container-id-3 div.sk-label:hover label.sk-toggleable__label {background-color: #d4ebff;}#sk-container-id-3 div.sk-serial::before {content: \"\";position: absolute;border-left: 1px solid gray;box-sizing: border-box;top: 0;bottom: 0;left: 50%;z-index: 0;}#sk-container-id-3 div.sk-serial {display: flex;flex-direction: column;align-items: center;background-color: white;padding-right: 0.2em;padding-left: 0.2em;position: relative;}#sk-container-id-3 div.sk-item {position: relative;z-index: 1;}#sk-container-id-3 div.sk-parallel {display: flex;align-items: stretch;justify-content: center;background-color: white;position: relative;}#sk-container-id-3 div.sk-item::before, #sk-container-id-3 div.sk-parallel-item::before {content: \"\";position: absolute;border-left: 1px solid gray;box-sizing: border-box;top: 0;bottom: 0;left: 50%;z-index: -1;}#sk-container-id-3 div.sk-parallel-item {display: flex;flex-direction: column;z-index: 1;position: relative;background-color: white;}#sk-container-id-3 div.sk-parallel-item:first-child::after {align-self: flex-end;width: 50%;}#sk-container-id-3 div.sk-parallel-item:last-child::after {align-self: flex-start;width: 50%;}#sk-container-id-3 div.sk-parallel-item:only-child::after {width: 0;}#sk-container-id-3 div.sk-dashed-wrapped {border: 1px dashed gray;margin: 0 0.4em 0.5em 0.4em;box-sizing: border-box;padding-bottom: 0.4em;background-color: white;}#sk-container-id-3 div.sk-label label {font-family: monospace;font-weight: bold;display: inline-block;line-height: 1.2em;}#sk-container-id-3 div.sk-label-container {text-align: center;}#sk-container-id-3 div.sk-container {/* jupyter's `normalize.less` sets `[hidden] { display: none; }` but bootstrap.min.css set `[hidden] { display: none !important; }` so we also need the `!important` here to be able to override the default hidden behavior on the sphinx rendered scikit-learn.org. See: https://github.com/scikit-learn/scikit-learn/issues/21755 */display: inline-block !important;position: relative;}#sk-container-id-3 div.sk-text-repr-fallback {display: none;}</style><div id=\"sk-container-id-3\" class=\"sk-top-container\"><div class=\"sk-text-repr-fallback\"><pre>KNeighborsClassifier()</pre><b>In a Jupyter environment, please rerun this cell to show the HTML representation or trust the notebook. <br />On GitHub, the HTML representation is unable to render, please try loading this page with nbviewer.org.</b></div><div class=\"sk-container\" hidden><div class=\"sk-item\"><div class=\"sk-estimator sk-toggleable\"><input class=\"sk-toggleable__control sk-hidden--visually\" id=\"sk-estimator-id-3\" type=\"checkbox\" checked><label for=\"sk-estimator-id-3\" class=\"sk-toggleable__label sk-toggleable__label-arrow\">KNeighborsClassifier</label><div class=\"sk-toggleable__content\"><pre>KNeighborsClassifier()</pre></div></div></div></div></div>"
      ],
      "text/plain": [
       "KNeighborsClassifier()"
      ]
     },
     "execution_count": 22,
     "metadata": {},
     "output_type": "execute_result"
    }
   ],
   "source": [
    "model.fit(x,y)"
   ]
  },
  {
   "cell_type": "code",
   "execution_count": 23,
   "id": "5849db91",
   "metadata": {},
   "outputs": [],
   "source": [
    "new_sample1=[3.9,40]\n",
    "new_sample2=[4.5,50]"
   ]
  },
  {
   "cell_type": "code",
   "execution_count": 24,
   "id": "f3423968",
   "metadata": {},
   "outputs": [],
   "source": [
    "pre=model.predict([new_sample1,new_sample2])"
   ]
  },
  {
   "cell_type": "code",
   "execution_count": 25,
   "id": "e0620852",
   "metadata": {},
   "outputs": [
    {
     "data": {
      "text/plain": [
       "array(['Banana', 'Banana'], dtype=object)"
      ]
     },
     "execution_count": 25,
     "metadata": {},
     "output_type": "execute_result"
    }
   ],
   "source": [
    "pre"
   ]
  },
  {
   "cell_type": "code",
   "execution_count": 26,
   "id": "1dfb3614",
   "metadata": {},
   "outputs": [],
   "source": [
    "f=pd.read_csv(\"e:/scientist/dataset/classification/fruits.csv\")"
   ]
  },
  {
   "cell_type": "code",
   "execution_count": 27,
   "id": "da74d77a",
   "metadata": {},
   "outputs": [
    {
     "data": {
      "text/html": [
       "<div>\n",
       "<style scoped>\n",
       "    .dataframe tbody tr th:only-of-type {\n",
       "        vertical-align: middle;\n",
       "    }\n",
       "\n",
       "    .dataframe tbody tr th {\n",
       "        vertical-align: top;\n",
       "    }\n",
       "\n",
       "    .dataframe thead th {\n",
       "        text-align: right;\n",
       "    }\n",
       "</style>\n",
       "<table border=\"1\" class=\"dataframe\">\n",
       "  <thead>\n",
       "    <tr style=\"text-align: right;\">\n",
       "      <th></th>\n",
       "      <th>diameter</th>\n",
       "      <th>weight</th>\n",
       "      <th>FruitName</th>\n",
       "    </tr>\n",
       "  </thead>\n",
       "  <tbody>\n",
       "    <tr>\n",
       "      <th>0</th>\n",
       "      <td>3.0</td>\n",
       "      <td>30</td>\n",
       "      <td>Banana</td>\n",
       "    </tr>\n",
       "    <tr>\n",
       "      <th>1</th>\n",
       "      <td>6.0</td>\n",
       "      <td>100</td>\n",
       "      <td>Apple</td>\n",
       "    </tr>\n",
       "    <tr>\n",
       "      <th>2</th>\n",
       "      <td>6.1</td>\n",
       "      <td>95</td>\n",
       "      <td>Apple</td>\n",
       "    </tr>\n",
       "    <tr>\n",
       "      <th>3</th>\n",
       "      <td>3.2</td>\n",
       "      <td>35</td>\n",
       "      <td>Banana</td>\n",
       "    </tr>\n",
       "    <tr>\n",
       "      <th>4</th>\n",
       "      <td>5.5</td>\n",
       "      <td>80</td>\n",
       "      <td>Apple</td>\n",
       "    </tr>\n",
       "    <tr>\n",
       "      <th>5</th>\n",
       "      <td>7.1</td>\n",
       "      <td>120</td>\n",
       "      <td>Banana</td>\n",
       "    </tr>\n",
       "    <tr>\n",
       "      <th>6</th>\n",
       "      <td>2.5</td>\n",
       "      <td>60</td>\n",
       "      <td>Banana</td>\n",
       "    </tr>\n",
       "    <tr>\n",
       "      <th>7</th>\n",
       "      <td>2.3</td>\n",
       "      <td>100</td>\n",
       "      <td>Banana</td>\n",
       "    </tr>\n",
       "    <tr>\n",
       "      <th>8</th>\n",
       "      <td>4.8</td>\n",
       "      <td>70</td>\n",
       "      <td>Apple</td>\n",
       "    </tr>\n",
       "    <tr>\n",
       "      <th>9</th>\n",
       "      <td>4.8</td>\n",
       "      <td>79</td>\n",
       "      <td>Apple</td>\n",
       "    </tr>\n",
       "    <tr>\n",
       "      <th>10</th>\n",
       "      <td>5.8</td>\n",
       "      <td>120</td>\n",
       "      <td>Apple</td>\n",
       "    </tr>\n",
       "    <tr>\n",
       "      <th>11</th>\n",
       "      <td>2.6</td>\n",
       "      <td>85</td>\n",
       "      <td>Banana</td>\n",
       "    </tr>\n",
       "    <tr>\n",
       "      <th>12</th>\n",
       "      <td>6.0</td>\n",
       "      <td>110</td>\n",
       "      <td>Apple</td>\n",
       "    </tr>\n",
       "    <tr>\n",
       "      <th>13</th>\n",
       "      <td>6.3</td>\n",
       "      <td>95</td>\n",
       "      <td>Apple</td>\n",
       "    </tr>\n",
       "    <tr>\n",
       "      <th>14</th>\n",
       "      <td>3.0</td>\n",
       "      <td>40</td>\n",
       "      <td>Banana</td>\n",
       "    </tr>\n",
       "    <tr>\n",
       "      <th>15</th>\n",
       "      <td>3.5</td>\n",
       "      <td>25</td>\n",
       "      <td>Banana</td>\n",
       "    </tr>\n",
       "    <tr>\n",
       "      <th>16</th>\n",
       "      <td>5.5</td>\n",
       "      <td>100</td>\n",
       "      <td>Apple</td>\n",
       "    </tr>\n",
       "    <tr>\n",
       "      <th>17</th>\n",
       "      <td>7.5</td>\n",
       "      <td>120</td>\n",
       "      <td>Apple</td>\n",
       "    </tr>\n",
       "    <tr>\n",
       "      <th>18</th>\n",
       "      <td>2.5</td>\n",
       "      <td>50</td>\n",
       "      <td>Banana</td>\n",
       "    </tr>\n",
       "    <tr>\n",
       "      <th>19</th>\n",
       "      <td>2.7</td>\n",
       "      <td>40</td>\n",
       "      <td>Banana</td>\n",
       "    </tr>\n",
       "    <tr>\n",
       "      <th>20</th>\n",
       "      <td>4.8</td>\n",
       "      <td>90</td>\n",
       "      <td>Apple</td>\n",
       "    </tr>\n",
       "    <tr>\n",
       "      <th>21</th>\n",
       "      <td>5.8</td>\n",
       "      <td>90</td>\n",
       "      <td>Apple</td>\n",
       "    </tr>\n",
       "  </tbody>\n",
       "</table>\n",
       "</div>"
      ],
      "text/plain": [
       "    diameter  weight FruitName\n",
       "0        3.0      30    Banana\n",
       "1        6.0     100     Apple\n",
       "2        6.1      95     Apple\n",
       "3        3.2      35    Banana\n",
       "4        5.5      80     Apple\n",
       "5        7.1     120    Banana\n",
       "6        2.5      60    Banana\n",
       "7        2.3     100    Banana\n",
       "8        4.8      70     Apple\n",
       "9        4.8      79     Apple\n",
       "10       5.8     120     Apple\n",
       "11       2.6      85    Banana\n",
       "12       6.0     110     Apple\n",
       "13       6.3      95     Apple\n",
       "14       3.0      40    Banana\n",
       "15       3.5      25    Banana\n",
       "16       5.5     100     Apple\n",
       "17       7.5     120     Apple\n",
       "18       2.5      50    Banana\n",
       "19       2.7      40    Banana\n",
       "20       4.8      90     Apple\n",
       "21       5.8      90     Apple"
      ]
     },
     "execution_count": 27,
     "metadata": {},
     "output_type": "execute_result"
    }
   ],
   "source": [
    "f"
   ]
  },
  {
   "cell_type": "code",
   "execution_count": 28,
   "id": "4dc2f719",
   "metadata": {},
   "outputs": [],
   "source": [
    "x=df.iloc[:,:-1].values\n",
    "y=df.iloc[:,-1].values"
   ]
  },
  {
   "cell_type": "code",
   "execution_count": 29,
   "id": "f3010df6",
   "metadata": {},
   "outputs": [
    {
     "data": {
      "text/html": [
       "<style>#sk-container-id-4 {color: black;}#sk-container-id-4 pre{padding: 0;}#sk-container-id-4 div.sk-toggleable {background-color: white;}#sk-container-id-4 label.sk-toggleable__label {cursor: pointer;display: block;width: 100%;margin-bottom: 0;padding: 0.3em;box-sizing: border-box;text-align: center;}#sk-container-id-4 label.sk-toggleable__label-arrow:before {content: \"▸\";float: left;margin-right: 0.25em;color: #696969;}#sk-container-id-4 label.sk-toggleable__label-arrow:hover:before {color: black;}#sk-container-id-4 div.sk-estimator:hover label.sk-toggleable__label-arrow:before {color: black;}#sk-container-id-4 div.sk-toggleable__content {max-height: 0;max-width: 0;overflow: hidden;text-align: left;background-color: #f0f8ff;}#sk-container-id-4 div.sk-toggleable__content pre {margin: 0.2em;color: black;border-radius: 0.25em;background-color: #f0f8ff;}#sk-container-id-4 input.sk-toggleable__control:checked~div.sk-toggleable__content {max-height: 200px;max-width: 100%;overflow: auto;}#sk-container-id-4 input.sk-toggleable__control:checked~label.sk-toggleable__label-arrow:before {content: \"▾\";}#sk-container-id-4 div.sk-estimator input.sk-toggleable__control:checked~label.sk-toggleable__label {background-color: #d4ebff;}#sk-container-id-4 div.sk-label input.sk-toggleable__control:checked~label.sk-toggleable__label {background-color: #d4ebff;}#sk-container-id-4 input.sk-hidden--visually {border: 0;clip: rect(1px 1px 1px 1px);clip: rect(1px, 1px, 1px, 1px);height: 1px;margin: -1px;overflow: hidden;padding: 0;position: absolute;width: 1px;}#sk-container-id-4 div.sk-estimator {font-family: monospace;background-color: #f0f8ff;border: 1px dotted black;border-radius: 0.25em;box-sizing: border-box;margin-bottom: 0.5em;}#sk-container-id-4 div.sk-estimator:hover {background-color: #d4ebff;}#sk-container-id-4 div.sk-parallel-item::after {content: \"\";width: 100%;border-bottom: 1px solid gray;flex-grow: 1;}#sk-container-id-4 div.sk-label:hover label.sk-toggleable__label {background-color: #d4ebff;}#sk-container-id-4 div.sk-serial::before {content: \"\";position: absolute;border-left: 1px solid gray;box-sizing: border-box;top: 0;bottom: 0;left: 50%;z-index: 0;}#sk-container-id-4 div.sk-serial {display: flex;flex-direction: column;align-items: center;background-color: white;padding-right: 0.2em;padding-left: 0.2em;position: relative;}#sk-container-id-4 div.sk-item {position: relative;z-index: 1;}#sk-container-id-4 div.sk-parallel {display: flex;align-items: stretch;justify-content: center;background-color: white;position: relative;}#sk-container-id-4 div.sk-item::before, #sk-container-id-4 div.sk-parallel-item::before {content: \"\";position: absolute;border-left: 1px solid gray;box-sizing: border-box;top: 0;bottom: 0;left: 50%;z-index: -1;}#sk-container-id-4 div.sk-parallel-item {display: flex;flex-direction: column;z-index: 1;position: relative;background-color: white;}#sk-container-id-4 div.sk-parallel-item:first-child::after {align-self: flex-end;width: 50%;}#sk-container-id-4 div.sk-parallel-item:last-child::after {align-self: flex-start;width: 50%;}#sk-container-id-4 div.sk-parallel-item:only-child::after {width: 0;}#sk-container-id-4 div.sk-dashed-wrapped {border: 1px dashed gray;margin: 0 0.4em 0.5em 0.4em;box-sizing: border-box;padding-bottom: 0.4em;background-color: white;}#sk-container-id-4 div.sk-label label {font-family: monospace;font-weight: bold;display: inline-block;line-height: 1.2em;}#sk-container-id-4 div.sk-label-container {text-align: center;}#sk-container-id-4 div.sk-container {/* jupyter's `normalize.less` sets `[hidden] { display: none; }` but bootstrap.min.css set `[hidden] { display: none !important; }` so we also need the `!important` here to be able to override the default hidden behavior on the sphinx rendered scikit-learn.org. See: https://github.com/scikit-learn/scikit-learn/issues/21755 */display: inline-block !important;position: relative;}#sk-container-id-4 div.sk-text-repr-fallback {display: none;}</style><div id=\"sk-container-id-4\" class=\"sk-top-container\"><div class=\"sk-text-repr-fallback\"><pre>KNeighborsClassifier()</pre><b>In a Jupyter environment, please rerun this cell to show the HTML representation or trust the notebook. <br />On GitHub, the HTML representation is unable to render, please try loading this page with nbviewer.org.</b></div><div class=\"sk-container\" hidden><div class=\"sk-item\"><div class=\"sk-estimator sk-toggleable\"><input class=\"sk-toggleable__control sk-hidden--visually\" id=\"sk-estimator-id-4\" type=\"checkbox\" checked><label for=\"sk-estimator-id-4\" class=\"sk-toggleable__label sk-toggleable__label-arrow\">KNeighborsClassifier</label><div class=\"sk-toggleable__content\"><pre>KNeighborsClassifier()</pre></div></div></div></div></div>"
      ],
      "text/plain": [
       "KNeighborsClassifier()"
      ]
     },
     "execution_count": 29,
     "metadata": {},
     "output_type": "execute_result"
    }
   ],
   "source": [
    "model.fit(x,y)"
   ]
  },
  {
   "cell_type": "code",
   "execution_count": 30,
   "id": "ba72a9c6",
   "metadata": {},
   "outputs": [
    {
     "data": {
      "text/plain": [
       "array(['Apple', 'Banana'], dtype=object)"
      ]
     },
     "execution_count": 30,
     "metadata": {},
     "output_type": "execute_result"
    }
   ],
   "source": [
    "model.predict([[4.7,80],[2.1,40]])"
   ]
  },
  {
   "cell_type": "code",
   "execution_count": 31,
   "id": "fc577663",
   "metadata": {},
   "outputs": [
    {
     "data": {
      "text/plain": [
       "array(['Apple', 'Banana', 'Apple'], dtype=object)"
      ]
     },
     "execution_count": 31,
     "metadata": {},
     "output_type": "execute_result"
    }
   ],
   "source": [
    "model.predict([[7.5,120],[2.7,40],[4.8,70]])"
   ]
  },
  {
   "cell_type": "code",
   "execution_count": 32,
   "id": "15e6fd22",
   "metadata": {},
   "outputs": [],
   "source": [
    "x=model.predict(x)"
   ]
  },
  {
   "cell_type": "code",
   "execution_count": 33,
   "id": "e718735f",
   "metadata": {},
   "outputs": [
    {
     "data": {
      "text/plain": [
       "array(['Banana', 'Apple', 'Apple', 'Banana', 'Apple', 'Banana', 'Banana',\n",
       "       'Banana', 'Apple', 'Apple', 'Apple', 'Banana', 'Apple', 'Apple',\n",
       "       'Banana', 'Banana', 'Apple', 'Apple', 'Banana', 'Banana', 'Apple',\n",
       "       'Apple'], dtype=object)"
      ]
     },
     "execution_count": 33,
     "metadata": {},
     "output_type": "execute_result"
    }
   ],
   "source": [
    "y"
   ]
  },
  {
   "cell_type": "code",
   "execution_count": 34,
   "id": "cad5e8a7",
   "metadata": {},
   "outputs": [
    {
     "data": {
      "text/plain": [
       "0.8636363636363636"
      ]
     },
     "execution_count": 34,
     "metadata": {},
     "output_type": "execute_result"
    }
   ],
   "source": [
    "19/22"
   ]
  },
  {
   "cell_type": "code",
   "execution_count": 35,
   "id": "91225789",
   "metadata": {},
   "outputs": [],
   "source": [
    "\n",
    "from sklearn.metrics import accuracy_score"
   ]
  },
  {
   "cell_type": "code",
   "execution_count": 36,
   "id": "81254885",
   "metadata": {},
   "outputs": [
    {
     "data": {
      "text/plain": [
       "0.5"
      ]
     },
     "execution_count": 36,
     "metadata": {},
     "output_type": "execute_result"
    }
   ],
   "source": [
    "accuracy_score([\"apple\",\"orange\"],[\"apple\",\"banana\"])"
   ]
  },
  {
   "cell_type": "code",
   "execution_count": 37,
   "id": "7f332e28",
   "metadata": {},
   "outputs": [
    {
     "data": {
      "text/plain": [
       "0.8636363636363636"
      ]
     },
     "execution_count": 37,
     "metadata": {},
     "output_type": "execute_result"
    }
   ],
   "source": [
    "accuracy_score(x,y)"
   ]
  },
  {
   "cell_type": "markdown",
   "id": "9f0bbee0",
   "metadata": {},
   "source": [
    "# create a scatter chart"
   ]
  },
  {
   "cell_type": "code",
   "execution_count": 38,
   "id": "6f484295",
   "metadata": {},
   "outputs": [],
   "source": [
    "import matplotlib .pyplot as plt\n",
    "import seaborn as sb"
   ]
  },
  {
   "cell_type": "code",
   "execution_count": 39,
   "id": "d74c0c6f",
   "metadata": {},
   "outputs": [
    {
     "data": {
      "image/png": "[encoded data removed]",
      "text/plain": [
       "<Figure size 640x480 with 1 Axes>"
      ]
     },
     "metadata": {},
     "output_type": "display_data"
    }
   ],
   "source": [
    "sb.scatterplot(x=df.diameter,y=df.weight,hue=df.FruitName)\n",
    "plt. show()"
   ]
  },
  {
   "cell_type": "code",
   "execution_count": 40,
   "id": "f4e334d2",
   "metadata": {},
   "outputs": [
    {
     "data": {
      "text/plain": [
       "0.8636363636363636"
      ]
     },
     "execution_count": 40,
     "metadata": {},
     "output_type": "execute_result"
    }
   ],
   "source": [
    "# after removing  outiler \n",
    "df=pd.read_csv(\"e:/scientist/dataset/classification/fruits.csv\")\n",
    "x=df.iloc[:,:-1]\n",
    "y=df.iloc[:,-1]\n",
    "model.fit(x,y)\n",
    "pre=model.predict(x)\n",
    "accuracy_score(y,pre)"
   ]
  },
  {
   "cell_type": "code",
   "execution_count": 41,
   "id": "32549478",
   "metadata": {},
   "outputs": [
    {
     "data": {
      "text/plain": [
       "0.9047619047619048"
      ]
     },
     "execution_count": 41,
     "metadata": {},
     "output_type": "execute_result"
    }
   ],
   "source": [
    "# without removing ouiter \n",
    "df=pd.read_csv(\"e:/scientist/dataset/classification/fruits.csv\")\n",
    "df.drop([5],inplace=True)\n",
    "x=df.iloc[:,:-1]\n",
    "y=df.iloc[:,-1]\n",
    "model.fit(x,y)\n",
    "pre=model.predict(x)\n",
    "accuracy_score(y,pre)"
   ]
  },
  {
   "cell_type": "code",
   "execution_count": 42,
   "id": "0e7d1859",
   "metadata": {},
   "outputs": [
    {
     "data": {
      "text/html": [
       "<div>\n",
       "<style scoped>\n",
       "    .dataframe tbody tr th:only-of-type {\n",
       "        vertical-align: middle;\n",
       "    }\n",
       "\n",
       "    .dataframe tbody tr th {\n",
       "        vertical-align: top;\n",
       "    }\n",
       "\n",
       "    .dataframe thead th {\n",
       "        text-align: right;\n",
       "    }\n",
       "</style>\n",
       "<table border=\"1\" class=\"dataframe\">\n",
       "  <thead>\n",
       "    <tr style=\"text-align: right;\">\n",
       "      <th></th>\n",
       "      <th>diameter</th>\n",
       "      <th>weight</th>\n",
       "      <th>FruitName</th>\n",
       "    </tr>\n",
       "  </thead>\n",
       "  <tbody>\n",
       "    <tr>\n",
       "      <th>0</th>\n",
       "      <td>3.0</td>\n",
       "      <td>30</td>\n",
       "      <td>Banana</td>\n",
       "    </tr>\n",
       "    <tr>\n",
       "      <th>1</th>\n",
       "      <td>6.0</td>\n",
       "      <td>100</td>\n",
       "      <td>Apple</td>\n",
       "    </tr>\n",
       "    <tr>\n",
       "      <th>2</th>\n",
       "      <td>6.1</td>\n",
       "      <td>95</td>\n",
       "      <td>Apple</td>\n",
       "    </tr>\n",
       "    <tr>\n",
       "      <th>3</th>\n",
       "      <td>3.2</td>\n",
       "      <td>35</td>\n",
       "      <td>Banana</td>\n",
       "    </tr>\n",
       "    <tr>\n",
       "      <th>4</th>\n",
       "      <td>5.5</td>\n",
       "      <td>80</td>\n",
       "      <td>Apple</td>\n",
       "    </tr>\n",
       "    <tr>\n",
       "      <th>5</th>\n",
       "      <td>7.1</td>\n",
       "      <td>120</td>\n",
       "      <td>Banana</td>\n",
       "    </tr>\n",
       "    <tr>\n",
       "      <th>6</th>\n",
       "      <td>2.5</td>\n",
       "      <td>60</td>\n",
       "      <td>Banana</td>\n",
       "    </tr>\n",
       "    <tr>\n",
       "      <th>7</th>\n",
       "      <td>2.3</td>\n",
       "      <td>100</td>\n",
       "      <td>Banana</td>\n",
       "    </tr>\n",
       "    <tr>\n",
       "      <th>8</th>\n",
       "      <td>4.8</td>\n",
       "      <td>70</td>\n",
       "      <td>Apple</td>\n",
       "    </tr>\n",
       "    <tr>\n",
       "      <th>9</th>\n",
       "      <td>4.8</td>\n",
       "      <td>79</td>\n",
       "      <td>Apple</td>\n",
       "    </tr>\n",
       "    <tr>\n",
       "      <th>10</th>\n",
       "      <td>5.8</td>\n",
       "      <td>120</td>\n",
       "      <td>Apple</td>\n",
       "    </tr>\n",
       "    <tr>\n",
       "      <th>11</th>\n",
       "      <td>2.6</td>\n",
       "      <td>85</td>\n",
       "      <td>Banana</td>\n",
       "    </tr>\n",
       "    <tr>\n",
       "      <th>12</th>\n",
       "      <td>6.0</td>\n",
       "      <td>110</td>\n",
       "      <td>Apple</td>\n",
       "    </tr>\n",
       "    <tr>\n",
       "      <th>13</th>\n",
       "      <td>6.3</td>\n",
       "      <td>95</td>\n",
       "      <td>Apple</td>\n",
       "    </tr>\n",
       "    <tr>\n",
       "      <th>14</th>\n",
       "      <td>3.0</td>\n",
       "      <td>40</td>\n",
       "      <td>Banana</td>\n",
       "    </tr>\n",
       "    <tr>\n",
       "      <th>15</th>\n",
       "      <td>3.5</td>\n",
       "      <td>25</td>\n",
       "      <td>Banana</td>\n",
       "    </tr>\n",
       "    <tr>\n",
       "      <th>16</th>\n",
       "      <td>5.5</td>\n",
       "      <td>100</td>\n",
       "      <td>Apple</td>\n",
       "    </tr>\n",
       "    <tr>\n",
       "      <th>17</th>\n",
       "      <td>7.5</td>\n",
       "      <td>120</td>\n",
       "      <td>Apple</td>\n",
       "    </tr>\n",
       "    <tr>\n",
       "      <th>18</th>\n",
       "      <td>2.5</td>\n",
       "      <td>50</td>\n",
       "      <td>Banana</td>\n",
       "    </tr>\n",
       "    <tr>\n",
       "      <th>19</th>\n",
       "      <td>2.7</td>\n",
       "      <td>40</td>\n",
       "      <td>Banana</td>\n",
       "    </tr>\n",
       "    <tr>\n",
       "      <th>20</th>\n",
       "      <td>4.8</td>\n",
       "      <td>90</td>\n",
       "      <td>Apple</td>\n",
       "    </tr>\n",
       "    <tr>\n",
       "      <th>21</th>\n",
       "      <td>5.8</td>\n",
       "      <td>90</td>\n",
       "      <td>Apple</td>\n",
       "    </tr>\n",
       "  </tbody>\n",
       "</table>\n",
       "</div>"
      ],
      "text/plain": [
       "    diameter  weight FruitName\n",
       "0        3.0      30    Banana\n",
       "1        6.0     100     Apple\n",
       "2        6.1      95     Apple\n",
       "3        3.2      35    Banana\n",
       "4        5.5      80     Apple\n",
       "5        7.1     120    Banana\n",
       "6        2.5      60    Banana\n",
       "7        2.3     100    Banana\n",
       "8        4.8      70     Apple\n",
       "9        4.8      79     Apple\n",
       "10       5.8     120     Apple\n",
       "11       2.6      85    Banana\n",
       "12       6.0     110     Apple\n",
       "13       6.3      95     Apple\n",
       "14       3.0      40    Banana\n",
       "15       3.5      25    Banana\n",
       "16       5.5     100     Apple\n",
       "17       7.5     120     Apple\n",
       "18       2.5      50    Banana\n",
       "19       2.7      40    Banana\n",
       "20       4.8      90     Apple\n",
       "21       5.8      90     Apple"
      ]
     },
     "execution_count": 42,
     "metadata": {},
     "output_type": "execute_result"
    }
   ],
   "source": [
    " #my sample\n",
    "\n",
    "df=pd.read_csv(\"e:/scientist/dataset/classification/fruits.csv\")\n",
    "df"
   ]
  },
  {
   "cell_type": "code",
   "execution_count": 43,
   "id": "cbe247b3",
   "metadata": {},
   "outputs": [
    {
     "data": {
      "text/plain": [
       "0.8636363636363636"
      ]
     },
     "execution_count": 43,
     "metadata": {},
     "output_type": "execute_result"
    }
   ],
   "source": [
    "x=df.iloc[:,:-1].values\n",
    "y=df.iloc[:,-1].values\n",
    "model.fit(x,y)\n",
    "pre=model.predict(x)\n",
    "accuracy_score(y,pre)"
   ]
  },
  {
   "cell_type": "code",
   "execution_count": 44,
   "id": "6bf5c32e",
   "metadata": {},
   "outputs": [],
   "source": [
    "df.at[5,\"diameter\"]=7.9\n",
    "df.at[3,\"diameter\"]=7.3\n",
    "df.at[7,\"diameter\"]=9.0\n",
    "df.at[20,\"diameter\"]=2.2 "
   ]
  },
  {
   "cell_type": "code",
   "execution_count": 45,
   "id": "7544fbf4",
   "metadata": {},
   "outputs": [
    {
     "data": {
      "text/html": [
       "<div>\n",
       "<style scoped>\n",
       "    .dataframe tbody tr th:only-of-type {\n",
       "        vertical-align: middle;\n",
       "    }\n",
       "\n",
       "    .dataframe tbody tr th {\n",
       "        vertical-align: top;\n",
       "    }\n",
       "\n",
       "    .dataframe thead th {\n",
       "        text-align: right;\n",
       "    }\n",
       "</style>\n",
       "<table border=\"1\" class=\"dataframe\">\n",
       "  <thead>\n",
       "    <tr style=\"text-align: right;\">\n",
       "      <th></th>\n",
       "      <th>diameter</th>\n",
       "      <th>weight</th>\n",
       "      <th>FruitName</th>\n",
       "    </tr>\n",
       "  </thead>\n",
       "  <tbody>\n",
       "    <tr>\n",
       "      <th>0</th>\n",
       "      <td>3.0</td>\n",
       "      <td>30</td>\n",
       "      <td>Banana</td>\n",
       "    </tr>\n",
       "    <tr>\n",
       "      <th>1</th>\n",
       "      <td>6.0</td>\n",
       "      <td>100</td>\n",
       "      <td>Apple</td>\n",
       "    </tr>\n",
       "    <tr>\n",
       "      <th>2</th>\n",
       "      <td>6.1</td>\n",
       "      <td>95</td>\n",
       "      <td>Apple</td>\n",
       "    </tr>\n",
       "    <tr>\n",
       "      <th>3</th>\n",
       "      <td>7.3</td>\n",
       "      <td>35</td>\n",
       "      <td>Banana</td>\n",
       "    </tr>\n",
       "    <tr>\n",
       "      <th>4</th>\n",
       "      <td>5.5</td>\n",
       "      <td>80</td>\n",
       "      <td>Apple</td>\n",
       "    </tr>\n",
       "    <tr>\n",
       "      <th>5</th>\n",
       "      <td>7.9</td>\n",
       "      <td>120</td>\n",
       "      <td>Banana</td>\n",
       "    </tr>\n",
       "    <tr>\n",
       "      <th>6</th>\n",
       "      <td>2.5</td>\n",
       "      <td>60</td>\n",
       "      <td>Banana</td>\n",
       "    </tr>\n",
       "    <tr>\n",
       "      <th>7</th>\n",
       "      <td>9.0</td>\n",
       "      <td>100</td>\n",
       "      <td>Banana</td>\n",
       "    </tr>\n",
       "    <tr>\n",
       "      <th>8</th>\n",
       "      <td>4.8</td>\n",
       "      <td>70</td>\n",
       "      <td>Apple</td>\n",
       "    </tr>\n",
       "    <tr>\n",
       "      <th>9</th>\n",
       "      <td>4.8</td>\n",
       "      <td>79</td>\n",
       "      <td>Apple</td>\n",
       "    </tr>\n",
       "    <tr>\n",
       "      <th>10</th>\n",
       "      <td>5.8</td>\n",
       "      <td>120</td>\n",
       "      <td>Apple</td>\n",
       "    </tr>\n",
       "    <tr>\n",
       "      <th>11</th>\n",
       "      <td>2.6</td>\n",
       "      <td>85</td>\n",
       "      <td>Banana</td>\n",
       "    </tr>\n",
       "    <tr>\n",
       "      <th>12</th>\n",
       "      <td>6.0</td>\n",
       "      <td>110</td>\n",
       "      <td>Apple</td>\n",
       "    </tr>\n",
       "    <tr>\n",
       "      <th>13</th>\n",
       "      <td>6.3</td>\n",
       "      <td>95</td>\n",
       "      <td>Apple</td>\n",
       "    </tr>\n",
       "    <tr>\n",
       "      <th>14</th>\n",
       "      <td>3.0</td>\n",
       "      <td>40</td>\n",
       "      <td>Banana</td>\n",
       "    </tr>\n",
       "    <tr>\n",
       "      <th>15</th>\n",
       "      <td>3.5</td>\n",
       "      <td>25</td>\n",
       "      <td>Banana</td>\n",
       "    </tr>\n",
       "    <tr>\n",
       "      <th>16</th>\n",
       "      <td>5.5</td>\n",
       "      <td>100</td>\n",
       "      <td>Apple</td>\n",
       "    </tr>\n",
       "    <tr>\n",
       "      <th>17</th>\n",
       "      <td>7.5</td>\n",
       "      <td>120</td>\n",
       "      <td>Apple</td>\n",
       "    </tr>\n",
       "    <tr>\n",
       "      <th>18</th>\n",
       "      <td>2.5</td>\n",
       "      <td>50</td>\n",
       "      <td>Banana</td>\n",
       "    </tr>\n",
       "    <tr>\n",
       "      <th>19</th>\n",
       "      <td>2.7</td>\n",
       "      <td>40</td>\n",
       "      <td>Banana</td>\n",
       "    </tr>\n",
       "    <tr>\n",
       "      <th>20</th>\n",
       "      <td>2.2</td>\n",
       "      <td>90</td>\n",
       "      <td>Apple</td>\n",
       "    </tr>\n",
       "    <tr>\n",
       "      <th>21</th>\n",
       "      <td>5.8</td>\n",
       "      <td>90</td>\n",
       "      <td>Apple</td>\n",
       "    </tr>\n",
       "  </tbody>\n",
       "</table>\n",
       "</div>"
      ],
      "text/plain": [
       "    diameter  weight FruitName\n",
       "0        3.0      30    Banana\n",
       "1        6.0     100     Apple\n",
       "2        6.1      95     Apple\n",
       "3        7.3      35    Banana\n",
       "4        5.5      80     Apple\n",
       "5        7.9     120    Banana\n",
       "6        2.5      60    Banana\n",
       "7        9.0     100    Banana\n",
       "8        4.8      70     Apple\n",
       "9        4.8      79     Apple\n",
       "10       5.8     120     Apple\n",
       "11       2.6      85    Banana\n",
       "12       6.0     110     Apple\n",
       "13       6.3      95     Apple\n",
       "14       3.0      40    Banana\n",
       "15       3.5      25    Banana\n",
       "16       5.5     100     Apple\n",
       "17       7.5     120     Apple\n",
       "18       2.5      50    Banana\n",
       "19       2.7      40    Banana\n",
       "20       2.2      90     Apple\n",
       "21       5.8      90     Apple"
      ]
     },
     "execution_count": 45,
     "metadata": {},
     "output_type": "execute_result"
    }
   ],
   "source": [
    "df"
   ]
  },
  {
   "cell_type": "code",
   "execution_count": 46,
   "id": "badd3399",
   "metadata": {},
   "outputs": [
    {
     "data": {
      "text/plain": [
       "<Axes: xlabel='diameter', ylabel='weight'>"
      ]
     },
     "execution_count": 46,
     "metadata": {},
     "output_type": "execute_result"
    },
    {
     "data": {
      "image/png": "[encoded data removed]",
      "text/plain": [
       "<Figure size 640x480 with 1 Axes>"
      ]
     },
     "metadata": {},
     "output_type": "display_data"
    }
   ],
   "source": [
    "sb.scatterplot(x=df.diameter,y=df.weight,hue=df.FruitName)"
   ]
  },
  {
   "cell_type": "code",
   "execution_count": 47,
   "id": "e7cfdb9f",
   "metadata": {},
   "outputs": [
    {
     "data": {
      "text/html": [
       "<div>\n",
       "<style scoped>\n",
       "    .dataframe tbody tr th:only-of-type {\n",
       "        vertical-align: middle;\n",
       "    }\n",
       "\n",
       "    .dataframe tbody tr th {\n",
       "        vertical-align: top;\n",
       "    }\n",
       "\n",
       "    .dataframe thead th {\n",
       "        text-align: right;\n",
       "    }\n",
       "</style>\n",
       "<table border=\"1\" class=\"dataframe\">\n",
       "  <thead>\n",
       "    <tr style=\"text-align: right;\">\n",
       "      <th></th>\n",
       "      <th>diameter</th>\n",
       "      <th>weight</th>\n",
       "      <th>FruitName</th>\n",
       "    </tr>\n",
       "  </thead>\n",
       "  <tbody>\n",
       "    <tr>\n",
       "      <th>0</th>\n",
       "      <td>3.0</td>\n",
       "      <td>30</td>\n",
       "      <td>Banana</td>\n",
       "    </tr>\n",
       "    <tr>\n",
       "      <th>1</th>\n",
       "      <td>6.0</td>\n",
       "      <td>100</td>\n",
       "      <td>Apple</td>\n",
       "    </tr>\n",
       "    <tr>\n",
       "      <th>2</th>\n",
       "      <td>6.1</td>\n",
       "      <td>95</td>\n",
       "      <td>Apple</td>\n",
       "    </tr>\n",
       "    <tr>\n",
       "      <th>3</th>\n",
       "      <td>3.2</td>\n",
       "      <td>35</td>\n",
       "      <td>Banana</td>\n",
       "    </tr>\n",
       "    <tr>\n",
       "      <th>4</th>\n",
       "      <td>5.5</td>\n",
       "      <td>80</td>\n",
       "      <td>Apple</td>\n",
       "    </tr>\n",
       "    <tr>\n",
       "      <th>5</th>\n",
       "      <td>7.1</td>\n",
       "      <td>120</td>\n",
       "      <td>Banana</td>\n",
       "    </tr>\n",
       "    <tr>\n",
       "      <th>6</th>\n",
       "      <td>2.5</td>\n",
       "      <td>60</td>\n",
       "      <td>Banana</td>\n",
       "    </tr>\n",
       "    <tr>\n",
       "      <th>7</th>\n",
       "      <td>2.3</td>\n",
       "      <td>100</td>\n",
       "      <td>Banana</td>\n",
       "    </tr>\n",
       "    <tr>\n",
       "      <th>8</th>\n",
       "      <td>4.8</td>\n",
       "      <td>70</td>\n",
       "      <td>Apple</td>\n",
       "    </tr>\n",
       "    <tr>\n",
       "      <th>9</th>\n",
       "      <td>4.8</td>\n",
       "      <td>79</td>\n",
       "      <td>Apple</td>\n",
       "    </tr>\n",
       "    <tr>\n",
       "      <th>10</th>\n",
       "      <td>5.8</td>\n",
       "      <td>120</td>\n",
       "      <td>Apple</td>\n",
       "    </tr>\n",
       "    <tr>\n",
       "      <th>11</th>\n",
       "      <td>2.6</td>\n",
       "      <td>85</td>\n",
       "      <td>Banana</td>\n",
       "    </tr>\n",
       "    <tr>\n",
       "      <th>12</th>\n",
       "      <td>6.0</td>\n",
       "      <td>110</td>\n",
       "      <td>Apple</td>\n",
       "    </tr>\n",
       "    <tr>\n",
       "      <th>13</th>\n",
       "      <td>6.3</td>\n",
       "      <td>95</td>\n",
       "      <td>Apple</td>\n",
       "    </tr>\n",
       "    <tr>\n",
       "      <th>14</th>\n",
       "      <td>3.0</td>\n",
       "      <td>40</td>\n",
       "      <td>Banana</td>\n",
       "    </tr>\n",
       "    <tr>\n",
       "      <th>15</th>\n",
       "      <td>3.5</td>\n",
       "      <td>25</td>\n",
       "      <td>Banana</td>\n",
       "    </tr>\n",
       "    <tr>\n",
       "      <th>16</th>\n",
       "      <td>5.5</td>\n",
       "      <td>100</td>\n",
       "      <td>Apple</td>\n",
       "    </tr>\n",
       "    <tr>\n",
       "      <th>17</th>\n",
       "      <td>7.5</td>\n",
       "      <td>120</td>\n",
       "      <td>Apple</td>\n",
       "    </tr>\n",
       "    <tr>\n",
       "      <th>18</th>\n",
       "      <td>2.5</td>\n",
       "      <td>50</td>\n",
       "      <td>Banana</td>\n",
       "    </tr>\n",
       "    <tr>\n",
       "      <th>19</th>\n",
       "      <td>2.7</td>\n",
       "      <td>40</td>\n",
       "      <td>Banana</td>\n",
       "    </tr>\n",
       "    <tr>\n",
       "      <th>20</th>\n",
       "      <td>4.8</td>\n",
       "      <td>90</td>\n",
       "      <td>Apple</td>\n",
       "    </tr>\n",
       "    <tr>\n",
       "      <th>21</th>\n",
       "      <td>5.8</td>\n",
       "      <td>90</td>\n",
       "      <td>Apple</td>\n",
       "    </tr>\n",
       "  </tbody>\n",
       "</table>\n",
       "</div>"
      ],
      "text/plain": [
       "    diameter  weight FruitName\n",
       "0        3.0      30    Banana\n",
       "1        6.0     100     Apple\n",
       "2        6.1      95     Apple\n",
       "3        3.2      35    Banana\n",
       "4        5.5      80     Apple\n",
       "5        7.1     120    Banana\n",
       "6        2.5      60    Banana\n",
       "7        2.3     100    Banana\n",
       "8        4.8      70     Apple\n",
       "9        4.8      79     Apple\n",
       "10       5.8     120     Apple\n",
       "11       2.6      85    Banana\n",
       "12       6.0     110     Apple\n",
       "13       6.3      95     Apple\n",
       "14       3.0      40    Banana\n",
       "15       3.5      25    Banana\n",
       "16       5.5     100     Apple\n",
       "17       7.5     120     Apple\n",
       "18       2.5      50    Banana\n",
       "19       2.7      40    Banana\n",
       "20       4.8      90     Apple\n",
       "21       5.8      90     Apple"
      ]
     },
     "execution_count": 47,
     "metadata": {},
     "output_type": "execute_result"
    }
   ],
   "source": [
    "\n",
    "df=pd.read_csv(\"e:/scientist/dataset/classification/fruits.csv\")\n",
    "df"
   ]
  },
  {
   "cell_type": "code",
   "execution_count": 48,
   "id": "df537af7",
   "metadata": {},
   "outputs": [],
   "source": [
    "from sklearn .neighbors import KNeighborsClassifier"
   ]
  },
  {
   "cell_type": "code",
   "execution_count": 49,
   "id": "aaea3e01",
   "metadata": {},
   "outputs": [],
   "source": [
    "model=KNeighborsClassifier()\n",
    "\n"
   ]
  },
  {
   "cell_type": "code",
   "execution_count": 50,
   "id": "48fe9b25",
   "metadata": {},
   "outputs": [
    {
     "ename": "SyntaxError",
     "evalue": "invalid non-printable character U+200B (2883130615.py, line 37)",
     "output_type": "error",
     "traceback": [
      "\u001b[1;36m  Cell \u001b[1;32mIn[50], line 37\u001b[1;36m\u001b[0m\n\u001b[1;33m    ​\u001b[0m\n\u001b[1;37m    ^\u001b[0m\n\u001b[1;31mSyntaxError\u001b[0m\u001b[1;31m:\u001b[0m invalid non-printable character U+200B\n"
     ]
    }
   ],
   "source": [
    "\n",
    "x_train,x_test,y_train,y_test=train_test_split(x,y,random_state=1)\n",
    "x_train\n",
    "array([[  5.8, 120. ],\n",
    "       [  5.5,  80. ],\n",
    "       [  6.1,  95. ],\n",
    "       [  7.5, 120. ],\n",
    "       [  2.5,  60. ],\n",
    "       [  2.3, 100. ],\n",
    "       [  6. , 100. ],\n",
    "       [  3. ,  40. ],\n",
    "       [  3. ,  30. ],\n",
    "       [  5.8,  90. ],\n",
    "       [  4.8,  90. ],\n",
    "       [  4.8,  79. ],\n",
    "       [  4.8,  70. ],\n",
    "       [  6. , 110. ],\n",
    "       [  2.6,  85. ],\n",
    "       [  7.1, 120. ]])\n",
    "y_train\n",
    "array(['Apple', 'Apple', 'Apple', 'Apple', 'Banana', 'Banana', 'Apple',\n",
    "       'Banana', 'Banana', 'Apple', 'Apple', 'Apple', 'Apple', 'Apple',\n",
    "       'Banana', 'Banana'], dtype=object)\n",
    "x_test\n",
    "array([[  2.7,  40. ],\n",
    "       [  5.5, 100. ],\n",
    "       [  3.2,  35. ],\n",
    "       [  6.3,  95. ],\n",
    "       [  2.5,  50. ],\n",
    "       [  3.5,  25. ]])\n",
    "y_test\n",
    "array(['Banana', 'Apple', 'Banana', 'Apple', 'Banana', 'Banana'],\n",
    "      dtype=object)\n",
    "model=KNeighborsClassifier()\n",
    "model.fit(x_train,y_train)\n",
    "pre_train=model.predict(x_train)\n",
    "pre_test=model.predict(x_test)\n",
    "​\n",
    "accuracy_score(y_train,pre_train)\n",
    "0.75\n",
    "accuracy_score(y_test,pre_test)\n",
    "1.0\n",
    "model=KNeighborsClassifier()\n",
    "x=df.iloc[:,:-1].values\n",
    "y=df.iloc[:,-1].values\n",
    "model.fit(x,y)\n",
    "model.predict([[3.4,50]])\n",
    "array(['Banana'], dtype=object)\n",
    "model.predict([[4.5,35]])\n",
    "array(['Banana'], dtype=object)\n",
    "model.predict([[4.5,79]])\n",
    "#model.predict([[6.7,90]])\n",
    "array(['Apple'], dtype=object)\n",
    "from sklearn.feature_selection import f_classif\n",
    "import pandas as pd\n",
    "df=pd.read_csv(\"e:/scientist/dataset/classification/fruits.csv\")\n",
    "from sklearn.neighbors import KNeighborsClassifier\n",
    "from sklearn.metrics import accuracy_score\n",
    "model=KNeighborsClassifier()\n",
    "x=df.iloc[:,:-1].values\n",
    "y=df.iloc[:,-1].values\n",
    "model.fit(x,y)\n",
    "pre=model.predict(x)\n",
    "accuracy_score(pre,y)"
   ]
  },
  {
   "cell_type": "markdown",
   "id": "b03b3900",
   "metadata": {},
   "source": [
    "# TRAIN_TEST_SPLIT"
   ]
  },
  {
   "cell_type": "code",
   "execution_count": null,
   "id": "a5cbf917",
   "metadata": {},
   "outputs": [],
   "source": [
    "\n",
    "\n",
    "df=pd.read_csv(\"e:/scientist/dataset/classification/fruits.csv\")\n",
    "df"
   ]
  },
  {
   "cell_type": "code",
   "execution_count": null,
   "id": "87281331",
   "metadata": {},
   "outputs": [],
   "source": [
    "model=KNeighborsClassifier()\n",
    "x=df.iloc[:,:-1].values\n",
    "y=df.iloc[:,-1].values\n",
    "model.fit(x,y)\n",
    "pre=model.predict(x)\n",
    "accuracy_score(y,pre)"
   ]
  },
  {
   "cell_type": "markdown",
   "id": "d14bceff",
   "metadata": {},
   "source": [
    "# from sklearn .model_selection import train_test_split"
   ]
  },
  {
   "cell_type": "code",
   "execution_count": null,
   "id": "d9c219a6",
   "metadata": {},
   "outputs": [],
   "source": [
    "from sklearn .model_selection import train_test_split"
   ]
  },
  {
   "cell_type": "code",
   "execution_count": null,
   "id": "646a2614",
   "metadata": {},
   "outputs": [],
   "source": [
    "train_test_split([1,2,3,4,5,6])"
   ]
  },
  {
   "cell_type": "code",
   "execution_count": null,
   "id": "0a272961",
   "metadata": {},
   "outputs": [],
   "source": [
    "train_test_split([1,2,3,4,5,6,7,8,9],train_size=7)"
   ]
  },
  {
   "cell_type": "markdown",
   "id": "f09351d0",
   "metadata": {},
   "source": []
  },
  {
   "cell_type": "code",
   "execution_count": null,
   "id": "6bc9156d",
   "metadata": {},
   "outputs": [],
   "source": [
    "train_test_split([1,2,3,4,5,6,7,8,9],test_size=.7)"
   ]
  },
  {
   "cell_type": "code",
   "execution_count": null,
   "id": "944614c2",
   "metadata": {},
   "outputs": [],
   "source": [
    "train_test_split([1,2,3,4,5,6,7,8,9],train_size=.8,test_size=.2)"
   ]
  },
  {
   "cell_type": "markdown",
   "id": "7fa19838",
   "metadata": {},
   "source": [
    "#  train size and test size over error"
   ]
  },
  {
   "cell_type": "code",
   "execution_count": null,
   "id": "b2c18e0a",
   "metadata": {},
   "outputs": [],
   "source": [
    "train_test_split([1,2,3,4,5,6,7,8,9],train_size=.5,test_size=.6)"
   ]
  },
  {
   "cell_type": "markdown",
   "id": "3fe7dbf3",
   "metadata": {},
   "source": [
    "# random_state fuction infinty run code but same values"
   ]
  },
  {
   "cell_type": "code",
   "execution_count": null,
   "id": "42ff9b0d",
   "metadata": {},
   "outputs": [],
   "source": [
    "train_test_split([1,2,3,4,5,6,7,8,9,10],random_state=1)"
   ]
  },
  {
   "cell_type": "code",
   "execution_count": null,
   "id": "460556b7",
   "metadata": {},
   "outputs": [],
   "source": [
    "train_test_split([1,2,3,4,5],[6,7,8,9,10],random_state=1)"
   ]
  },
  {
   "cell_type": "code",
   "execution_count": null,
   "id": "f3f3e9a2",
   "metadata": {},
   "outputs": [],
   "source": [
    "\n",
    "model=KNeighborsClassifier()\n",
    "x=df.iloc[:,:-1].values\n",
    "y=df.iloc[:,-1].values\n",
    "x_train,x_test,y_train,y_test=train_test_split(x,y,random_state=1)"
   ]
  },
  {
   "cell_type": "code",
   "execution_count": null,
   "id": "4f306d4d",
   "metadata": {},
   "outputs": [],
   "source": [
    "x_train"
   ]
  },
  {
   "cell_type": "code",
   "execution_count": null,
   "id": "9d6bf8a3",
   "metadata": {},
   "outputs": [],
   "source": [
    "y_train"
   ]
  },
  {
   "cell_type": "code",
   "execution_count": null,
   "id": "fa7bb8da",
   "metadata": {},
   "outputs": [],
   "source": [
    "x_test"
   ]
  },
  {
   "cell_type": "code",
   "execution_count": null,
   "id": "b9134bd9",
   "metadata": {},
   "outputs": [],
   "source": [
    "y_test"
   ]
  },
  {
   "cell_type": "code",
   "execution_count": null,
   "id": "0cc18256",
   "metadata": {},
   "outputs": [],
   "source": [
    "model=KNeighborsClassifier()\n",
    "model.fit (x_train,y_train)"
   ]
  },
  {
   "cell_type": "code",
   "execution_count": null,
   "id": "9eb381c8",
   "metadata": {},
   "outputs": [],
   "source": [
    "pre_train=model.predict(x_train)\n",
    "pre_test=model.predict(x_test)\n",
    "accuracy_score(y_train,pre_train)"
   ]
  },
  {
   "cell_type": "code",
   "execution_count": null,
   "id": "aa467f3b",
   "metadata": {},
   "outputs": [],
   "source": [
    "accuracy_score(y_test,pre_test)"
   ]
  },
  {
   "cell_type": "markdown",
   "id": "c3105527",
   "metadata": {},
   "source": [
    "# model predict"
   ]
  },
  {
   "cell_type": "code",
   "execution_count": null,
   "id": "3f8b7c8e",
   "metadata": {},
   "outputs": [],
   "source": [
    "import pandas as pd\n",
    "from sklearn.neighbors import KNeighborsClassifier\n",
    "df=pd.read_csv(\"e:/scientist/dataset/classification/fruits.csv\")\n",
    "x=df.iloc[:,:-1].values\n",
    "y=df.iloc[:,-1].values\n",
    "model=KNeighborsClassifier()\n",
    "model.fit(x,y)\n"
   ]
  },
  {
   "cell_type": "code",
   "execution_count": null,
   "id": "90096465",
   "metadata": {},
   "outputs": [],
   "source": [
    "model.predict([[2.3,40]])   "
   ]
  },
  {
   "cell_type": "code",
   "execution_count": null,
   "id": "6c8a7228",
   "metadata": {},
   "outputs": [],
   "source": [
    "model.predict([[2.3,80]])   "
   ]
  },
  {
   "cell_type": "markdown",
   "id": "33bb8f1e",
   "metadata": {},
   "source": [
    "# feature scaling     ( feature and  target equal"
   ]
  },
  {
   "cell_type": "markdown",
   "id": "57804aa4",
   "metadata": {},
   "source": [
    " # Feature scaling\n",
    " - making all features in same range \n",
    " -sothat all features will contribute equally in oredict\n",
    " # note: we do not perform scaling then feature with big data values will impact the predict\n",
    " \n",
    " \n",
    " # techiques\n",
    " - minmaxscaler\n",
    " - maxabsscaler\n",
    "  - standarscaler\n",
    " - binarize"
   ]
  },
  {
   "cell_type": "code",
   "execution_count": null,
   "id": "b66de0ab",
   "metadata": {},
   "outputs": [],
   "source": [
    "import  numpy as np"
   ]
  },
  {
   "cell_type": "code",
   "execution_count": null,
   "id": "8a7d925f",
   "metadata": {},
   "outputs": [],
   "source": [
    "x=np.array([[2,20],[1,17],[6,40],[4,20],[3,50],[8,20]])"
   ]
  },
  {
   "cell_type": "code",
   "execution_count": null,
   "id": "0f200949",
   "metadata": {},
   "outputs": [],
   "source": [
    "print(x)"
   ]
  },
  {
   "cell_type": "code",
   "execution_count": null,
   "id": "7b738032",
   "metadata": {},
   "outputs": [],
   "source": [
    "from sklearn.model_selection import train_test_split\n",
    "x_train,x_test=train_test_split(x,random_state=1)"
   ]
  },
  {
   "cell_type": "code",
   "execution_count": null,
   "id": "dee7ea53",
   "metadata": {},
   "outputs": [],
   "source": [
    "x_train"
   ]
  },
  {
   "cell_type": "code",
   "execution_count": null,
   "id": "d79806eb",
   "metadata": {},
   "outputs": [],
   "source": [
    "x_test"
   ]
  },
  {
   "cell_type": "markdown",
   "id": "a3c31473",
   "metadata": {},
   "source": [
    " # 4 modeule [ preprocessing]"
   ]
  },
  {
   "cell_type": "code",
   "execution_count": null,
   "id": "28f0152b",
   "metadata": {},
   "outputs": [],
   "source": [
    "pip install preprocessing"
   ]
  },
  {
   "cell_type": "code",
   "execution_count": null,
   "id": "16312fd1",
   "metadata": {},
   "outputs": [],
   "source": [
    "from  sklearn.preprocessing import MinMaxScaler"
   ]
  },
  {
   "cell_type": "code",
   "execution_count": null,
   "id": "92aac456",
   "metadata": {},
   "outputs": [],
   "source": [
    "x_train"
   ]
  },
  {
   "cell_type": "code",
   "execution_count": null,
   "id": "22765cc5",
   "metadata": {},
   "outputs": [],
   "source": [
    "x_test"
   ]
  },
  {
   "cell_type": "code",
   "execution_count": null,
   "id": "bf66b6bd",
   "metadata": {},
   "outputs": [],
   "source": [
    "sc=MinMaxScaler(feature_range=(0,1))\n",
    "sc.fit(x_train) # find (learn) values of max & min for all feature\n",
    "x_train_new=sc.transform(x_train)\n",
    "print(x_train_new)"
   ]
  },
  {
   "cell_type": "code",
   "execution_count": null,
   "id": "bf0cd9a4",
   "metadata": {},
   "outputs": [],
   "source": [
    "x_test_new=sc.transform(x_test)\n",
    "print(x_test_new)\n"
   ]
  },
  {
   "cell_type": "code",
   "execution_count": null,
   "id": "a59d48b3",
   "metadata": {},
   "outputs": [],
   "source": []
  },
  {
   "cell_type": "code",
   "execution_count": 7,
   "id": "44558f67",
   "metadata": {},
   "outputs": [],
   "source": [
    "import pandas as pd\n",
    "from sklearn.neighbors import KNeighborsClassifier\n",
    "from sklearn.preprocessing import MinMaxScaler\n",
    "from sklearn.model_selection import train_test_split\n",
    "from sklearn.metrics import accuracy_score"
   ]
  },
  {
   "cell_type": "code",
   "execution_count": 26,
   "id": "43255468",
   "metadata": {},
   "outputs": [
    {
     "name": "stdout",
     "output_type": "stream",
     "text": [
      "Train Score: 0.9375\n",
      "Test score: 1.0\n"
     ]
    }
   ],
   "source": [
    "df=pd.read_csv(\"e:/scientist/dataset/classification/fruits.csv\")\n",
    "x=df.iloc[:,:-1].values\n",
    "y=df.iloc[:,-1].values\n",
    "x_train,x_test,y_train,y_test=train_test_split(x,y,random_state=1)\n",
    "\n",
    "sc=MinMaxScaler(feature_range=(0,1))\n",
    "x_train_new=sc.fit_transform(x_train)\n",
    "x_test_new=sc.transform(x_test)\n",
    "model=KNeighborsClassifier(n_neighbors=5,metric=\"euclidean\")\n",
    "model.fit(x_train_new,y_train)\n",
    "pre_train=model.predict(x_train_new)\n",
    "pre_test=model.predict(x_test_new)\n",
    "print(\"Train Score:\",accuracy_score(y_train,pre_train))\n",
    "print(\"Test score:\",accuracy_score(y_test,pre_test))"
   ]
  },
  {
   "cell_type": "code",
   "execution_count": 35,
   "id": "3be725a3",
   "metadata": {},
   "outputs": [
    {
     "name": "stdout",
     "output_type": "stream",
     "text": [
      "Train Score: 0.9375\n",
      "Test score: 1.0\n"
     ]
    }
   ],
   "source": [
    "df=pd.read_csv(\"e:/scientist/dataset/classification/fruits.csv\")\n",
    "x=df.iloc[:,:-1].values\n",
    "y=df.iloc[:,-1].values\n",
    "x_train,x_test,y_train,y_test=train_test_split(x,y,random_state=1)\n",
    "\n",
    "sc=MinMaxScaler(feature_range=(0,1))\n",
    "x_train_new=sc.fit_transform(x_train)\n",
    "x_test_new=sc.transform(x_test)\n",
    "model=KNeighborsClassifier(n_neighbors=5,metric=\"manhattan\",weights=\"uniform\",p=2)\n",
    "model.fit(x_train_new,y_train)\n",
    "pre_train=model.predict(x_train_new)\n",
    "pre_test=model.predict(x_test_new)\n",
    "print(\"Train Score:\",accuracy_score(y_train,pre_train))\n",
    "print(\"Test score:\",accuracy_score(y_test,pre_test))"
   ]
  },
  {
   "cell_type": "markdown",
   "id": "a9249e52",
   "metadata": {},
   "source": [
    "# With feature scaling"
   ]
  },
  {
   "cell_type": "code",
   "execution_count": null,
   "id": "aacfe778",
   "metadata": {},
   "outputs": [],
   "source": [
    "sc=MinMaxScaler(feature_range=(0,1))\n",
    "x_train_new=sc.fit_transform(x_train)\n",
    "x_test_new=sc.transform(x_test)\n",
    "............................................................................\n",
    "model=KNeighborsClassifier()\n",
    "model.fit(x_train,y_train)\n",
    "pre_train=model.predict(x_train_new)\n",
    "pre_test=model.predict(x_test_new)\n",
    "print(\"Train Score:\",accuracy_score(y_train,pre_train))\n",
    "print(\"Test score:\",accuracy_score(y_test,pre_test))"
   ]
  },
  {
   "cell_type": "markdown",
   "id": "35a7a6f4",
   "metadata": {},
   "source": [
    "# without feature scaling"
   ]
  },
  {
   "cell_type": "code",
   "execution_count": null,
   "id": "94d71516",
   "metadata": {},
   "outputs": [],
   "source": [
    "\n",
    "model=KNeighborsClassifier()\n",
    "model.fit(x_train,y_train)\n",
    "pre_train=model.predict(x_train)\n",
    "pre_test=model.predict(x_test)\n",
    "print(\"Train Score:\",accuracy_score(y_train,pre_train))\n",
    "print(\"Test score:\",accuracy_score(y_test,pre_test))"
   ]
  },
  {
   "cell_type": "markdown",
   "id": "003ec921",
   "metadata": {},
   "source": [
    "# user input  and model perdict"
   ]
  },
  {
   "cell_type": "code",
   "execution_count": null,
   "id": "e32f404c",
   "metadata": {},
   "outputs": [],
   "source": [
    "a=float(input(\"enter the number  :\"))\n",
    "b=float(input(\"enter the number  :\"))\n",
    "sample=sc.transform([[a,b]])\n",
    "model.predict(sample)"
   ]
  },
  {
   "cell_type": "code",
   "execution_count": null,
   "id": "3f6be1b2",
   "metadata": {},
   "outputs": [],
   "source": [
    "a=float(input(\"enter the number  :\"))\n",
    "b=float(input(\"enter the number  :\"))\n",
    "sample=sc.transform([[a,b]])\n",
    "model.predict(sample)"
   ]
  },
  {
   "cell_type": "code",
   "execution_count": null,
   "id": "980ca50d",
   "metadata": {},
   "outputs": [],
   "source": [
    " "
   ]
  },
  {
   "cell_type": "markdown",
   "id": "62a99e3a",
   "metadata": {},
   "source": [
    " # use in matplotlib \n",
    " "
   ]
  },
  {
   "cell_type": "code",
   "execution_count": 2,
   "id": "c68c0eae",
   "metadata": {},
   "outputs": [],
   "source": [
    "import matplotlib .pyplot as plt\n",
    "import seaborn as sb"
   ]
  },
  {
   "cell_type": "code",
   "execution_count": 3,
   "id": "ba73ac68",
   "metadata": {},
   "outputs": [
    {
     "ename": "NameError",
     "evalue": "name 'df' is not defined",
     "output_type": "error",
     "traceback": [
      "\u001b[1;31m---------------------------------------------------------------------------\u001b[0m",
      "\u001b[1;31mNameError\u001b[0m                                 Traceback (most recent call last)",
      "Cell \u001b[1;32mIn[3], line 1\u001b[0m\n\u001b[1;32m----> 1\u001b[0m sb\u001b[38;5;241m.\u001b[39mscatterplot(x\u001b[38;5;241m=\u001b[39m\u001b[43mdf\u001b[49m\u001b[38;5;241m.\u001b[39mdiameter,y\u001b[38;5;241m=\u001b[39mdf\u001b[38;5;241m.\u001b[39mweight,)\n\u001b[0;32m      2\u001b[0m plt\u001b[38;5;241m.\u001b[39mshow()\n",
      "\u001b[1;31mNameError\u001b[0m: name 'df' is not defined"
     ]
    }
   ],
   "source": [
    "sb.scatterplot(x=df.diameter,y=df.weight,)\n",
    "plt.show()"
   ]
  },
  {
   "cell_type": "code",
   "execution_count": null,
   "id": "167e8166",
   "metadata": {},
   "outputs": [],
   "source": [
    "sb.scatterplot(x=df.diameter,y=df.weight,hue=df.FruitName)\n",
    "plt.show()\n"
   ]
  },
  {
   "cell_type": "markdown",
   "id": "06451eae",
   "metadata": {},
   "source": [
    "# feature scaling with hyper- parameter turing ( most  question in the interview)\n",
    "- parameter  are values that an object learn from data\n",
    "- hyper-parameter are values that we pass exlicity to object\n",
    " -  exp:\n",
    "      - in scaler object\n",
    "        - minrange,maxrange are hyper- para meter\n",
    "        - xmax.amin are parameter"
   ]
  },
  {
   "cell_type": "code",
   "execution_count": 1,
   "id": "255b42c5",
   "metadata": {},
   "outputs": [
    {
     "ename": "NameError",
     "evalue": "name 'MinMaxScaler' is not defined",
     "output_type": "error",
     "traceback": [
      "\u001b[1;31m---------------------------------------------------------------------------\u001b[0m",
      "\u001b[1;31mNameError\u001b[0m                                 Traceback (most recent call last)",
      "Cell \u001b[1;32mIn[1], line 1\u001b[0m\n\u001b[1;32m----> 1\u001b[0m sc\u001b[38;5;241m=\u001b[39m\u001b[43mMinMaxScaler\u001b[49m(feature_range\u001b[38;5;241m=\u001b[39m(\u001b[38;5;241m0\u001b[39m,\u001b[38;5;241m1\u001b[39m))\n\u001b[0;32m      2\u001b[0m x_train_new\u001b[38;5;241m=\u001b[39msc\u001b[38;5;241m.\u001b[39mfit_transform(x_train)\n\u001b[0;32m      3\u001b[0m x_test_new\u001b[38;5;241m=\u001b[39msc\u001b[38;5;241m.\u001b[39mtransform(x_test)\n",
      "\u001b[1;31mNameError\u001b[0m: name 'MinMaxScaler' is not defined"
     ]
    }
   ],
   "source": [
    "\n",
    "\n",
    "\n",
    "\n",
    "sc=MinMaxScaler(feature_range=(0,1))\n",
    "x_train_new=sc.fit_transform(x_train)\n",
    "x_test_new=sc.transform(x_test)\n",
    "for i in range(1,10):\n",
    "    model=KNeighborsClassifier(n_neighbors=i)\n",
    "    model.fit(x_train,y_train)\n",
    "    pre_train=model.predict(x_train_new)\n",
    "    pre_test=model.predict(x_test_new)\n",
    "    print(\"Train Score:\",accuracy_score(y_train,pre_train))\n",
    "    print(\"Test score:\",accuracy_score(y_test,pre_test))\n",
    "    print(\"Data\")\n",
    "    \n",
    "    \n",
    "\n",
    "    \n",
    "    \n"
   ]
  },
  {
   "cell_type": "markdown",
   "id": "de497f04",
   "metadata": {},
   "source": [
    "# euclidean"
   ]
  },
  {
   "cell_type": "code",
   "execution_count": null,
   "id": "2ea404fa",
   "metadata": {},
   "outputs": [],
   "source": [
    "\n",
    "sc=MinMaxScaler(feature_range=(0,1))\n",
    "x_train_new=sc.fit_transform(x_train)\n",
    "x_test_new=sc.transform(x_test)   \n",
    "model=KNeighborsClassifier(n_neighbors=5,metric=\"euclidean\"  )                        \n",
    "model.fit(x_train,y_train)\n",
    "pre_train=model.predict(x_train_new)\n",
    "pre_test=model.predict(x_test_new)\n",
    "print(\"Train Score:\",accuracy_score(y_train,pre_train))\n",
    "print(\"Test score:\",accuracy_score(y_test,pre_test))\n",
    "print(\"EUCLIDEAN\")\n",
    "    \n",
    "    "
   ]
  },
  {
   "cell_type": "markdown",
   "id": "ed68ad77",
   "metadata": {},
   "source": [
    "# manhattan"
   ]
  },
  {
   "cell_type": "code",
   "execution_count": null,
   "id": "0d7012d9",
   "metadata": {},
   "outputs": [],
   "source": [
    "\n",
    "sc=MinMaxScaler(feature_range=(0,1))\n",
    "x_train_new=sc.fit_transform(x_train)\n",
    "x_test_new=sc.transform(x_test)   \n",
    "model=KNeighborsClassifier(n_neighbors=5,metric=\"manhattan\" ,p=2 )                        \n",
    "model.fit(x_train,y_train)\n",
    "pre_train=model.predict(x_train_new)\n",
    "pre_test=model.predict(x_test_new)\n",
    "print(\"Train Score:\",accuracy_score(y_train,pre_train))\n",
    "print(\"Test score:\",accuracy_score(y_test,pre_test))\n",
    "print(\"MANHATTAN\")\n",
    "    "
   ]
  },
  {
   "cell_type": "markdown",
   "id": "7a3ede0c",
   "metadata": {},
   "source": [
    "# minkowski"
   ]
  },
  {
   "cell_type": "code",
   "execution_count": null,
   "id": "a23e2ae2",
   "metadata": {},
   "outputs": [],
   "source": [
    "\n",
    "sc=MinMaxScaler(feature_range=(0,1))\n",
    "x_train_new=sc.fit_transform(x_train)\n",
    "x_test_new=sc.transform(x_test)   \n",
    "model=KNeighborsClassifier(n_neighbors=5,metric=\"minkowski\" ,p=2 )                        \n",
    "model.fit(x_train,y_train)\n",
    "pre_train=model.predict(x_train_new)\n",
    "pre_test=model.predict(x_test_new)\n",
    "print(\"Train Score:\",accuracy_score(y_train,pre_train))\n",
    "print(\"Test score:\",accuracy_score(y_test,pre_test))\n",
    "print(\"MINKOWSKI\")\n",
    "    "
   ]
  },
  {
   "cell_type": "markdown",
   "id": "71995f3a",
   "metadata": {},
   "source": [
    "# MaxAbsScaler feature sacling\n",
    "#image data in use "
   ]
  },
  {
   "cell_type": "code",
   "execution_count": null,
   "id": "8e9e8f9b",
   "metadata": {},
   "outputs": [],
   "source": [
    "from sklearn.preprocessing import MaxAbsScaler\n",
    "sc=MaxAbsScaler()\n",
    "x_train_new=sc.fit_transform(x_train)\n",
    "x_test_new=sc.transform(x_test)   \n",
    "model=KNeighborsClassifier()                     \n",
    "model.fit(x_train,y_train)\n",
    "pre_train=model.predict(x_train_new)\n",
    "pre_test=model.predict(x_test_new)\n",
    "print(\"Train Score:\",accuracy_score(y_train,pre_train))\n",
    "print(\"Test score:\",accuracy_score(y_test,pre_test))\n"
   ]
  },
  {
   "cell_type": "markdown",
   "id": "9aab2690",
   "metadata": {},
   "source": [
    "   # Standard scaling \n",
    "   #ALL TYPE  data  in  use perfetly "
   ]
  },
  {
   "cell_type": "markdown",
   "id": "cd204db7",
   "metadata": {},
   "source": []
  },
  {
   "cell_type": "code",
   "execution_count": null,
   "id": "cfe20935",
   "metadata": {},
   "outputs": [],
   "source": [
    "from sklearn.preprocessing import StandardScaler\n",
    "sc=StandardScaler()\n",
    "x_train_new=sc.fit_transform(x_train)\n",
    "x_test_new=sc.transform(x_test)   \n",
    "model=KNeighborsClassifier()                     \n",
    "model.fit(x_train,y_train)\n",
    "pre_train=model.predict(x_train_new)\n",
    "pre_test=model.predict(x_test_new)\n",
    "print(\"Train Score:\",accuracy_score(y_train,pre_train))\n",
    "print(\"Test score:\",accuracy_score(y_test,pre_test))\n"
   ]
  },
  {
   "cell_type": "markdown",
   "id": "79db570c",
   "metadata": {},
   "source": [
    "#  import new data online shop 🛴"
   ]
  },
  {
   "cell_type": "code",
   "execution_count": null,
   "id": "67822f40",
   "metadata": {},
   "outputs": [],
   "source": [
    "import pandas as pd\n",
    "from sklearn.neighbors import KNeighborsClassifier\n",
    "\n",
    "df=pd.read_csv(\"e:/scientist/dataset/classification/online_shop.csv\")\n",
    "df\n"
   ]
  },
  {
   "cell_type": "code",
   "execution_count": null,
   "id": "dd98861b",
   "metadata": {},
   "outputs": [],
   "source": [
    "x=df.iloc[:,:-1].values\n",
    "y=df.iloc[:-1].values"
   ]
  },
  {
   "cell_type": "code",
   "execution_count": null,
   "id": "062d6f0e",
   "metadata": {},
   "outputs": [],
   "source": [
    "model=KNeighborsClassifier()\n",
    "model.fit(x,y)"
   ]
  },
  {
   "cell_type": "markdown",
   "id": "54cea493",
   "metadata": {},
   "source": [
    "   # Feature Encoding\n",
    "   - converting text feature into numeric from\n",
    "      - 2 techiques\n",
    "          - label encoding\n",
    "          - one hot encding\n",
    "          \n",
    "   ## Label encding\n",
    "   - using pandas\n",
    "   - using sklearn"
   ]
  },
  {
   "cell_type": "code",
   "execution_count": null,
   "id": "c13ec571",
   "metadata": {},
   "outputs": [],
   "source": [
    "df     #............... [using pandas]"
   ]
  },
  {
   "cell_type": "code",
   "execution_count": null,
   "id": "669920b7",
   "metadata": {},
   "outputs": [],
   "source": [
    "df.Gender=df.Gender.map({\"Female\":0,\"Male\":1})\n"
   ]
  },
  {
   "cell_type": "code",
   "execution_count": null,
   "id": "f2365085",
   "metadata": {},
   "outputs": [],
   "source": [
    "df"
   ]
  },
  {
   "cell_type": "code",
   "execution_count": null,
   "id": "d99c3462",
   "metadata": {},
   "outputs": [],
   "source": [
    "\n",
    "df=pd.read_csv(\"e:/scientist/dataset/classification/online_shop.csv\")\n",
    "df\n"
   ]
  },
  {
   "cell_type": "code",
   "execution_count": null,
   "id": "7905ab14",
   "metadata": {},
   "outputs": [],
   "source": [
    "                                #................🚗using sklearn"
   ]
  },
  {
   "cell_type": "code",
   "execution_count": null,
   "id": "aabd9984",
   "metadata": {},
   "outputs": [],
   "source": [
    "from sklearn .preprocessing import LabelEncoder"
   ]
  },
  {
   "cell_type": "code",
   "execution_count": null,
   "id": "2b0466b7",
   "metadata": {},
   "outputs": [],
   "source": [
    "en=LabelEncoder()\n",
    "df.Gender=en.fit_transform(df.Gender)\n",
    "df.Gender"
   ]
  },
  {
   "cell_type": "code",
   "execution_count": null,
   "id": "8dd645b0",
   "metadata": {},
   "outputs": [],
   "source": [
    "# one encoding using pandas"
   ]
  },
  {
   "cell_type": "code",
   "execution_count": null,
   "id": "999d2172",
   "metadata": {},
   "outputs": [],
   "source": [
    "df=pd.read_csv(\"e:/scientist/dataset/classification/online_shop.csv\")\n",
    "df"
   ]
  },
  {
   "cell_type": "code",
   "execution_count": null,
   "id": "2258f3db",
   "metadata": {},
   "outputs": [],
   "source": [
    "pd.get_dummies(df)"
   ]
  },
  {
   "cell_type": "markdown",
   "id": "00205fa8",
   "metadata": {},
   "source": [
    "# import OneHotEncoder"
   ]
  },
  {
   "cell_type": "code",
   "execution_count": null,
   "id": "504ed1a4",
   "metadata": {},
   "outputs": [],
   "source": [
    "from  sklearn.preprocessing import OneHotEncoder\n",
    "en=OneHotEncoder()\n",
    "m=en.fit_transform(df[[\"Gender\"]])\n",
    "print(m)"
   ]
  },
  {
   "cell_type": "code",
   "execution_count": null,
   "id": "ecba100e",
   "metadata": {},
   "outputs": [],
   "source": [
    "import sklearn 🧨🧵\n",
    "sklearn.__version__"
   ]
  },
  {
   "cell_type": "code",
   "execution_count": null,
   "id": "83bd4df6",
   "metadata": {},
   "outputs": [],
   "source": [
    "import pandas 🔐\n",
    "pandas.__version__"
   ]
  },
  {
   "cell_type": "code",
   "execution_count": null,
   "id": "77c33d60",
   "metadata": {},
   "outputs": [],
   "source": [
    "from sklearn.neighbors import KNeighborsClassifier\n",
    "from sklearn.metrics import accuracy_score\n",
    "df=pd.read_csv(\"e:/scientist/dataset/classification/online_shop.csv\")\n",
    "df\n",
    "df.Gender=df.Gender.map({\"Female\":0,\"Male\":1})\n",
    "from sklearn.model_selection import train_test_split\n",
    "from sklearn.preprocessing import StandardScaler\n"
   ]
  },
  {
   "cell_type": "code",
   "execution_count": null,
   "id": "a915b6da",
   "metadata": {},
   "outputs": [],
   "source": [
    "en=LabelEncoder()\n",
    "df.Gender=en.fit_transform(df.Gender)\n",
    "x=df.iloc[:,:-1].values\n",
    "y=df.iloc[:,-1].values\n",
    "x_train,x_test,y_train,y_test=train_test_split(x,y,random_state=1)\n",
    "df\n"
   ]
  },
  {
   "cell_type": "code",
   "execution_count": null,
   "id": "49a4f9a8",
   "metadata": {},
   "outputs": [],
   "source": [
    "\n",
    "sc=StandardScaler()\n",
    "x_train_new=sc.fit_transform(x_train)\n",
    "x_test_new=sc.transform(x_test)\n",
    "model=KNeighborsClassifier()\n",
    "model.fit(x_train,y_train)\n",
    "pre_train=model.predict(x_train_new)\n",
    "pre_test=model.predict(x_test_new)\n",
    "print(\"Train Score:\",accuracy_score(y_train,pre_train))\n",
    "print(\"Test score:\",accuracy_score(y_test,pre_test))"
   ]
  },
  {
   "cell_type": "code",
   "execution_count": null,
   "id": "04996a46",
   "metadata": {},
   "outputs": [],
   "source": [
    "import numpy as np  \n",
    "g=input(\"enter gender['male','female']:\").capitalize()\n",
    "if(g==\"Male\" or g==\"Female\"):\n",
    "    g=en. transform ( np.array([g]))\n",
    "    a=float(input(\"enter the age :\"))\n",
    "    b=float(input(\"enter the sal :\"))\n",
    "    sample=np.append(g,[a,b])\n",
    "    sample=sc.transform([sample])\n",
    "    print(model.predict(sample))\n",
    "    print(sample)\n",
    "                   \n",
    "else:\n",
    "    print(\"invalid\")"
   ]
  },
  {
   "cell_type": "markdown",
   "id": "d66f6087",
   "metadata": {},
   "source": [
    "# Create data sklearn (load_wine)"
   ]
  },
  {
   "cell_type": "code",
   "execution_count": null,
   "id": "c2431bb7",
   "metadata": {},
   "outputs": [],
   "source": [
    "from sklearn.datasets import load_wine\n",
    "wine=load_wine()\n",
    "print(type(wine))\n",
    "print(id(wine))\n",
    "dir()"
   ]
  },
  {
   "cell_type": "code",
   "execution_count": null,
   "id": "d705e40a",
   "metadata": {},
   "outputs": [],
   "source": [
    "wine.keys()"
   ]
  },
  {
   "cell_type": "code",
   "execution_count": null,
   "id": "cbe553d1",
   "metadata": {},
   "outputs": [],
   "source": [
    "wine.target"
   ]
  },
  {
   "cell_type": "code",
   "execution_count": null,
   "id": "8b6080f2",
   "metadata": {},
   "outputs": [],
   "source": [
    "print(wine.feature_names)"
   ]
  },
  {
   "cell_type": "code",
   "execution_count": null,
   "id": "bcc80697",
   "metadata": {},
   "outputs": [],
   "source": [
    "wine.frame"
   ]
  },
  {
   "cell_type": "code",
   "execution_count": null,
   "id": "1e0dbfd5",
   "metadata": {},
   "outputs": [],
   "source": [
    "print(wine.DESCR)"
   ]
  },
  {
   "cell_type": "code",
   "execution_count": null,
   "id": "8f19c616",
   "metadata": {},
   "outputs": [],
   "source": [
    "x=wine.data\n",
    "y=wine.target"
   ]
  },
  {
   "cell_type": "code",
   "execution_count": null,
   "id": "1541282b",
   "metadata": {},
   "outputs": [],
   "source": [
    "wine.target_names"
   ]
  },
  {
   "cell_type": "code",
   "execution_count": null,
   "id": "0c4c19f2",
   "metadata": {},
   "outputs": [],
   "source": [
    "\n",
    "sc=StandardScaler()\n",
    "x_train=sc.fit_transform(x_train)\n",
    "x_test=sc.transform(x_test)\n",
    "model=KNeighborsClassifier()\n",
    "model.fit(x_train,y_train)\n",
    "pre_train=model.predict(x_train)\n",
    "pre_test=model.predict(x_test)\n",
    "print(\"Train Score:\",accuracy_score(y_train,pre_train))\n",
    "print(\"Test score:\",accuracy_score(y_test,pre_test))"
   ]
  },
  {
   "cell_type": "code",
   "execution_count": null,
   "id": "d412fcf7",
   "metadata": {},
   "outputs": [],
   "source": [
    "x_train,x_test,y_train,y_test=train_test_split(x,y,random_state=1)\n",
    "model=KNeighborsClassifier()\n",
    "model.fit(x_train,y_train)\n",
    "pre_train=model.predict(x_train)\n",
    "pre_test=model.predict(x_test)\n",
    "print(\"Train Score:\",accuracy_score(y_train,pre_train))\n",
    "print(\"Test score:\",accuracy_score(y_test,pre_test))"
   ]
  },
  {
   "cell_type": "markdown",
   "id": "1f6505b7",
   "metadata": {},
   "source": [
    "#  Anova test ( analysis of variance test)"
   ]
  },
  {
   "cell_type": "code",
   "execution_count": null,
   "id": "79f02c0b",
   "metadata": {},
   "outputs": [],
   "source": [
    "from sklearn.feature_selection import f_classif # f_classid use -- classifition"
   ]
  },
  {
   "cell_type": "code",
   "execution_count": null,
   "id": "a41dbd26",
   "metadata": {},
   "outputs": [],
   "source": [
    "fvalue,pvalue=f_classif(x,y)"
   ]
  },
  {
   "cell_type": "code",
   "execution_count": null,
   "id": "eb5d9f33",
   "metadata": {},
   "outputs": [],
   "source": [
    "fvalue"
   ]
  },
  {
   "cell_type": "code",
   "execution_count": null,
   "id": "cb77d279",
   "metadata": {},
   "outputs": [],
   "source": [
    "print(wine.feature_names)"
   ]
  },
  {
   "cell_type": "code",
   "execution_count": null,
   "id": "eed628d9",
   "metadata": {},
   "outputs": [],
   "source": [
    "x1=x[:,[0,5,6,9,10,11,12]]"
   ]
  },
  {
   "cell_type": "code",
   "execution_count": null,
   "id": "ff67555e",
   "metadata": {},
   "outputs": [],
   "source": [
    "x_train,x_test,y_train,y_test=train_test_split(x,y,random_state=1) \n",
    "sc=StandardScaler()\n",
    "x_train_new=sc.fit_transform(x_train)\n",
    "x_test_new=sc.transform(x_test)\n",
    "model=KNeighborsClassifier()\n",
    "model.fit(x_train_new,y_train)\n",
    "pre_train=model.predict(x_train_new)\n",
    "pre_test=model.predict(x_test_new)\n",
    "print(\"Train Score:\",accuracy_score(y_train,pre_train))\n",
    "print(\"Test score:\",accuracy_score(y_test,pre_test))"
   ]
  },
  {
   "cell_type": "code",
   "execution_count": null,
   "id": "3416e7c2",
   "metadata": {
    "scrolled": true
   },
   "outputs": [],
   "source": [
    "model=KNeighborsClassifier()\n",
    "model.fit(x_train,y_train)\n",
    "pre_train=model.predict(x_train)\n",
    "pre_test=model.predict(x_test)\n",
    "print(\"Train Score:\",accuracy_score(y_train,pre_train))\n",
    "print(\"Test score:\",accuracy_score(y_test,pre_test))"
   ]
  },
  {
   "cell_type": "markdown",
   "id": "48e01b94",
   "metadata": {},
   "source": [
    "# minmaxscaler in use "
   ]
  },
  {
   "cell_type": "code",
   "execution_count": null,
   "id": "866d5b7c",
   "metadata": {},
   "outputs": [],
   "source": [
    "from sklearn. preprocessing import MinMaxScaler"
   ]
  },
  {
   "cell_type": "code",
   "execution_count": null,
   "id": "de4b3636",
   "metadata": {},
   "outputs": [],
   "source": [
    "\n",
    "\n",
    "x_train,x_test,y_train,y_test=train_test_split(x,y,random_state=1) \n",
    "sc=MinMaxScaler()\n",
    "x_train_new=sc.fit_transform(x_train)\n",
    "x_test_new=sc.transform(x_test)\n",
    "model=KNeighborsClassifier()\n",
    "model.fit(x_train_new,y_train)\n",
    "pre_train=model.predict(x_train_new)\n",
    "pre_test=model.predict(x_test_new)\n",
    "print(\"Train Score:\",accuracy_score(y_train,pre_train))\n",
    "print(\"Test score:\",accuracy_score(y_test,pre_test))\n"
   ]
  },
  {
   "cell_type": "code",
   "execution_count": null,
   "id": "f8186593",
   "metadata": {},
   "outputs": [],
   "source": [
    "model=KNeighborsClassifier()\n",
    "model.fit(x_train,y_train)\n",
    "pre_train=model.predict(x_train)\n",
    "pre_test=model.predict(x_test)\n",
    "print(\"Train Score:\",accuracy_score(y_train,pre_train))\n",
    "print(\"Test score:\",accuracy_score(y_test,pre_test))\n"
   ]
  },
  {
   "cell_type": "markdown",
   "id": "2a05495d",
   "metadata": {},
   "source": [
    "# munnal selcing  at the data "
   ]
  },
  {
   "cell_type": "code",
   "execution_count": null,
   "id": "f6f9c51b",
   "metadata": {},
   "outputs": [],
   "source": [
    "from sklearn.feature_selection import SelectKBest\n",
    "\n",
    "x_train,x_test,y_train,y_test=train_test_split(x,y,random_state=1) \n",
    "sc=MinMaxScaler()\n",
    "x_train_new=sc.fit_transform(x_train)\n",
    "x_test_new=sc.transform(x_test)\n",
    "model=KNeighborsClassifier()\n",
    "model.fit(x_train_new,y_train)\n",
    "pre_train=model.predict(x_train_new)\n",
    "pre_test=model.predict(x_test_new)\n",
    "print(\"Train Score:\",accuracy_score(y_train,pre_train))\n",
    "print(\"Test score:\",accuracy_score(y_test,pre_test))\n"
   ]
  },
  {
   "cell_type": "code",
   "execution_count": null,
   "id": "58b43166",
   "metadata": {},
   "outputs": [],
   "source": [
    "sbk=SelectKBest(score_func=f_classif,k=10)\n",
    "x_new=sbk.fit_transform(x,y)\n",
    "print(x_new.shape)\n",
    "x_train,x_test,y_train,y_test=train_test_split(x,y,random_state=1) \n",
    "sc=MinMaxScaler()\n",
    "x_train_new=sc.fit_transform(x_train)\n",
    "x_test_new=sc.transform(x_test)\n",
    "model=KNeighborsClassifier()\n",
    "model.fit(x_train_new,y_train)\n",
    "pre_train=model.predict(x_train_new)\n",
    "pre_test=model.predict(x_test_new)\n",
    "print(\"Train Score:\",accuracy_score(y_train,pre_train))\n",
    "print(\"Test score:\",accuracy_score(y_test,pre_test))\n"
   ]
  },
  {
   "cell_type": "code",
   "execution_count": null,
   "id": "f92c02e1",
   "metadata": {
    "scrolled": true
   },
   "outputs": [],
   "source": [
    "sbk.scores_"
   ]
  },
  {
   "cell_type": "markdown",
   "id": "decf2579",
   "metadata": {},
   "source": [
    "# New  Data load"
   ]
  },
  {
   "cell_type": "code",
   "execution_count": null,
   "id": "c485d5ec",
   "metadata": {},
   "outputs": [],
   "source": [
    "from sklearn.datasets import load_breast_cancer"
   ]
  },
  {
   "cell_type": "code",
   "execution_count": null,
   "id": "7f2962fd",
   "metadata": {},
   "outputs": [],
   "source": [
    "can=load_breast_cancer()"
   ]
  },
  {
   "cell_type": "code",
   "execution_count": null,
   "id": "cdc58af3",
   "metadata": {},
   "outputs": [],
   "source": [
    "a=can.keys()\n",
    "print(can.DESCR)"
   ]
  },
  {
   "cell_type": "code",
   "execution_count": null,
   "id": "8d9951e9",
   "metadata": {},
   "outputs": [],
   "source": [
    " \n",
    "y=can.target \n",
    "x=can.data"
   ]
  },
  {
   "cell_type": "code",
   "execution_count": null,
   "id": "1ed2a74c",
   "metadata": {},
   "outputs": [],
   "source": [
    "from sklearn.feature_selection import f_classif "
   ]
  },
  {
   "cell_type": "code",
   "execution_count": null,
   "id": "960d95cd",
   "metadata": {},
   "outputs": [],
   "source": [
    "from sklearn.preprocessing import StandardScaler\n",
    "x_train,x_test,y_train,y_test=train_test_split(x,y,random_state=1)  \n",
    "y=can.target \n",
    "x=can.data\n",
    "sc=StandardScaler()\n",
    "x_train_new=sc.fit_transform(x_train)\n",
    "x_test_new=sc.transform(x_test)\n",
    "model=KNeighborsClassifier(n_neighbors=20)\n",
    "model.fit(x_train_new,y_train)\n",
    "pre_train=model.predict(x_train_new)\n",
    "pre_test=model.predict(x_test_new)\n",
    "print(\"Train Score:\",accuracy_score(y_train,pre_train))\n",
    "print(\"Test score:\",accuracy_score(y_test,pre_test))\n"
   ]
  },
  {
   "cell_type": "code",
   "execution_count": null,
   "id": "98339d8b",
   "metadata": {},
   "outputs": [],
   "source": [
    "model=KNeighborsClassifier()\n",
    "model.fit(x_train,y_train)\n",
    "pre_train=model.predict(x_train)\n",
    "pre_test=model.predict(x_test)\n",
    "print(\"Train Score:\",accuracy_score(y_train,pre_train))\n",
    "print(\"Test score:\",accuracy_score(y_test,pre_test))"
   ]
  },
  {
   "cell_type": "code",
   "execution_count": null,
   "id": "79da9440",
   "metadata": {
    "scrolled": true
   },
   "outputs": [],
   "source": [
    "sbk=SelectKBest(score_func=f_classif,k=27)\n",
    "x_new=sbk.fit_transform(x,y)\n",
    "y=can.target \n",
    "x=can.data\n",
    "print(x_new.shape)\n",
    "x_train,x_test,y_train,y_test=train_test_split(x_new,y,random_state=1) \n",
    "sc=StandardScaler()\n",
    "x_train_new=sc.fit_transform(x_train)\n",
    "x_test_new=sc.transform(x_test)\n",
    "model=KNeighborsClassifier(n_neighbors=6)\n",
    "model.fit(x_train_new,y_train)\n",
    "pre_train=model.predict(x_train_new)\n",
    "pre_test=model.predict(x_test_new)\n",
    "print(\"Train Score:\",accuracy_score(y_train,pre_train))\n",
    "print(\"Test score:\",accuracy_score(y_test,pre_test))\n"
   ]
  },
  {
   "cell_type": "markdown",
   "id": "a456a565",
   "metadata": {},
   "source": [
    "# load a new data  ( iris "
   ]
  },
  {
   "cell_type": "code",
   "execution_count": null,
   "id": "a49d243e",
   "metadata": {},
   "outputs": [],
   "source": [
    "import pandas as pd\n",
    "from sklearn.neighbors import KNeighborsClassifier\n",
    "from sklearn.preprocessing import LabelEncoder\n",
    "from sklearn.model_selection import train_test_split\n",
    "from sklearn.metrics import accuracy_score\n",
    "from sklearn.preprocessing import StandardScaler\n",
    "from sklearn. datasets import load_iris"
   ]
  },
  {
   "cell_type": "code",
   "execution_count": null,
   "id": "c46987c9",
   "metadata": {},
   "outputs": [],
   "source": [
    "iris=load_iris()\n",
    "x=iris.data\n",
    "y=iris.target\n",
    "x_train,x_test,y_train,y_test=train_test_split(x,y,random_state=1)\n",
    "x.shape\n",
    "\n"
   ]
  },
  {
   "cell_type": "code",
   "execution_count": null,
   "id": "ffcf87d6",
   "metadata": {},
   "outputs": [],
   "source": [
    "\n",
    "sc=StandardScaler()\n",
    "x_train_new=sc.fit_transform(x_train)\n",
    "x_test_new=sc.transform(x_test)\n",
    "model=KNeighborsClassifier(n_neighbors=15)\n",
    "model.fit(x_train_new,y_train)\n",
    "pre_train=model.predict(x_train_new)\n",
    "pre_test=model.predict(x_test_new)\n",
    "print(\"Train Score:\",accuracy_score(y_train,pre_train))\n",
    "print(\"Test score:\",accuracy_score(y_test,pre_test))\n"
   ]
  },
  {
   "cell_type": "code",
   "execution_count": null,
   "id": "b58548c5",
   "metadata": {},
   "outputs": [],
   "source": [
    "model=KNeighborsClassifier()\n",
    "model.fit(x_train,y_train)\n",
    "pre_train=model.predict(x_train)\n",
    "pre_test=model.predict(x_test)\n",
    "print(\"Train Score:\",accuracy_score(y_train,pre_train))\n",
    "print(\"Test score:\",accuracy_score(y_test,pre_test))\n"
   ]
  },
  {
   "cell_type": "code",
   "execution_count": null,
   "id": "bcda637a",
   "metadata": {},
   "outputs": [],
   "source": [
    "model.predict([[4.6,7.5,7.4,.1]])"
   ]
  },
  {
   "cell_type": "markdown",
   "id": "d90506f7",
   "metadata": {},
   "source": [
    "# direct predict and accuracy"
   ]
  },
  {
   "cell_type": "code",
   "execution_count": null,
   "id": "9125c80e",
   "metadata": {},
   "outputs": [],
   "source": [
    "model=KNeighborsClassifier()\n",
    "model.fit(x_train,y_train)\n",
    "print(model.score(x_train,y_train))\n",
    "print(model.score(x_test,y_test))"
   ]
  },
  {
   "cell_type": "markdown",
   "id": "2559167c",
   "metadata": {},
   "source": [
    "# upload a new data "
   ]
  },
  {
   "cell_type": "code",
   "execution_count": null,
   "id": "484e823d",
   "metadata": {},
   "outputs": [],
   "source": [
    "import pandas as pd \n",
    "from sklearn.model_selection import cross_val_score\n",
    "df=pd.read_excel(\"e:/scientist/dataset/classification/creditcard_copy.xlsx\")\n",
    "df"
   ]
  },
  {
   "cell_type": "code",
   "execution_count": null,
   "id": "6b3d940b",
   "metadata": {},
   "outputs": [],
   "source": [
    "df.shape"
   ]
  },
  {
   "cell_type": "code",
   "execution_count": null,
   "id": "a9f442c4",
   "metadata": {},
   "outputs": [],
   "source": [
    "a=df.Class.value_counts()\n",
    "a"
   ]
  },
  {
   "cell_type": "code",
   "execution_count": null,
   "id": "fde5ce0e",
   "metadata": {},
   "outputs": [],
   "source": [
    "df.Amount.value_counts()"
   ]
  },
  {
   "cell_type": "code",
   "execution_count": null,
   "id": "4b4c487e",
   "metadata": {},
   "outputs": [],
   "source": [
    "x=df.iloc[:,1:-2].values\n",
    "y=df.iloc[:,-1].values\n",
    "x_train,x_test,y_train,y_test=train_test_split(x,y,random_state=1)\n"
   ]
  },
  {
   "cell_type": "code",
   "execution_count": null,
   "id": "528d2347",
   "metadata": {},
   "outputs": [],
   "source": [
    "model=KNeighborsClassifier()\n",
    "model.fit(x_train,y_train)\n",
    "print(model.score(x_train,y_train))\n",
    "print(model.score(x_test,y_test))\n",
    "print(cross_val_score(model,x,y,cv=5))"
   ]
  },
  {
   "cell_type": "code",
   "execution_count": null,
   "id": "bb81bec7",
   "metadata": {},
   "outputs": [],
   "source": [
    "sc=StandardScaler()\n",
    "x_train_new=sc.fit_transform(x_train)\n",
    "x_test_new=sc.transform(x_test)\n",
    "model=KNeighborsClassifier(n_neighbors=5)\n",
    "model.fit(x_train,y_train)\n",
    "print(model.score(x_train_new,y_train))\n",
    "print(model.score(x_test_new,y_test))"
   ]
  },
  {
   "cell_type": "code",
   "execution_count": null,
   "id": "5d6e350e",
   "metadata": {},
   "outputs": [],
   "source": [
    "from sklearn.model_selection import cross_val_score\n",
    "import pandas as pd\n",
    "from sklearn.neighbors import KNeighborsClassifier\n",
    "from sklearn.preprocessing import LabelEncoder\n",
    "from sklearn.model_selection import train_test_split\n",
    "from sklearn.metrics import accuracy_score\n",
    "from sklearn.preprocessing import MinMaxScaler\n",
    "from sklearn. datasets import load_iris"
   ]
  },
  {
   "cell_type": "code",
   "execution_count": null,
   "id": "daa4acfa",
   "metadata": {},
   "outputs": [],
   "source": [
    "model=KNeighborsClassifier()\n",
    "cross_val_score(model,x,y,cv=5)"
   ]
  },
  {
   "cell_type": "code",
   "execution_count": null,
   "id": "252de9c8",
   "metadata": {},
   "outputs": [],
   "source": [
    "#accuracy score....... overall performence of model by considering all classes \n",
    "#f1 score.... performence of model with class 1"
   ]
  },
  {
   "cell_type": "code",
   "execution_count": null,
   "id": "ecabdde9",
   "metadata": {},
   "outputs": [],
   "source": [
    "from sklearn .metrics import f1_score"
   ]
  },
  {
   "cell_type": "code",
   "execution_count": null,
   "id": "407c7e9f",
   "metadata": {},
   "outputs": [],
   "source": [
    "sc=MinMaxScaler()\n",
    "x_train_new=sc.fit_transform(x_train)\n",
    "x_test_new=sc.transform(x_test)\n",
    "model=KNeighborsClassifier()\n",
    "model.fit(x_train_new,y_train)\n",
    "pre_train=model.predict(x_train_new)\n",
    "pre_test=model.predict(x_test_new)\n",
    "print(\"Train F1:\",f1_score( y_train,pre_train))\n",
    "print(\"Test F1 :\", f1_score(y_test,pre_test ))"
   ]
  },
  {
   "cell_type": "code",
   "execution_count": null,
   "id": "1e1e7ff1",
   "metadata": {},
   "outputs": [],
   "source": [
    "# acccuracy are differnece  class 1 and class 0 "
   ]
  },
  {
   "cell_type": "code",
   "execution_count": null,
   "id": "3576b286",
   "metadata": {},
   "outputs": [],
   "source": [
    "print(\"Train F1:\",f1_score( y_train,pre_train,average=None))\n",
    "print(\"Test F1 :\", f1_score(y_test,pre_test ,average=None))"
   ]
  },
  {
   "cell_type": "markdown",
   "id": "abdcaf7a",
   "metadata": {},
   "source": [
    "# SMOTE"
   ]
  },
  {
   "cell_type": "code",
   "execution_count": null,
   "id": "b3cec036",
   "metadata": {},
   "outputs": [],
   "source": [
    "pip install imblearn"
   ]
  },
  {
   "cell_type": "code",
   "execution_count": null,
   "id": "3242853a",
   "metadata": {},
   "outputs": [],
   "source": [
    "import imblearn"
   ]
  },
  {
   "cell_type": "code",
   "execution_count": null,
   "id": "e879a18e",
   "metadata": {},
   "outputs": [],
   "source": [
    "from imblearn. over_sampling import SMOTE"
   ]
  },
  {
   "cell_type": "code",
   "execution_count": null,
   "id": "03bc7549",
   "metadata": {},
   "outputs": [],
   "source": [
    "sm=SMOTE()\n",
    "x1,y1=sm.fit_resample(x,y)\n",
    "x.shape\n"
   ]
  },
  {
   "cell_type": "code",
   "execution_count": null,
   "id": "990b728a",
   "metadata": {},
   "outputs": [],
   "source": [
    "x1.shape"
   ]
  },
  {
   "cell_type": "code",
   "execution_count": null,
   "id": "d1c3fa82",
   "metadata": {},
   "outputs": [],
   "source": [
    "\n",
    "sc=MinMaxScaler()\n",
    "x_train_new=sc.fit_transform(x_train)\n",
    "x_test_new=sc.transform(x_test)\n",
    "model=KNeighborsClassifier()\n",
    "model.fit(x_train_new,y_train)\n",
    "pre_train=model.predict(x_train_new)\n",
    "pre_test=model.predict(x_test_new)\n",
    "print(\"Train F1:\",f1_score( y_train,pre_train,average=None))\n",
    "print(\"Test F1 :\", f1_score(y_test,pre_test ,average=None))"
   ]
  },
  {
   "cell_type": "markdown",
   "id": "a9955e1c",
   "metadata": {},
   "source": [
    "# Confusion Matrix ..> it  show model behvaiour for each class"
   ]
  },
  {
   "cell_type": "markdown",
   "id": "4f28216a",
   "metadata": {},
   "source": []
  },
  {
   "cell_type": "code",
   "execution_count": null,
   "id": "d32d0c8f",
   "metadata": {},
   "outputs": [],
   "source": [
    "from sklearn .metrics import confusion_matrix\n",
    "pred_train=model.predict(x_train)\n",
    "confusion_matrix(y_train,pre_train)"
   ]
  },
  {
   "cell_type": "code",
   "execution_count": null,
   "id": "ca278a9e",
   "metadata": {},
   "outputs": [],
   "source": [
    "#confusion_matrix(pre_train,y_train)"
   ]
  },
  {
   "cell_type": "code",
   "execution_count": null,
   "id": "f61842e3",
   "metadata": {},
   "outputs": [],
   "source": [
    "percision_score_0=3421/3478\n",
    "percision_score_0"
   ]
  },
  {
   "cell_type": "code",
   "execution_count": null,
   "id": "c894ca0b",
   "metadata": {},
   "outputs": [],
   "source": [
    "percision_score_1=327/330\n",
    "percision_score_1"
   ]
  },
  {
   "cell_type": "code",
   "execution_count": null,
   "id": "d1218413",
   "metadata": {},
   "outputs": [],
   "source": [
    "recall_score_0=3421/3424\n",
    "recall_score_0"
   ]
  },
  {
   "cell_type": "code",
   "execution_count": null,
   "id": "6ebca682",
   "metadata": {},
   "outputs": [],
   "source": [
    "recall_score_1=327/384\n",
    "recall_score_1"
   ]
  },
  {
   "cell_type": "code",
   "execution_count": null,
   "id": "b929f0ed",
   "metadata": {},
   "outputs": [],
   "source": [
    "f1_0=2*percision_score_0*recalls_score_0/percision_score_0+recall_score_0\n",
    "print(f1_0)"
   ]
  },
  {
   "cell_type": "code",
   "execution_count": null,
   "id": "6ea7771c",
   "metadata": {},
   "outputs": [],
   "source": [
    "f1_1=2*percision_score_1*recalls_score_1/percision_score_1+recall_score_1\n",
    "print(f1_1)"
   ]
  },
  {
   "cell_type": "code",
   "execution_count": null,
   "id": "b69d1c96",
   "metadata": {},
   "outputs": [],
   "source": [
    "from sklearn.metrics import classification_report"
   ]
  },
  {
   "cell_type": "code",
   "execution_count": null,
   "id": "e8872c02",
   "metadata": {},
   "outputs": [],
   "source": [
    "print(classification_report(y_train,pre_train))"
   ]
  },
  {
   "cell_type": "code",
   "execution_count": null,
   "id": "a5506bab",
   "metadata": {},
   "outputs": [],
   "source": [
    "print(classification_report(y_test,(model.predict(x_test))))"
   ]
  },
  {
   "cell_type": "code",
   "execution_count": null,
   "id": "1fea0fd3",
   "metadata": {},
   "outputs": [],
   "source": [
    "from sklearn.datasets import load_wine\n",
    "from sklearn.neighbors import KNeighborsClassifier\n",
    "from sklearn .metrics import confusion_matrix\n",
    "from sklearn .neighbors import KNeighborsClassifier\n",
    "import pandas as pd \n",
    "from sklearn.model_selection import cross_val_score\n",
    "from sklearn.model_selection import train_test_split\n",
    "from sklearn .metrics import confusion_matrix,PrecisionRecallDisplay,recall_score,classification_report\n",
    "from sklearn .preprocessing import StandardScaler\n",
    "from sklearn .metrics import f1_score\n",
    "\n",
    "wine=load_wine()"
   ]
  },
  {
   "cell_type": "code",
   "execution_count": null,
   "id": "4b7e3f14",
   "metadata": {},
   "outputs": [],
   "source": [
    "x=wine.data\n",
    "y=wine.target\n",
    "x_train,x_test,y_train,y_test=train_test_split(x,y,random_state=1)"
   ]
  },
  {
   "cell_type": "code",
   "execution_count": null,
   "id": "9a5a8950",
   "metadata": {},
   "outputs": [],
   "source": [
    "model=KNeighborsClassifier()\n",
    "model.fit(x_train,y_train)\n",
    "print(\"Train K ::\",model.score(x_train,y_train))\n",
    "print(\"Test k ::\",model.score(x_test,y_test))\n"
   ]
  },
  {
   "cell_type": "code",
   "execution_count": null,
   "id": "d2ef6eaf",
   "metadata": {},
   "outputs": [],
   "source": [
    "from sklearn .metrics import confusion_matrix\n"
   ]
  },
  {
   "cell_type": "code",
   "execution_count": null,
   "id": "f98c419c",
   "metadata": {},
   "outputs": [],
   "source": [
    "from sklearn .metrics import confusion_matrix\n",
    "pre_train=model.predict(x_train)"
   ]
  },
  {
   "cell_type": "code",
   "execution_count": null,
   "id": "2e3b0b38",
   "metadata": {},
   "outputs": [],
   "source": [
    "confusion_matrix(y_train,pre_train)"
   ]
  },
  {
   "cell_type": "code",
   "execution_count": null,
   "id": "f32f9a11",
   "metadata": {},
   "outputs": [],
   "source": [
    "percisionscore_0=37/40\n",
    "percision_score_0"
   ]
  },
  {
   "cell_type": "code",
   "execution_count": null,
   "id": "7fe41f71",
   "metadata": {},
   "outputs": [],
   "source": [
    "percision_score_1=44/53\n",
    "percision_score_1"
   ]
  },
  {
   "cell_type": "code",
   "execution_count": null,
   "id": "e5a7ee45",
   "metadata": {},
   "outputs": [],
   "source": [
    "percision_score_2=29/39\n",
    "percision_score_2"
   ]
  },
  {
   "cell_type": "code",
   "execution_count": null,
   "id": "2a5ecbfb",
   "metadata": {},
   "outputs": [],
   "source": [
    "recall_score_0=37/39\n",
    "recall_score_0"
   ]
  },
  {
   "cell_type": "code",
   "execution_count": null,
   "id": "39c8c786",
   "metadata": {},
   "outputs": [],
   "source": [
    "recall_score_1=44/54\n",
    "recall_score_1"
   ]
  },
  {
   "cell_type": "code",
   "execution_count": null,
   "id": "0c317350",
   "metadata": {},
   "outputs": [],
   "source": [
    "recall_score_2=29/39\n",
    "recall_score_2"
   ]
  },
  {
   "cell_type": "code",
   "execution_count": null,
   "id": "0b76c794",
   "metadata": {},
   "outputs": [],
   "source": [
    "from sklearn .metrics import classification_report"
   ]
  },
  {
   "cell_type": "code",
   "execution_count": null,
   "id": "77151a46",
   "metadata": {},
   "outputs": [],
   "source": [
    "print(classification_report(y_train,pre_train))"
   ]
  },
  {
   "cell_type": "code",
   "execution_count": null,
   "id": "93a53a6f",
   "metadata": {},
   "outputs": [],
   "source": [
    "import matplotlib  ad"
   ]
  },
  {
   "cell_type": "code",
   "execution_count": null,
   "id": "2ef1bfcc",
   "metadata": {},
   "outputs": [],
   "source": [
    "(classification_report(y_test,(model.predict(x_test))))"
   ]
  },
  {
   "cell_type": "markdown",
   "id": "96ebaadb",
   "metadata": {},
   "source": [
    "#                 REGRESSION   (ALGO)"
   ]
  },
  {
   "cell_type": "markdown",
   "id": "94897394",
   "metadata": {},
   "source": [
    "#DEFINE - Regression is a statistical method used in finance, investing, and other disciplines that attempts to determine the strength and character of the relationship between one dependent variable (usually denoted by Y) and a series of other variables (known as independent variables)."
   ]
  },
  {
   "cell_type": "code",
   "execution_count": null,
   "id": "1eb4bea8",
   "metadata": {},
   "outputs": [],
   "source": [
    "import pandas as pd"
   ]
  },
  {
   "cell_type": "code",
   "execution_count": null,
   "id": "0597945e",
   "metadata": {},
   "outputs": [],
   "source": []
  },
  {
   "cell_type": "code",
   "execution_count": null,
   "id": "2d2fffab",
   "metadata": {
    "scrolled": true
   },
   "outputs": [],
   "source": [
    "df=pd.read_csv(\"e:/scientist/dataset/salary_1_variable.csv\")\n",
    "df"
   ]
  },
  {
   "cell_type": "code",
   "execution_count": null,
   "id": "d4122f09",
   "metadata": {},
   "outputs": [],
   "source": [
    "x=df.iloc[:,:-1].values\n",
    "y=df.iloc[:,-1].values"
   ]
  },
  {
   "cell_type": "markdown",
   "id": "5a8eb9d5",
   "metadata": {},
   "source": [
    "# KNeighborsRegressor "
   ]
  },
  {
   "cell_type": "code",
   "execution_count": null,
   "id": "4cb148d8",
   "metadata": {},
   "outputs": [],
   "source": [
    "from sklearn .neighbors import KNeighborsRegressor"
   ]
  },
  {
   "cell_type": "code",
   "execution_count": null,
   "id": "7ffaec52",
   "metadata": {},
   "outputs": [],
   "source": [
    "model.fit(x,y)\n",
    "model.predict([[4.6]])"
   ]
  },
  {
   "cell_type": "code",
   "execution_count": null,
   "id": "cdaede48",
   "metadata": {},
   "outputs": [],
   "source": [
    "model.predict([[34.5]]) # simple regression"
   ]
  },
  {
   "cell_type": "markdown",
   "id": "c94eba4d",
   "metadata": {},
   "source": [
    "# LinearRegression algo"
   ]
  },
  {
   "cell_type": "code",
   "execution_count": null,
   "id": "c4a849dd",
   "metadata": {},
   "outputs": [],
   "source": [
    "from sklearn.linear_model import LinearRegression"
   ]
  },
  {
   "cell_type": "code",
   "execution_count": null,
   "id": "5a058689",
   "metadata": {},
   "outputs": [],
   "source": [
    "model=LinearRegression()\n",
    "model.fit(x,y)\n",
    "print(model.coef_)\n",
    "\n",
    "print(model.intercept_)"
   ]
  },
  {
   "cell_type": "code",
   "execution_count": null,
   "id": "603f4e29",
   "metadata": {
    "scrolled": true
   },
   "outputs": [],
   "source": [
    "model.predict([[10],[20]])\n",
    "\n"
   ]
  },
  {
   "cell_type": "markdown",
   "id": "f63bb3c2",
   "metadata": {},
   "source": [
    "# munnual solution perdiction values then given "
   ]
  },
  {
   "cell_type": "code",
   "execution_count": null,
   "id": "dbf7b644",
   "metadata": {},
   "outputs": [],
   "source": [
    "pre=9449.96232146*10+25792.20019866871\n",
    "pre"
   ]
  },
  {
   "cell_type": "code",
   "execution_count": null,
   "id": "057fdf00",
   "metadata": {},
   "outputs": [],
   "source": [
    "  df=pd.read_csv(\"e:/scientist/dataset/salary_2_variable.csv\")\n",
    "df"
   ]
  },
  {
   "cell_type": "code",
   "execution_count": null,
   "id": "264872ca",
   "metadata": {},
   "outputs": [],
   "source": [
    "df.Gender=df.Gender.map({\"Male\":1,\"Female\":0})"
   ]
  },
  {
   "cell_type": "code",
   "execution_count": null,
   "id": "a886a0b6",
   "metadata": {},
   "outputs": [],
   "source": [
    "df"
   ]
  },
  {
   "cell_type": "code",
   "execution_count": null,
   "id": "1ccae191",
   "metadata": {},
   "outputs": [],
   "source": [
    "x=df.iloc[:,:-1].values\n",
    "y=df.iloc[:,-1].values\n",
    "model=LinearRegression()\n",
    "model.fit(x,y)\n",
    "model.predict([[2,1],[5,6]])"
   ]
  },
  {
   "cell_type": "code",
   "execution_count": null,
   "id": "7239b717",
   "metadata": {},
   "outputs": [],
   "source": [
    "\n",
    "model=LinearRegression()   # fit_intercept=True\n",
    "model.fit(x,y)\n",
    "print(model.coef_)\n",
    "print(model.intercept_)"
   ]
  },
  {
   "cell_type": "markdown",
   "id": "41fd54bc",
   "metadata": {},
   "source": [
    "#  ozone a value passing thorgh the value ans is 0 "
   ]
  },
  {
   "cell_type": "code",
   "execution_count": null,
   "id": "b5aa2c8c",
   "metadata": {},
   "outputs": [],
   "source": [
    "model=LinearRegression(fit_intercept=False)\n",
    "model.fit(x,y)\n",
    "print(model.coef_)\n",
    "print(model.intercept_)"
   ]
  },
  {
   "cell_type": "code",
   "execution_count": null,
   "id": "a98f4f03",
   "metadata": {
    "scrolled": true
   },
   "outputs": [],
   "source": [
    "model=LinearRegression()\n",
    "model.fit(x,y)\n",
    "print(model.coef_)\n",
    "print(model.intercept_)"
   ]
  },
  {
   "cell_type": "code",
   "execution_count": null,
   "id": "cee16b48",
   "metadata": {},
   "outputs": [],
   "source": [
    "pred=model.predict(x)\n",
    "pre"
   ]
  },
  {
   "cell_type": "code",
   "execution_count": null,
   "id": "b12cbd1b",
   "metadata": {},
   "outputs": [],
   "source": [
    "y"
   ]
  },
  {
   "cell_type": "code",
   "execution_count": null,
   "id": "6f2af717",
   "metadata": {},
   "outputs": [],
   "source": [
    "y-pre    # BORDcast meaning element element (-)"
   ]
  },
  {
   "cell_type": "code",
   "execution_count": null,
   "id": "1db6188d",
   "metadata": {},
   "outputs": [],
   "source": [
    "(y-pre)**2\n"
   ]
  },
  {
   "cell_type": "code",
   "execution_count": null,
   "id": "af9a549b",
   "metadata": {
    "scrolled": true
   },
   "outputs": [],
   "source": [
    "sum((y-pre)**2)\n",
    "\n",
    "\n"
   ]
  },
  {
   "cell_type": "code",
   "execution_count": null,
   "id": "1aa2d2f9",
   "metadata": {},
   "outputs": [],
   "source": [
    "sum((y-pre)**2)/len(pre)\n",
    "\n"
   ]
  },
  {
   "cell_type": "code",
   "execution_count": null,
   "id": "440638c2",
   "metadata": {},
   "outputs": [],
   "source": []
  },
  {
   "cell_type": "code",
   "execution_count": null,
   "id": "cc4fd1fd",
   "metadata": {},
   "outputs": [],
   "source": [
    "model.coef_   # the best values of loss"
   ]
  },
  {
   "cell_type": "code",
   "execution_count": null,
   "id": "558a52a3",
   "metadata": {},
   "outputs": [],
   "source": [
    "model.intercept_"
   ]
  },
  {
   "cell_type": "markdown",
   "id": "f5512bad",
   "metadata": {},
   "source": [
    "# direct loss  giveen a type and fuction"
   ]
  },
  {
   "cell_type": "code",
   "execution_count": null,
   "id": "2948b5a4",
   "metadata": {},
   "outputs": [],
   "source": [
    "from sklearn .metrics import mean_squared_error"
   ]
  },
  {
   "cell_type": "code",
   "execution_count": null,
   "id": "30f70d4c",
   "metadata": {},
   "outputs": [],
   "source": [
    "mean_squared_error=(y-pre)\n",
    "mean_squared_error"
   ]
  },
  {
   "cell_type": "markdown",
   "id": "8d9d07dd",
   "metadata": {},
   "source": [
    "# munnal given a loss using  by all type g     [O L S]"
   ]
  },
  {
   "cell_type": "code",
   "execution_count": null,
   "id": "3b4dfb6a",
   "metadata": {},
   "outputs": [],
   "source": [
    "yhat=model.predict(x)"
   ]
  },
  {
   "cell_type": "code",
   "execution_count": null,
   "id": "0c9124e1",
   "metadata": {},
   "outputs": [],
   "source": [
    "residuals=y-yhat"
   ]
  },
  {
   "cell_type": "code",
   "execution_count": null,
   "id": "60b173b0",
   "metadata": {},
   "outputs": [],
   "source": [
    "ols=(residuals**2).sum()\n",
    "print(ols)\n",
    "mse=ols/len(y)\n",
    "print(mse)"
   ]
  },
  {
   "cell_type": "code",
   "execution_count": null,
   "id": "4496cb5b",
   "metadata": {},
   "outputs": [],
   "source": [
    "import math\n",
    "rmse=math.sqrt(mse)\n",
    "print(rmse)"
   ]
  },
  {
   "cell_type": "code",
   "execution_count": null,
   "id": "8a29332f",
   "metadata": {},
   "outputs": [],
   "source": [
    "mae=abs(residuals).mean()\n",
    "mae"
   ]
  },
  {
   "cell_type": "markdown",
   "id": "68e37464",
   "metadata": {},
   "source": [
    "# direct a given a loss use are all type "
   ]
  },
  {
   "cell_type": "code",
   "execution_count": null,
   "id": "fbbe8063",
   "metadata": {},
   "outputs": [],
   "source": [
    " from sklearn.metrics import mean_absolute_error,mean_squared_error"
   ]
  },
  {
   "cell_type": "code",
   "execution_count": null,
   "id": "e57623fb",
   "metadata": {},
   "outputs": [],
   "source": [
    "print(mean_absolute_error(y,yhat))\n",
    "print(mean_squared_error(y,yhat))"
   ]
  },
  {
   "cell_type": "markdown",
   "id": "1f740846",
   "metadata": {},
   "source": [
    "# I can be you  explain coef & intercoef proof values munnal"
   ]
  },
  {
   "cell_type": "code",
   "execution_count": null,
   "id": "638ef722",
   "metadata": {},
   "outputs": [],
   "source": [
    "import pandas as pd\n",
    "import numpy as np\n",
    "from sklearn .linear_model import LinearRegression\n",
    "from sklearn .metrics import r2_score \n",
    "from sklearn.preprocessing import PolynomialFeatures"
   ]
  },
  {
   "cell_type": "code",
   "execution_count": null,
   "id": "fdc09a6e",
   "metadata": {},
   "outputs": [],
   "source": []
  },
  {
   "cell_type": "code",
   "execution_count": null,
   "id": "eff37116",
   "metadata": {},
   "outputs": [],
   "source": [
    "df=pd.read_csv(\"e:/scientist/dataset/salary_1_variable.csv\")\n",
    "X=df.iloc[:,:-1].values\n",
    "y=df.iloc[:,-1].values\n",
    "model=LinearRegression()\n",
    "model.fit(X,y)\n",
    "print(model.coef_)\n",
    "print(model.intercept_)"
   ]
  },
  {
   "cell_type": "code",
   "execution_count": null,
   "id": "c9e406bd",
   "metadata": {},
   "outputs": [],
   "source": [
    "# puuting a coef fromula\n",
    "xmean=np.mean(X)\n",
    "ymean=np.mean(y)\n",
    "xymean=np.mean(X[:,0]*y)\n",
    "xmeansqr=xmean**2\n",
    "xsqrmean=np.mean(X**2)"
   ]
  },
  {
   "cell_type": "code",
   "execution_count": null,
   "id": "454ffcf4",
   "metadata": {},
   "outputs": [],
   "source": [
    "m=((xmean*ymean)-xymean)/(xmeansqr-xsqrmean)\n",
    "m         # proof coef values"
   ]
  },
  {
   "cell_type": "markdown",
   "id": "9df0ba9e",
   "metadata": {},
   "source": [
    "# interceof values proof"
   ]
  },
  {
   "cell_type": "code",
   "execution_count": null,
   "id": "c8fd7de3",
   "metadata": {},
   "outputs": [],
   "source": [
    "c=ymean-m*xmean\n",
    "c\n",
    "pred=model.predict(X)\n",
    "\n"
   ]
  },
  {
   "cell_type": "code",
   "execution_count": null,
   "id": "dc80ee31",
   "metadata": {},
   "outputs": [],
   "source": [
    "r2_score(y,pred)"
   ]
  },
  {
   "cell_type": "code",
   "execution_count": null,
   "id": "02562e98",
   "metadata": {},
   "outputs": [],
   "source": [
    "import matplotlib .pyplot as plt\n"
   ]
  },
  {
   "cell_type": "code",
   "execution_count": null,
   "id": "78c2226c",
   "metadata": {},
   "outputs": [],
   "source": [
    "plt.scatter(X[:,0],y)\n",
    "plt.scatter(X[:,0],pred)\n",
    "plt.show"
   ]
  },
  {
   "cell_type": "code",
   "execution_count": null,
   "id": "baca57ba",
   "metadata": {},
   "outputs": [],
   "source": [
    "plt.plot(X[:,0],y)\n",
    "plt.plot(X[:,0],pred)\n",
    "plt.show()\n",
    "            "
   ]
  },
  {
   "cell_type": "code",
   "execution_count": null,
   "id": "79362973",
   "metadata": {
    "scrolled": true
   },
   "outputs": [],
   "source": [
    "plt.scatter(X[:,0],y)\n",
    "plt.plot(X[:,0],pred,color=\"k\")\n",
    "plt.show()\n",
    "            "
   ]
  },
  {
   "cell_type": "markdown",
   "id": "84cd5444",
   "metadata": {},
   "source": [
    "# anothe data under fit "
   ]
  },
  {
   "cell_type": "code",
   "execution_count": null,
   "id": "2b801691",
   "metadata": {},
   "outputs": [],
   "source": [
    "df=pd.read_csv(\"e:/scientist/dataset/salary_poly.csv\")"
   ]
  },
  {
   "cell_type": "code",
   "execution_count": null,
   "id": "97adea0b",
   "metadata": {},
   "outputs": [],
   "source": [
    "X=df.iloc[:,:-1].values\n",
    "y=df.iloc[:,-1].values\n",
    "model=LinearRegression()\n",
    "model.fit(X,y)\n",
    "pre=model.predict(X)"
   ]
  },
  {
   "cell_type": "code",
   "execution_count": null,
   "id": "8fcd965c",
   "metadata": {},
   "outputs": [],
   "source": [
    "plt.scatter(X[:,0],y)\n",
    "plt.plot(X[:,0],pre)"
   ]
  },
  {
   "cell_type": "code",
   "execution_count": null,
   "id": "fc3ce75f",
   "metadata": {},
   "outputs": [],
   "source": [
    "r2_score(y,pre)"
   ]
  },
  {
   "cell_type": "markdown",
   "id": "cc9f4273",
   "metadata": {},
   "source": [
    "# POLYNOMICAL FEATURE"
   ]
  },
  {
   "cell_type": "code",
   "execution_count": null,
   "id": "6ad42897",
   "metadata": {},
   "outputs": [],
   "source": [
    "import pandas as pd\n",
    "import numpy as np\n",
    "from sklearn .linear_model import LinearRegression\n",
    "from sklearn .metrics import r2_score \n",
    "from sklearn.preprocessing import PolynomialFeatures\n",
    "from sklearn .model_selection import train_test_split"
   ]
  },
  {
   "cell_type": "code",
   "execution_count": null,
   "id": "efa04cce",
   "metadata": {},
   "outputs": [],
   "source": [
    "pf=PolynomialFeatures(degree= 9)\n",
    "x_new=pf.fit_transform(X)\n",
    "model=LinearRegression()\n",
    "model.fit(x_new,y)\n",
    "pre=model.predict(x_new)\n",
    "plt.scatter(X[:,0],y)\n",
    "plt.plot(X[:,0],pre,color=\"g\")\n",
    "plt.show()\n",
    "print(r2_score(y,pre))"
   ]
  },
  {
   "cell_type": "code",
   "execution_count": null,
   "id": "b2e553a8",
   "metadata": {},
   "outputs": [],
   "source": [
    " # with 1 feature\n",
    "df=pd.read_csv(\"e:/scientist/dataset/salary_poly.csv\")\n",
    "X=df.iloc[:,:-1].values\n",
    "y=df.iloc[:,-1].values\n",
    "X_train,X_test,y_train,y_test=train_test_split(X,y,random_state=10)\n",
    "model=LinearRegression()\n",
    "model.fit(X_train,y_train)\n",
    "print(\"Train::\",model.score(X_train,y_train))\n",
    "print(\"Test::\",model.score(X_test,y_test))\n",
    "# underfit model\n"
   ]
  },
  {
   "cell_type": "code",
   "execution_count": null,
   "id": "09df1487",
   "metadata": {
    "scrolled": true
   },
   "outputs": [],
   "source": [
    "\n",
    "pf=PolynomialFeatures(degree= 9)\n",
    "X_train_new=pf.fit_transform(X_train)\n",
    "X_test_new=pf.transform(X_test)\n",
    "\n",
    "model=LinearRegression()\n",
    "model.fit(X_train_new,y_train)\n",
    "print(\"Train::\",model.score(X_train_new,y_train))\n",
    "print(\"Test::\",model.score(X_test_new,y_test))"
   ]
  },
  {
   "cell_type": "markdown",
   "id": "2e2b2219",
   "metadata": {},
   "source": [
    "# Load a  data name is load _diabetes"
   ]
  },
  {
   "cell_type": "code",
   "execution_count": null,
   "id": "ed8bedc4",
   "metadata": {},
   "outputs": [],
   "source": [
    "from sklearn .datasets import load_diabetes\n",
    "dib=load_diabetes()\n",
    "X=dib.data\n",
    "y=dib.target"
   ]
  },
  {
   "cell_type": "code",
   "execution_count": null,
   "id": "e575753a",
   "metadata": {},
   "outputs": [],
   "source": [
    "X_train,X_test,y_train,y_test=train_test_split(X,y,random_state=10)\n",
    "\n",
    "model=LinearRegression()\n",
    "model.fit(X_train,y_train)\n",
    "print(model.score(X_train,y_train))\n",
    "print(model.score(X_test,y_test))"
   ]
  },
  {
   "cell_type": "code",
   "execution_count": null,
   "id": "aed53066",
   "metadata": {},
   "outputs": [],
   "source": [
    "pf=PolynomialFeatures(degree= 1)\n",
    "X_train_=pf.fit_transform(X_train)\n",
    "X_test_=pf.transform(X_test)\n",
    "\n",
    "model=LinearRegression()\n",
    "model.fit(X_train_,y_train)\n",
    "\n",
    "print(model.score(X_train_,y_train))\n",
    "print(model.score(X_test_,y_test))"
   ]
  },
  {
   "cell_type": "markdown",
   "id": "6a397faa",
   "metadata": {},
   "source": [
    "# Assumptions of LinearRegression\n",
    "- No multicolinearity\n",
    "- Homocesdasticity of residuals\n",
    "- each feature should be normally distributed\n",
    "- each feature represent linear relationship with target\n",
    "- sample>features"
   ]
  },
  {
   "cell_type": "markdown",
   "id": "23ccaab8",
   "metadata": {},
   "source": [
    "## HOMOCESDASTICITY  ---  same residual "
   ]
  },
  {
   "cell_type": "code",
   "execution_count": null,
   "id": "ec11d2ae",
   "metadata": {},
   "outputs": [],
   "source": [
    "\n",
    "print(model.predict(X_test_[:10]))"
   ]
  },
  {
   "cell_type": "code",
   "execution_count": null,
   "id": "eb4348df",
   "metadata": {},
   "outputs": [],
   "source": [
    "print(y_train[:10])"
   ]
  },
  {
   "cell_type": "code",
   "execution_count": null,
   "id": "7270b70e",
   "metadata": {
    "scrolled": true
   },
   "outputs": [],
   "source": [
    "model.predict(X_test_[:10])-y_train[:10]"
   ]
  },
  {
   "cell_type": "markdown",
   "id": "cb440223",
   "metadata": {},
   "source": [
    "# multicolinearity   "
   ]
  },
  {
   "cell_type": "code",
   "execution_count": null,
   "id": "99befb45",
   "metadata": {},
   "outputs": [],
   "source": [
    "DF=pd.DataFrame(X_train,columns=dib.feature_names)\n",
    "DF"
   ]
  },
  {
   "cell_type": "code",
   "execution_count": null,
   "id": "21db3b9c",
   "metadata": {},
   "outputs": [],
   "source": [
    "DF.corr()"
   ]
  },
  {
   "cell_type": "code",
   "execution_count": null,
   "id": "3d7ee4f8",
   "metadata": {},
   "outputs": [],
   "source": [
    "import matplotlib. pyplot as plt\n",
    "import seaborn as sb"
   ]
  },
  {
   "cell_type": "code",
   "execution_count": null,
   "id": "e440f322",
   "metadata": {},
   "outputs": [],
   "source": [
    "sb.heatmap (DF.corr())\n",
    "plt.show()"
   ]
  },
  {
   "cell_type": "markdown",
   "id": "aae4019b",
   "metadata": {},
   "source": [
    "# each features should be normally distributed "
   ]
  },
  {
   "cell_type": "code",
   "execution_count": null,
   "id": "0af29d6e",
   "metadata": {},
   "outputs": [],
   "source": [
    "plt.hist(DF.s2,edgecolor=\"k\")\n",
    "plt.show()"
   ]
  },
  {
   "cell_type": "markdown",
   "id": "3f746885",
   "metadata": {},
   "source": [
    "# each  features represent linear relationship with target"
   ]
  },
  {
   "cell_type": "code",
   "execution_count": null,
   "id": "0786c2c9",
   "metadata": {},
   "outputs": [],
   "source": [
    "plt.scatter(DF.s6,y_train,color=\"k\")\n",
    "plt.show()"
   ]
  },
  {
   "cell_type": "markdown",
   "id": "8df8ce92",
   "metadata": {},
   "source": []
  },
  {
   "cell_type": "markdown",
   "id": "e0ed4466",
   "metadata": {},
   "source": [
    "# SGD( STOCHESTIC GRADIENT DESCENT)"
   ]
  },
  {
   "cell_type": "code",
   "execution_count": null,
   "id": "b60988de",
   "metadata": {},
   "outputs": [],
   "source": [
    "from sklearn  .linear_model import SGDRegressor\n",
    "from sklearn .datasets import load_diabetes"
   ]
  },
  {
   "cell_type": "code",
   "execution_count": null,
   "id": "dc1c0e50",
   "metadata": {},
   "outputs": [],
   "source": [
    "dib=load_diabetes()\n",
    "model=SGDRegressor()\n",
    "model"
   ]
  },
  {
   "cell_type": "code",
   "execution_count": null,
   "id": "8398cfb2",
   "metadata": {},
   "outputs": [],
   "source": [
    "x=dib.data\n",
    "y=dib.target"
   ]
  },
  {
   "cell_type": "code",
   "execution_count": null,
   "id": "126ab35c",
   "metadata": {},
   "outputs": [],
   "source": [
    "model=SGDRegressor(max_iter=6000)\n",
    "model.fit(x,y)"
   ]
  },
  {
   "cell_type": "code",
   "execution_count": null,
   "id": "ab6b2cde",
   "metadata": {},
   "outputs": [],
   "source": [
    "model.score(x,y)"
   ]
  },
  {
   "cell_type": "markdown",
   "id": "e1366448",
   "metadata": {},
   "source": [
    "# create a new data\n",
    " # slove a Assumptions "
   ]
  },
  {
   "cell_type": "code",
   "execution_count": null,
   "id": "d91b53ac",
   "metadata": {},
   "outputs": [],
   "source": [
    "import pandas as pd\n",
    "from sklearn .preprocessing import StandardScaler\n",
    "from sklearn .linear_model import LinearRegression,SGDRegressor\n",
    "from sklearn.preprocessing import PolynomialFeatures\n",
    "from sklearn. model_selection import train_test_split"
   ]
  },
  {
   "cell_type": "code",
   "execution_count": null,
   "id": "7e5a561e",
   "metadata": {},
   "outputs": [],
   "source": [
    "df=pd.read_csv(\"e:/scientist/dataset/california_house_price.csv\")\n",
    "df"
   ]
  },
  {
   "cell_type": "code",
   "execution_count": null,
   "id": "61198ad0",
   "metadata": {
    "scrolled": true
   },
   "outputs": [],
   "source": [
    "df.drop('Unnamed: 6',axis=1,inplace=True)\n",
    "df"
   ]
  },
  {
   "cell_type": "code",
   "execution_count": null,
   "id": "07203f2d",
   "metadata": {},
   "outputs": [],
   "source": [
    "X=df.iloc[:,:-1].values\n",
    "y=df.iloc[:,-1].values\n"
   ]
  },
  {
   "cell_type": "code",
   "execution_count": null,
   "id": "0071dc74",
   "metadata": {},
   "outputs": [],
   "source": [
    "X_train,X_test,y_train,y_test=train_test_split(X,y,random_state=10)"
   ]
  },
  {
   "cell_type": "code",
   "execution_count": null,
   "id": "7a19c565",
   "metadata": {
    "scrolled": true
   },
   "outputs": [],
   "source": [
    "X=df.iloc[:,:-1].values\n",
    "y=df.iloc[:,-1].values\n",
    "\n",
    "sc=StandardScaler()\n",
    "X_train_new=sc.fit_transform(X_train)\n",
    "X_test_new=sc.transform(X_test)\n",
    "                     \n",
    "                     \n",
    "model=LinearRegression()\n",
    "model.fit(X_train_new,y_train)\n",
    "print(\"Train: L\",model.score(X_train_new,y_train))\n",
    "print(\"Test:L\",model.score(X_test_new,y_test))\n",
    "\n",
    "model=SGDRegressor()\n",
    "model.fit(X_train_new,y_train)\n",
    "print(\"Train S\",model.score(X_train_new,y_train))\n",
    "print(\"Test  S:\",model.score(X_test_new,y_test))\n",
    "          "
   ]
  },
  {
   "cell_type": "markdown",
   "id": "2ba01663",
   "metadata": {},
   "source": [
    "#polynomial feature add"
   ]
  },
  {
   "cell_type": "code",
   "execution_count": null,
   "id": "4ede29d7",
   "metadata": {},
   "outputs": [],
   "source": [
    "\n",
    "pf=PolynomialFeatures(degree=4)\n",
    "X_train=pf.fit_transform(X_train)\n",
    "X_test=pf.transform(X_test)\n",
    "\n",
    "sc=StandardScaler()\n",
    "X_train_new=sc.fit_transform(X_train)\n",
    "X_test_new=sc.transform(X_test)   \n",
    "\n",
    "model=LinearRegression()\n",
    "model.fit(X_train_new,y_train)\n",
    "print(\"Train: L\",model.score(X_train_new,y_train))\n",
    "print(\"Test:L\",model.score(X_test_new,y_test))\n",
    "\n",
    "model=SGDRegressor()\n",
    "model.fit(X_train_new,y_train)\n",
    "print(\"Train S\",model.score(X_train_new,y_train))\n",
    "print(\"Test  S:\",model.score(X_test_new,y_test))\n",
    "          \n",
    "\n",
    "\n"
   ]
  },
  {
   "cell_type": "code",
   "execution_count": null,
   "id": "46e10d11",
   "metadata": {},
   "outputs": [],
   "source": [
    "df.corr()"
   ]
  },
  {
   "cell_type": "code",
   "execution_count": null,
   "id": "324f03fa",
   "metadata": {},
   "outputs": [],
   "source": [
    "df.drop(\"Avg. Area Number of Bedrooms\",axis=1,inplace=True)\n",
    "df"
   ]
  },
  {
   "cell_type": "code",
   "execution_count": null,
   "id": "14e3bc3d",
   "metadata": {},
   "outputs": [],
   "source": [
    "\n",
    "X=df.iloc[:,:-1].values\n",
    "y=df.iloc[:,-1].values\n",
    "\n",
    "pf=PolynomialFeatures(degree=7)\n",
    "X_train=pf.fit_transform(X_train)\n",
    "X_test=pf.transform(X_test)\n",
    "\n",
    "print(X_train.shape)\n",
    "sc=StandardScaler()\n",
    "X_train_new=sc.fit_transform(X_train)\n",
    "X_test_new=sc.transform(X_test)   \n",
    "model=LinearRegression()\n",
    "model.fit(X_train_new,y_train)\n",
    "print(\"Train: L\",model.score(X_train_new,y_train))\n",
    "print(\"Test:L\",model.score(X_test_new,y_test))\n",
    "model=SGDRegressor()\n",
    "model.fit(X_train_new,y_train)\n",
    "print(\"Train S\",model.score(X_train_new,y_train))\n",
    "print(\"Test  S:\",model.score(X_test_new,y_test))\n",
    "          \n",
    "\n",
    "\n"
   ]
  },
  {
   "cell_type": "code",
   "execution_count": null,
   "id": "675cd319",
   "metadata": {},
   "outputs": [],
   "source": [
    "from sklearn .linear_model import  Ridge,LinearRegression,Lasso"
   ]
  },
  {
   "cell_type": "code",
   "execution_count": null,
   "id": "c339c7de",
   "metadata": {},
   "outputs": [],
   "source": [
    "df=pd.read_csv(\"e:/scientist/dataset/california_house_price.csv\")\n",
    "df.drop(\"Unnamed: 6\",axis=1,inplace=True)"
   ]
  },
  {
   "cell_type": "code",
   "execution_count": null,
   "id": "1b7c7978",
   "metadata": {},
   "outputs": [],
   "source": [
    "X=df.iloc[:,:-1].values\n",
    "y=df.iloc[:,-1].values\n",
    "X_train,X_test,y_train,y_test=train_test_split(X,y,random_state=10)\n",
    "sc=StandardScaler()\n",
    "X_train_new=sc.fit_transform(X_train)\n",
    "X_test_new=sc.transform(X_test)  \n",
    "\n",
    "model=LinearRegression()\n",
    "model.fit(X_train_new,y_train)\n",
    "print(model.coef_)\n",
    "\n",
    "model=Ridge(alpha=.01)\n",
    "model.fit(X_train_new,y_train)\n",
    "print(model.coef_)\n",
    "\n",
    "model=Lasso(alpha=900)\n",
    "model.fit(X_train_new,y_train)\n",
    "print(model.coef_)\n",
    "\n",
    "\n",
    "\n"
   ]
  },
  {
   "cell_type": "markdown",
   "id": "4c469b01",
   "metadata": {},
   "source": [
    "# How to find best values for hyper- parameters\n",
    "- Gridsearch\n",
    "- RandomizedSearch\n",
    "- : note : Both techniques are based o cross validation"
   ]
  },
  {
   "cell_type": "code",
   "execution_count": null,
   "id": "a386840f",
   "metadata": {},
   "outputs": [],
   "source": [
    "import pandas as pd"
   ]
  },
  {
   "cell_type": "code",
   "execution_count": null,
   "id": "15362633",
   "metadata": {},
   "outputs": [],
   "source": [
    "df=pd.read_csv(\"e:/scientist/dataset/classification/fruits.csv\")\n",
    "\n",
    "df=pd.read_csv(\"e:/scientist/dataset/classification/fruits.csv\")\n",
    "x=df.iloc[:,:-1].values\n",
    "y=df.iloc[:,-1].values\n",
    "df.FruitName=df.FruitName.map({\"Apple\":0,\"Banana\":1})\n"
   ]
  },
  {
   "cell_type": "code",
   "execution_count": null,
   "id": "cc2a2eee",
   "metadata": {},
   "outputs": [],
   "source": [
    "from sklearn.model_selection import GridSearchCV\n",
    "from sklearn.neighbors import KNeighborsClassifier\n",
    "from sklearn .model_selection import RandomizedSearchCV"
   ]
  },
  {
   "cell_type": "code",
   "execution_count": null,
   "id": "515c8b2d",
   "metadata": {},
   "outputs": [],
   "source": [
    "model=KNeighborsClassifier()\n",
    "cv=GridSearchCV(model,param_grid={'n_neighbors':[3,4,5,6,7,8],'metric':['manhattan','euclidean']},cv=5)\n",
    "cv.fit(x,y)"
   ]
  },
  {
   "cell_type": "code",
   "execution_count": null,
   "id": "694ac441",
   "metadata": {},
   "outputs": [],
   "source": [
    "cv.best_estimator_"
   ]
  },
  {
   "cell_type": "code",
   "execution_count": null,
   "id": "91dcbadb",
   "metadata": {},
   "outputs": [],
   "source": [
    "cv.best_params_"
   ]
  },
  {
   "cell_type": "code",
   "execution_count": null,
   "id": "5c96494d",
   "metadata": {},
   "outputs": [],
   "source": [
    "cv.best_score_"
   ]
  },
  {
   "cell_type": "code",
   "execution_count": null,
   "id": "6254efaa",
   "metadata": {},
   "outputs": [],
   "source": [
    "cv.best_index_"
   ]
  },
  {
   "cell_type": "code",
   "execution_count": null,
   "id": "1a10981a",
   "metadata": {},
   "outputs": [],
   "source": [
    "model=KNeighborsClassifier()\n",
    "vc=RandomizedSearchCV(model,param_distributions={'n_neighbors':[3,4,5,6,7,8],'metric':['manhattan','euclidean']},cv=5,n_iter=10)\n",
    "vc.fit(x,y)"
   ]
  },
  {
   "cell_type": "code",
   "execution_count": null,
   "id": "12d90994",
   "metadata": {},
   "outputs": [],
   "source": [
    "vc.best_score_"
   ]
  },
  {
   "cell_type": "code",
   "execution_count": null,
   "id": "1ae9aafe",
   "metadata": {},
   "outputs": [],
   "source": [
    "vc.best_params_"
   ]
  },
  {
   "cell_type": "code",
   "execution_count": null,
   "id": "e9cdc073",
   "metadata": {},
   "outputs": [],
   "source": [
    "vc.best_index_"
   ]
  },
  {
   "cell_type": "markdown",
   "id": "2e3fe615",
   "metadata": {},
   "source": [
    "# LOGISTIC   REGRESSION\n",
    "- NOTE: it is classifcation algorithm  but internally uses linear model her name inlcude Regression term\n",
    "- it Also gives you probabily regarding predication.\n"
   ]
  },
  {
   "cell_type": "code",
   "execution_count": null,
   "id": "7a004ef9",
   "metadata": {},
   "outputs": [],
   "source": [
    "from sklearn .linear_model import LogisticRegression"
   ]
  },
  {
   "cell_type": "code",
   "execution_count": null,
   "id": "e8452255",
   "metadata": {},
   "outputs": [],
   "source": [
    "model=LogisticRegression()\n",
    "model.fit(x,y)"
   ]
  },
  {
   "cell_type": "code",
   "execution_count": null,
   "id": "bf7a132f",
   "metadata": {},
   "outputs": [],
   "source": [
    "model.predict([[3.2,50]])"
   ]
  },
  {
   "cell_type": "code",
   "execution_count": null,
   "id": "0f393f11",
   "metadata": {},
   "outputs": [],
   "source": [
    "model.predict_proba([[3.2,50]])"
   ]
  },
  {
   "cell_type": "code",
   "execution_count": null,
   "id": "a76bf34e",
   "metadata": {},
   "outputs": [],
   "source": [
    "model.predict([[9.2,20]])"
   ]
  },
  {
   "cell_type": "code",
   "execution_count": null,
   "id": "f7bdf36e",
   "metadata": {
    "scrolled": true
   },
   "outputs": [],
   "source": [
    "model.predict_proba([[9.2,20]])"
   ]
  },
  {
   "cell_type": "markdown",
   "id": "243b5405",
   "metadata": {},
   "source": [
    "# IRIS DATA "
   ]
  },
  {
   "cell_type": "code",
   "execution_count": null,
   "id": "cab98f3e",
   "metadata": {},
   "outputs": [],
   "source": [
    "from sklearn .datasets import load_iris"
   ]
  },
  {
   "cell_type": "code",
   "execution_count": null,
   "id": "9a31d580",
   "metadata": {},
   "outputs": [],
   "source": []
  },
  {
   "cell_type": "code",
   "execution_count": null,
   "id": "3ee88de6",
   "metadata": {},
   "outputs": [],
   "source": [
    "iris=load_iris()\n",
    "x=iris.data\n",
    "y=iris.target"
   ]
  },
  {
   "cell_type": "code",
   "execution_count": null,
   "id": "376d7aa0",
   "metadata": {},
   "outputs": [],
   "source": [
    "a=([[.4,.4,3.4,.9]])\n",
    "b=([[.1,.1,6.2,.5]])\n",
    "\n",
    "model=LogisticRegression(max_iter=200)\n",
    "model.fit(x,y)\n",
    "print(model.predict_proba(a))\n",
    "print(model.predict_proba(b))"
   ]
  },
  {
   "cell_type": "code",
   "execution_count": null,
   "id": "a57c095d",
   "metadata": {},
   "outputs": [],
   "source": [
    "\n",
    "b=([[.1,.9,6.2,.5]])\n",
    "if b==b:\n",
    "    model=LogisticRegression(max_iter=200)\n",
    "    model.fit(x,y)\n",
    "    print(model.predict_proba(a))\n",
    "    print(model.predict_proba(b))"
   ]
  },
  {
   "cell_type": "markdown",
   "id": "ac764b9c",
   "metadata": {},
   "source": []
  },
  {
   "cell_type": "code",
   "execution_count": null,
   "id": "c2747d0a",
   "metadata": {},
   "outputs": [],
   "source": [
    "df=pd.read_csv(\"e:/scientist/dataset/classification/fruits.csv\")\n",
    "import numpy as np \n",
    "x=df.iloc[:,:-1].values\n",
    "y=df.iloc[:,-1].values\n",
    "model=LogisticRegression()\n",
    "model.fit(x,y)"
   ]
  },
  {
   "cell_type": "code",
   "execution_count": null,
   "id": "b725c1b1",
   "metadata": {},
   "outputs": [],
   "source": [
    "model.coef_"
   ]
  },
  {
   "cell_type": "code",
   "execution_count": null,
   "id": "ad1e6c68",
   "metadata": {},
   "outputs": [],
   "source": [
    "model.intercept_"
   ]
  },
  {
   "cell_type": "code",
   "execution_count": null,
   "id": "7d54b57e",
   "metadata": {},
   "outputs": [],
   "source": [
    "sample=[3,50]\n",
    "z=-0.98526751*3+-0.02200081*50+5.91852746\n",
    "print(z)"
   ]
  },
  {
   "cell_type": "code",
   "execution_count": null,
   "id": "ee0a6818",
   "metadata": {},
   "outputs": [],
   "source": [
    "model.decision_function([sample])   # return linear part of sample"
   ]
  },
  {
   "cell_type": "markdown",
   "id": "785135c3",
   "metadata": {},
   "source": [
    "# sigmoid"
   ]
  },
  {
   "cell_type": "code",
   "execution_count": null,
   "id": "5061c135",
   "metadata": {},
   "outputs": [],
   "source": [
    "\n",
    "p_1=1/(1+np.exp(z))\n",
    "print(p_1)\n",
    "if p_1<=.3:\n",
    "    print('apple')\n",
    "else:    \n",
    "    \n",
    "    print('banana')"
   ]
  },
  {
   "cell_type": "code",
   "execution_count": null,
   "id": "a4942501",
   "metadata": {},
   "outputs": [],
   "source": [
    "model.predict_proba([sample])"
   ]
  },
  {
   "cell_type": "code",
   "execution_count": null,
   "id": "f6648009-b2d5-405c-832d-e44297e8460d",
   "metadata": {},
   "outputs": [],
   "source": [
    "model.predict([sample])"
   ]
  },
  {
   "cell_type": "code",
   "execution_count": null,
   "id": "c6a79f2e",
   "metadata": {},
   "outputs": [],
   "source": [
    "p_0=1-p_1  # class 0 \n",
    "p_0"
   ]
  },
  {
   "cell_type": "code",
   "execution_count": null,
   "id": "6ee69ecc",
   "metadata": {},
   "outputs": [],
   "source": [
    "1/(1+np.exp(z))"
   ]
  },
  {
   "cell_type": "markdown",
   "id": "d53ea1c8",
   "metadata": {},
   "source": [
    "# softmax  --- 2000 something"
   ]
  },
  {
   "cell_type": "code",
   "execution_count": null,
   "id": "cbe22bd8",
   "metadata": {
    "scrolled": true
   },
   "outputs": [],
   "source": [
    "import numpy as np\n",
    "from sklearn. datasets import load_iris\n",
    "from sklearn.linear_model import LogisticRegression\n",
    "iris=load_iris()\n",
    "x=iris.data\n",
    "y=iris.target\n",
    "model=LogisticRegression(multi_class='multinomial',max_iter=200)# one various rest\n",
    "model.fit(x,y)\n",
    "\n"
   ]
  },
  {
   "cell_type": "code",
   "execution_count": null,
   "id": "d7bd4458-2e8e-40ef-9ebd-ad696be25dd2",
   "metadata": {},
   "outputs": [],
   "source": [
    "sample=[3.3,.3,3.5,.5]"
   ]
  },
  {
   "cell_type": "code",
   "execution_count": null,
   "id": "925b7a51-f5b9-43b0-973e-5731c599c36f",
   "metadata": {},
   "outputs": [],
   "source": [
    "model.coef_"
   ]
  },
  {
   "cell_type": "code",
   "execution_count": null,
   "id": "578eb630-e454-4bde-ab2d-f1bd89a161f1",
   "metadata": {},
   "outputs": [],
   "source": [
    "model.intercept_"
   ]
  },
  {
   "cell_type": "code",
   "execution_count": null,
   "id": "6cacd55b-cefa-4793-b0e2-cac3a3d6491f",
   "metadata": {},
   "outputs": [],
   "source": [
    "sample=[3.3,.3,3.5,.5]"
   ]
  },
  {
   "cell_type": "code",
   "execution_count": null,
   "id": "56aab7f1-4d28-4372-bf75-d639ebca13f9",
   "metadata": {},
   "outputs": [],
   "source": [
    "z0=-0.42338049*3.3+0.96726361*.3+-2.51718059*3.5+-1.07935592*.5+9.84922123\n",
    "z1=0.53439019*3.3+-0.32164263*.3+-0.2063957*3.5+-0.94425415*.5+ 2.23773569\n",
    "z2=-0.1110097*3.3+-0.64562097*.3+2.72357629 *3.5+2.02361007*.5+-12.08695692\n",
    "print(z0,z1,z2)"
   ]
  },
  {
   "cell_type": "code",
   "execution_count": null,
   "id": "537bbc84-fe1b-4c32-84fe-0ddc811df058",
   "metadata": {},
   "outputs": [],
   "source": [
    "model.decision_function([sample])"
   ]
  },
  {
   "cell_type": "code",
   "execution_count": null,
   "id": "ce47ce88-d16d-4a75-a54a-3638de1e9661",
   "metadata": {},
   "outputs": [],
   "source": [
    "p0=np.exp(z0)/(np.exp(z0)+np.exp(z1)+np.exp(z2))\n",
    "p1=np.exp(z1)/(np.exp(z0)+np.exp(z1)+np.exp(z2))\n",
    "p2=np.exp(z2)/(np.exp(z0)+np.exp(z1)+np.exp(z2))\n",
    "print(p0,p1,p2)"
   ]
  },
  {
   "cell_type": "code",
   "execution_count": null,
   "id": "8d92eca7-d76e-45f6-8fff-9ea656be31d4",
   "metadata": {},
   "outputs": [],
   "source": [
    "model.predict_proba([sample])"
   ]
  },
  {
   "cell_type": "code",
   "execution_count": null,
   "id": "a6b82668-6dda-49ba-bd63-e7c9f29fc63c",
   "metadata": {},
   "outputs": [],
   "source": [
    "model.predict([sample])"
   ]
  },
  {
   "cell_type": "code",
   "execution_count": null,
   "id": "2ff9130a-d6db-4792-b7db-5fec05b96405",
   "metadata": {},
   "outputs": [],
   "source": []
  },
  {
   "cell_type": "code",
   "execution_count": null,
   "id": "91771fc7-a96a-4dcf-aa60-9f86fcd5dc36",
   "metadata": {},
   "outputs": [],
   "source": []
  },
  {
   "cell_type": "code",
   "execution_count": null,
   "id": "1eb0e25d-8d1e-4eaf-afff-d84afac818f4",
   "metadata": {
    "scrolled": true
   },
   "outputs": [],
   "source": [
    "import matplotlib .pyplot as plt\n"
   ]
  },
  {
   "cell_type": "code",
   "execution_count": null,
   "id": "a34c4f24",
   "metadata": {},
   "outputs": [],
   "source": [
    "pip install matplotlib-inline"
   ]
  },
  {
   "cell_type": "code",
   "execution_count": null,
   "id": "c6f0000a-b9a7-43ce-9cc1-18f685cfc142",
   "metadata": {},
   "outputs": [],
   "source": [
    "\n",
    "from sklearn.tree import DecisionTreeClassifier,plot_tree\n",
    "from sklearn. datasets import load_iris\n",
    "\n",
    "iris=load_iris()\n",
    "x=iris.data\n",
    "y=iris.target\n",
    "model=DecisionTreeClassifier()\n",
    "model.fit(x,y)"
   ]
  },
  {
   "cell_type": "code",
   "execution_count": null,
   "id": "9ce49f6b-d7ca-4c7c-8899-4cc87b0d107e",
   "metadata": {},
   "outputs": [],
   "source": [
    "sample=[.2,3.4,.6,6.4]"
   ]
  },
  {
   "cell_type": "code",
   "execution_count": null,
   "id": "fa6effcd-e7f9-4fb4-89d7-4d38c617f356",
   "metadata": {},
   "outputs": [],
   "source": [
    "plt.figure (figsize=(14,5))\n",
    "plot_tree(model,fontsize=10,feature_names=['SL','SW','PL','PW'])\n",
    "plt.show()"
   ]
  },
  {
   "cell_type": "markdown",
   "id": "4fa8fe69",
   "metadata": {},
   "source": [
    "# Ensemble Learning\n",
    "  - It is a teachnique to train multiple weak models and them combine predict af weak model to make final prediction ( voting or avg\n",
    "  - There 2 two primary implementation of ensmble learning\n",
    "     - Bagging \n",
    "       - ALOGS: Randomforestclassifier,baggingclassifier,etc\n",
    "     - Boosting \n",
    "       - ALOGS: Adabosst, gradient XGbosst ,etc.\n",
    "     - Stacking\n",
    "       - Alogs: votingclassifier ,etc"
   ]
  },
  {
   "cell_type": "markdown",
   "id": "cf9e5fd8",
   "metadata": {},
   "source": [
    "# BAGGING\n",
    " - WE create multiple subset from traning set using\n",
    "    - random sampling with replacement\n",
    "    - random sampling without replacement\n",
    "    "
   ]
  },
  {
   "cell_type": "code",
   "execution_count": null,
   "id": "94f22161",
   "metadata": {},
   "outputs": [],
   "source": [
    "from sklearn .ensemble import RandomForestClassifier\n",
    "from sklearn .neighbors import KNeighborsClassifier\n",
    "from sklearn .ensemble import BaggingClassifier,VotingClassifier\n",
    "from sklearn.tree import DecisionTreeClassifier\n",
    "from sklearn .neighbors import KNeighborsClassifier\n",
    "from sklearn. linear_model import LogisticRegression"
   ]
  },
  {
   "cell_type": "code",
   "execution_count": null,
   "id": "27fffefc",
   "metadata": {},
   "outputs": [],
   "source": [
    "from sklearn .datasets import load_iris"
   ]
  },
  {
   "cell_type": "code",
   "execution_count": null,
   "id": "d4007b7b",
   "metadata": {},
   "outputs": [],
   "source": [
    "wine=load_iris()\n",
    "x=wine.data\n",
    "y=wine.target"
   ]
  },
  {
   "cell_type": "code",
   "execution_count": null,
   "id": "bd533dc7",
   "metadata": {
    "scrolled": true
   },
   "outputs": [],
   "source": [
    "model=RandomForestClassifier(n_estimators=10,bootstrap=True,max_samples=None,oob_score=True ,max_features=\"sqrt\")\n",
    "model.fit(x,y)"
   ]
  },
  {
   "cell_type": "code",
   "execution_count": null,
   "id": "efabc976",
   "metadata": {},
   "outputs": [],
   "source": [
    "sample=[1.5,4.9,.7,5.5]"
   ]
  },
  {
   "cell_type": "code",
   "execution_count": null,
   "id": "c8d67218",
   "metadata": {},
   "outputs": [],
   "source": [
    "model.predict([sample])"
   ]
  },
  {
   "cell_type": "code",
   "execution_count": null,
   "id": "917120b7",
   "metadata": {},
   "outputs": [],
   "source": [
    "model.predict_proba([sample])"
   ]
  },
  {
   "cell_type": "code",
   "execution_count": null,
   "id": "f8068217",
   "metadata": {},
   "outputs": [],
   "source": [
    "model.n_features_in_"
   ]
  },
  {
   "cell_type": "code",
   "execution_count": null,
   "id": "bce8c8cf",
   "metadata": {},
   "outputs": [],
   "source": [
    "model.base_estimator"
   ]
  },
  {
   "cell_type": "code",
   "execution_count": null,
   "id": "7552f10b",
   "metadata": {},
   "outputs": [],
   "source": [
    "model.bootstrap"
   ]
  },
  {
   "cell_type": "code",
   "execution_count": null,
   "id": "c6cbafa1",
   "metadata": {},
   "outputs": [],
   "source": [
    "model.classes_"
   ]
  },
  {
   "cell_type": "code",
   "execution_count": null,
   "id": "848ecd75",
   "metadata": {},
   "outputs": [],
   "source": [
    "model.criterion"
   ]
  },
  {
   "cell_type": "code",
   "execution_count": null,
   "id": "6469c932",
   "metadata": {},
   "outputs": [],
   "source": [
    "model.oob_score"
   ]
  },
  {
   "cell_type": "code",
   "execution_count": null,
   "id": "809918ca",
   "metadata": {},
   "outputs": [],
   "source": [
    "wine=load_iris()\n",
    "x=wine.data\n",
    "y=wine.target"
   ]
  },
  {
   "cell_type": "markdown",
   "id": "000b260f",
   "metadata": {},
   "source": [
    "# stacking"
   ]
  },
  {
   "cell_type": "code",
   "execution_count": null,
   "id": "a3c78b62",
   "metadata": {},
   "outputs": [],
   "source": [
    "\n",
    "weak_model_1=KNeighborsClassifier()\n",
    "weak_model_2=DecisionTreeClassifier()\n",
    "weak_model_3=LogisticRegression(max_iter=200)\n",
    "model=VotingClassifier(estimators=[(\"m1\",weak_model_1),(\"m2\",weak_model_2),(\"m3\",weak_model_3)])\n",
    "model.fit(x,y)\n",
    "                        "
   ]
  },
  {
   "cell_type": "code",
   "execution_count": null,
   "id": "fb018493",
   "metadata": {},
   "outputs": [],
   "source": [
    "sample=[1.5,4.9,.7,5.5]"
   ]
  },
  {
   "cell_type": "code",
   "execution_count": null,
   "id": "c02f01d1",
   "metadata": {},
   "outputs": [],
   "source": [
    "model.predict([sample])"
   ]
  },
  {
   "cell_type": "code",
   "execution_count": null,
   "id": "53a36bb0",
   "metadata": {},
   "outputs": [],
   "source": [
    "model.classes_"
   ]
  },
  {
   "cell_type": "code",
   "execution_count": null,
   "id": "3ee91a7d",
   "metadata": {},
   "outputs": [],
   "source": [
    "model.voting"
   ]
  },
  {
   "cell_type": "code",
   "execution_count": null,
   "id": "e04dc97e",
   "metadata": {},
   "outputs": [],
   "source": [
    "model.score"
   ]
  },
  {
   "cell_type": "markdown",
   "id": "69e7c80f",
   "metadata": {},
   "source": [
    "# boosting  ----- Adaboost"
   ]
  },
  {
   "cell_type": "code",
   "execution_count": null,
   "id": "f701f3da",
   "metadata": {},
   "outputs": [],
   "source": [
    "from sklearn .ensemble import AdaBoostClassifier\n",
    "model=AdaBoostClassifier()"
   ]
  },
  {
   "cell_type": "code",
   "execution_count": null,
   "id": "144fc801",
   "metadata": {},
   "outputs": [],
   "source": [
    "model.fit(x,y)"
   ]
  },
  {
   "cell_type": "code",
   "execution_count": null,
   "id": "4da79dda",
   "metadata": {},
   "outputs": [],
   "source": [
    "sample=[1.5,4.9,.7,5.5]"
   ]
  },
  {
   "cell_type": "code",
   "execution_count": null,
   "id": "dc573aa9",
   "metadata": {},
   "outputs": [],
   "source": [
    "model.predict_proba([sample])"
   ]
  },
  {
   "cell_type": "code",
   "execution_count": null,
   "id": "82089ef1",
   "metadata": {},
   "outputs": [],
   "source": [
    "model.predict([sample])"
   ]
  },
  {
   "cell_type": "code",
   "execution_count": null,
   "id": "528ddffa",
   "metadata": {},
   "outputs": [],
   "source": [
    "wk_model=LogisticRegression(max_iter=200)\n",
    "model=AdaBoostClassifier(estimator=wk_model)\n",
    "model.fit(x,y)\n",
    "model.predict([sample])"
   ]
  },
  {
   "cell_type": "code",
   "execution_count": null,
   "id": "3c41d4a7",
   "metadata": {},
   "outputs": [],
   "source": [
    "# There are not support \n",
    "wk_model=KNeighborsClassifier()\n",
    "model=AdaBoostClassifier(estimator=wk_model)\n",
    "model.fit(x,y)\n",
    "model.predict([sample])"
   ]
  },
  {
   "cell_type": "code",
   "execution_count": null,
   "id": "f7cdfddd",
   "metadata": {},
   "outputs": [],
   "source": [
    "wk_model=LogisticRegression(max_iter=200)\n",
    "model=AdaBoostClassifier(estimator=wk_model, n_estimators=50,learning_rate=10,algorithm='SAMME.R')\n",
    "model.fit(x,y)\n",
    "model.predict([sample])\n",
    "model.predict_proba([sample])"
   ]
  },
  {
   "cell_type": "markdown",
   "id": "8cde19da",
   "metadata": {},
   "source": [
    "#                         SVM\n",
    "  - support vector machine\n",
    "    - There two svm \n",
    "      - linear svm\n",
    "      - non linear svm"
   ]
  },
  {
   "cell_type": "code",
   "execution_count": null,
   "id": "ca59bfc4",
   "metadata": {},
   "outputs": [],
   "source": [
    "import pandas as pd\n",
    "from sklearn.svm import SVC\n",
    "from sklearn.model_selection import cross_val_score\n",
    "from sklearn.preprocessing import StandardScaler"
   ]
  },
  {
   "cell_type": "code",
   "execution_count": null,
   "id": "7892e42d",
   "metadata": {},
   "outputs": [],
   "source": [
    "df=pd.read_csv(\"e:/scientist/dataset/classification/fruits.csv\")\n",
    "x=df.iloc[:,:-1].values\n",
    "y=df.iloc[:,-1].values\n",
    "model=SVC(kernel='linear')\n",
    "cross_val_score(model,x,y,cv=5).mean()"
   ]
  },
  {
   "cell_type": "code",
   "execution_count": null,
   "id": "6937192f",
   "metadata": {},
   "outputs": [],
   "source": [
    "df=pd.read_csv(\"e:/scientist/dataset/classification/fruits.csv\")\n",
    "x=df.iloc[:,:-1].values\n",
    "y=df.iloc[:,-1].values\n",
    "model=SVC(kernel='linear',C=1.2)\n",
    "cross_val_score(model,x,y,cv=5).mean()"
   ]
  },
  {
   "cell_type": "code",
   "execution_count": null,
   "id": "abca9b17",
   "metadata": {},
   "outputs": [],
   "source": [
    "# rbf\n",
    "df=pd.read_csv(\"e:/scientist/dataset/classification/fruits.csv\")\n",
    "x=df.iloc[:,:-1].values\n",
    "y=df.iloc[:,-1].values\n",
    "model=SVC(kernel='rbf',gamma=8\n",
    "         )\n",
    "cross_val_score(model,x,y,cv=8).mean()"
   ]
  },
  {
   "cell_type": "code",
   "execution_count": null,
   "id": "55910fc5",
   "metadata": {},
   "outputs": [],
   "source": [
    "#poly\n",
    "df=pd.read_csv(\"e:/scientist/dataset/classification/fruits.csv\")\n",
    "x=df.iloc[:,:-1].values\n",
    "y=df.iloc[:,-1].values\n",
    "model=SVC(kernel='poly',degree=3\n",
    "         )\n",
    "cross_val_score(model,x,y,cv=8).mean()"
   ]
  },
  {
   "cell_type": "code",
   "execution_count": null,
   "id": "24f9b39f",
   "metadata": {},
   "outputs": [],
   "source": [
    "# create a new \n",
    "df=pd.read_csv('e:/scientist/dataset/classification/fruits_svc.csv')\n",
    "x=df.iloc[:,:-1].values\n",
    "y=df.iloc[:,-1].values\n",
    "model=SVC(kernel='linear',C=10\n",
    "         )\n",
    "cross_val_score(model,x,y,cv=6).mean()"
   ]
  },
  {
   "cell_type": "code",
   "execution_count": null,
   "id": "7feeaff7",
   "metadata": {},
   "outputs": [],
   "source": [
    "df=pd.read_csv('e:/scientist/dataset/classification/fruits_svc.csv')\n",
    "x=df.iloc[:,:-1].values\n",
    "y=df.iloc[:,-1].values\n",
    "model=SVC(kernel='poly',degree=4\n",
    "         )\n",
    "cross_val_score(model,x,y,cv=5).mean()"
   ]
  },
  {
   "cell_type": "markdown",
   "id": "01178b08",
   "metadata": {},
   "source": [
    "# SVM  AND MATHMETICS"
   ]
  },
  {
   "cell_type": "code",
   "execution_count": null,
   "id": "e48ff7c2",
   "metadata": {},
   "outputs": [],
   "source": [
    "import pandas as pd\n",
    "df=pd.read_csv(\"e:/scientist/dataset/classification/fruits.csv\")\n",
    "df\n"
   ]
  },
  {
   "cell_type": "code",
   "execution_count": null,
   "id": "0c2918b3",
   "metadata": {},
   "outputs": [],
   "source": [
    "x=df.iloc[:,:-1].values\n",
    "y=df.iloc[:,-1].values\n",
    "model=SVC(kernel='linear')\n",
    "model.fit(x,y)"
   ]
  },
  {
   "cell_type": "code",
   "execution_count": null,
   "id": "5486bef3",
   "metadata": {},
   "outputs": [],
   "source": [
    "model.coef_"
   ]
  },
  {
   "cell_type": "code",
   "execution_count": null,
   "id": "b5f80f65",
   "metadata": {},
   "outputs": [],
   "source": [
    "model.intercept_"
   ]
  },
  {
   "cell_type": "code",
   "execution_count": null,
   "id": "8dc5a870",
   "metadata": {},
   "outputs": [],
   "source": [
    "sample=[3,50]\n",
    "model.predict([sample])"
   ]
  },
  {
   "cell_type": "code",
   "execution_count": null,
   "id": "97e3c236",
   "metadata": {},
   "outputs": [],
   "source": [
    "model.decision_function([sample])"
   ]
  },
  {
   "cell_type": "code",
   "execution_count": null,
   "id": "5bca31e8",
   "metadata": {},
   "outputs": [],
   "source": [
    "model.decision_function_shape"
   ]
  },
  {
   "cell_type": "code",
   "execution_count": null,
   "id": "2a4d0f61",
   "metadata": {},
   "outputs": [],
   "source": [
    "gm=.1\n",
    "model=SVC(kernel='rbf',gamma=gm)\n",
    "model.fit(x,y)"
   ]
  },
  {
   "cell_type": "code",
   "execution_count": null,
   "id": "7f880bf4",
   "metadata": {},
   "outputs": [],
   "source": [
    "model.n_support_"
   ]
  },
  {
   "cell_type": "code",
   "execution_count": null,
   "id": "4c5e4cd5",
   "metadata": {},
   "outputs": [],
   "source": [
    "#model=SVC(kernel='poly')\n",
    "#model.fit(x,y)"
   ]
  },
  {
   "cell_type": "code",
   "execution_count": null,
   "id": "fd4ba197",
   "metadata": {},
   "outputs": [],
   "source": [
    "sample=[[3,70],[5,60]]"
   ]
  },
  {
   "cell_type": "code",
   "execution_count": null,
   "id": "fd776456",
   "metadata": {},
   "outputs": [],
   "source": [
    "model.n_support_"
   ]
  },
  {
   "cell_type": "code",
   "execution_count": null,
   "id": "453fe578",
   "metadata": {},
   "outputs": [],
   "source": [
    "model.support_"
   ]
  },
  {
   "cell_type": "code",
   "execution_count": null,
   "id": "ede84456",
   "metadata": {},
   "outputs": [],
   "source": [
    "model.support_vectors_"
   ]
  },
  {
   "cell_type": "code",
   "execution_count": null,
   "id": "ff22edab",
   "metadata": {},
   "outputs": [],
   "source": [
    "model.intercept_"
   ]
  },
  {
   "cell_type": "code",
   "execution_count": null,
   "id": "c8dd19cd",
   "metadata": {
    "scrolled": true
   },
   "outputs": [],
   "source": [
    "diff=model.support_vectors_-[3,70]\n",
    "diff**2"
   ]
  },
  {
   "cell_type": "code",
   "execution_count": null,
   "id": "93e339e9",
   "metadata": {},
   "outputs": [],
   "source": [
    "import numpy as np\n",
    "dc=clf.dual_coef_[0]\n",
    "sqr_eucl_dist=np.square(clf.suppost_vectors_-test)"
   ]
  },
  {
   "cell_type": "code",
   "execution_count": null,
   "id": "b346fa86",
   "metadata": {},
   "outputs": [],
   "source": [
    "model.dual_coef_"
   ]
  },
  {
   "cell_type": "code",
   "execution_count": null,
   "id": "07f19192",
   "metadata": {},
   "outputs": [],
   "source": [
    "import numpy as np\n",
    "sample=[3,70]\n",
    "dc=model.dual_coef_\n",
    "sqr_eual_dist=np.square(model.support_vectors_-sample).sum(axis=1)\n",
    "kernel=np.exp(-gm*sqr_eual_dist)\n",
    "kernal_dc=dc*kernel\n",
    "d=kernal_dc.sum()+model.intercept_\n",
    "print(d)"
   ]
  },
  {
   "cell_type": "markdown",
   "id": "942e9906",
   "metadata": {},
   "source": [
    "# COMPUTER VISION\n",
    "\n",
    "\n",
    "\n",
    "\n",
    "# image preprocessing"
   ]
  },
  {
   "cell_type": "code",
   "execution_count": null,
   "id": "198657db",
   "metadata": {},
   "outputs": [],
   "source": [
    "import cv2"
   ]
  },
  {
   "cell_type": "code",
   "execution_count": null,
   "id": "7080519d",
   "metadata": {},
   "outputs": [],
   "source": [
    "import matplotlib. pyplot as plt"
   ]
  },
  {
   "cell_type": "code",
   "execution_count": null,
   "id": "00ce3e2e",
   "metadata": {},
   "outputs": [],
   "source": [
    "\n",
    "IMG=cv2.imread(\"e:/prashant.jpg\",cv2.IMREAD_COLOR)\n",
    "\n",
    "IMG1=cv2.imread(\"e:/prashant.jpg\",cv2.IMREAD_GRAYSCALE)"
   ]
  },
  {
   "cell_type": "code",
   "execution_count": null,
   "id": "20430791",
   "metadata": {},
   "outputs": [],
   "source": [
    "plt.imshow(IMG)"
   ]
  },
  {
   "cell_type": "code",
   "execution_count": null,
   "id": "4390eb20",
   "metadata": {},
   "outputs": [],
   "source": [
    "plt.imshow(IMG1,cmap='gray')\n",
    "plt.show()"
   ]
  },
  {
   "cell_type": "code",
   "execution_count": null,
   "id": "31144516",
   "metadata": {
    "scrolled": true
   },
   "outputs": [],
   "source": [
    "plt.imshow(IMG1)\n",
    "plt.show()"
   ]
  },
  {
   "cell_type": "code",
   "execution_count": null,
   "id": "49584549",
   "metadata": {},
   "outputs": [],
   "source": [
    "cv2.namedWindow('prashant',cv2.WINDOW_NORMAL)# TO MAKE RESIZBALE\n",
    "cv2.imshow(\"prashant\",IMG)#DISPLAY IMG ON SEPARTE WINDOW\n",
    "cv2.waitkey()# HOLD WINDOW UNITLE USER PRESS ANY KEY  ( TIME- MILISECONG)\n",
    "cv2.destroywindow('prashant')# TO FREE WINDOW FORM MEMORY "
   ]
  },
  {
   "cell_type": "code",
   "execution_count": null,
   "id": "0c2a39a1",
   "metadata": {},
   "outputs": [],
   "source": [
    "print(type(IMG1))\n",
    "id(IMG1)\n",
    "print(IMG1.shape)\n",
    "print(IMG1.ndim)"
   ]
  },
  {
   "cell_type": "code",
   "execution_count": null,
   "id": "b853266e",
   "metadata": {},
   "outputs": [],
   "source": [
    "IMG"
   ]
  },
  {
   "cell_type": "code",
   "execution_count": null,
   "id": "14b7ad3e",
   "metadata": {},
   "outputs": [],
   "source": [
    "b=cv2.split(IMG1)\n"
   ]
  },
  {
   "cell_type": "code",
   "execution_count": null,
   "id": "025bdd9b",
   "metadata": {},
   "outputs": [],
   "source": [
    "IMG1=cv2.flip(IMG,-1) # HORIZOMTAL(MIRROR EFFECT)\n",
    "IMG2=cv2.flip(IMG,0)  # BOTH HORIZOMTAL & VERTICAL\n",
    "IMG3=cv2.flip(IMG,1) # VERTICAL\n",
    "\n",
    "\n",
    "cv2.imshow('IMG1',IMG)\n",
    "cv2.imshow('IMG2',IMG)\n",
    "cv2.imshow('IMG3',IMG)\n",
    "\n",
    "         \n"
   ]
  },
  {
   "cell_type": "code",
   "execution_count": null,
   "id": "177f4314",
   "metadata": {},
   "outputs": [],
   "source": [
    "# IMG RESIZE"
   ]
  },
  {
   "cell_type": "code",
   "execution_count": null,
   "id": "f5598987",
   "metadata": {},
   "outputs": [],
   "source": [
    "IMG=cv2.resize(IMG,(500,1200))\n",
    "cv2.imshow('img',IMG)\n",
    "cv2.waitkey()\n",
    "cv2.destroywindow()"
   ]
  },
  {
   "cell_type": "code",
   "execution_count": null,
   "id": "7a230147",
   "metadata": {},
   "outputs": [],
   "source": [
    " # contrast vs brightness\n",
    "IMG=cv2.convertScaleAbs(IMG,alpha=1,beta=3) # contrast & brightness\n",
    "cv2.imshow('img',IMG)\n",
    "cv2.waitkey()\n",
    "cv2.destroywindow()"
   ]
  },
  {
   "cell_type": "code",
   "execution_count": null,
   "id": "645fe6ca",
   "metadata": {},
   "outputs": [],
   "source": [
    "import cv2"
   ]
  },
  {
   "cell_type": "code",
   "execution_count": null,
   "id": "5b73f82a",
   "metadata": {},
   "outputs": [],
   "source": [
    "# line / rectangle / text / saved img\n",
    "IMG=cv2.imread(\"e:/prashant.jpg\",cv2.IMREAD_COLOR)\n",
    "#cv2.line(IMG,(100,700),(700,600),(244,232,45),5)\n",
    "cv2.rectangle(IMG,(1810,2800),(710,1700),(23,43,234),18)\n",
    "cv2.putText(IMG,\"prashant\",(660,1500),cv2.FONT_ITALIC,9,(255,255,255),19)\n",
    "cv2.imshow(\"IMG\",IMG)\n",
    "cv2.imwrite(\"e:/me.jpg\",IMG)\n",
    "cv2.waitkey()\n",
    "cv2.destroyAllwindow()\n",
    "\n"
   ]
  },
  {
   "cell_type": "code",
   "execution_count": null,
   "id": "0812e8ba",
   "metadata": {},
   "outputs": [],
   "source": [
    "import cv2\n",
    "vdo=cv2.VideoCapture(0)\n",
    "i=1\n",
    "while True:\n",
    "    isIMG,IMG=vdo.read()\n",
    "    if isIMG==False:\n",
    "        break\n",
    "    cv2.imshow(\"IMG\",IMG)\n",
    "    cv2.imwrite(f\"e:/my/{i}.png\",IMG)\n",
    "    i+=1\n",
    "    key=cv2.waitkey(100)\n",
    "    if key==ord('c'):\n",
    "        break\n",
    "cv2.destroyALLwindow()\n",
    "vdo.release()\n"
   ]
  },
  {
   "cell_type": "code",
   "execution_count": null,
   "id": "ea1457bf",
   "metadata": {},
   "outputs": [],
   "source": []
  },
  {
   "cell_type": "code",
   "execution_count": null,
   "id": "52ae7d7d",
   "metadata": {},
   "outputs": [],
   "source": []
  },
  {
   "cell_type": "code",
   "execution_count": null,
   "id": "1a27e22e",
   "metadata": {},
   "outputs": [],
   "source": []
  },
  {
   "cell_type": "code",
   "execution_count": null,
   "id": "0f281dbe",
   "metadata": {},
   "outputs": [],
   "source": []
  },
  {
   "cell_type": "code",
   "execution_count": null,
   "id": "07ee7ed4",
   "metadata": {},
   "outputs": [],
   "source": []
  },
  {
   "cell_type": "markdown",
   "id": "544d9b9f",
   "metadata": {},
   "source": [
    "# feature Extraction"
   ]
  },
  {
   "cell_type": "code",
   "execution_count": null,
   "id": "490bc511",
   "metadata": {},
   "outputs": [],
   "source": [
    "import cv2\n",
    "import os"
   ]
  },
  {
   "cell_type": "code",
   "execution_count": null,
   "id": "caf07de0",
   "metadata": {},
   "outputs": [],
   "source": [
    "# i, "
   ]
  },
  {
   "cell_type": "code",
   "execution_count": null,
   "id": "cc5f508c",
   "metadata": {},
   "outputs": [],
   "source": [
    "names=os.listdir(\"e:/scientist/dataset/gender_training/train/male/\")\n",
    "for img in names:\n",
    "    print(img)\n",
    "    cv2.imread(f\"e:/scientist/dataset/gender_training/train/male/{names}\")\n",
    "    gray=cv2.cvtcolor(img,cv2.COLOR_BGR2GRAY)\n",
    "    gray=cv2.resize(gray,(90,90))\n",
    "    gray_id=gray.flatten()\n",
    "    gray_id=gray_1d/255\n",
    "    x.append(gray_1d)\n",
    "    y.append('male')\n",
    "    \n",
    "    names=os.listdir(\"e:/scientist/dataset/gender_training/train/male/\")\n",
    "for img in names:\n",
    "    print(img)\n",
    "    cv2.imread(f\"e:/scientist/dataset/gender_training/train/male/{names}\")\n",
    "    gray=cv2.cvtcolor(img,cv2.COLOR_BGR2GRAY)\n",
    "    gray=cv2.resize(gray,(90,90))\n",
    "    gray_id=gray.flatten()\n",
    "    gray_id=gray_1d/255\n",
    "    x.append(gray_1d)\n",
    "    y.append('male')"
   ]
  },
  {
   "cell_type": "code",
   "execution_count": null,
   "id": "e0c6c27d",
   "metadata": {},
   "outputs": [],
   "source": []
  }
 ],
 "metadata": {
  "kernelspec": {
   "display_name": "Python 3 (ipykernel)",
   "language": "python",
   "name": "python3"
  },
  "language_info": {
   "codemirror_mode": {
    "name": "ipython",
    "version": 3
   },
   "file_extension": ".py",
   "mimetype": "text/x-python",
   "name": "python",
   "nbconvert_exporter": "python",
   "pygments_lexer": "ipython3",
   "version": "3.11.6"
  }
 },
 "nbformat": 4,
 "nbformat_minor": 5
}
